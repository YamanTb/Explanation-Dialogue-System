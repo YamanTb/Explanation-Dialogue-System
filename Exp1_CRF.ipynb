{
 "cells": [
  {
   "cell_type": "markdown",
   "metadata": {},
   "source": [
    "# CRF Model Training\r\n",
    "Based on Henning and Alshomary's work, in this notebook we split and train the modified dataset"
   ]
  },
  {
   "cell_type": "code",
   "execution_count": 2,
   "metadata": {},
   "outputs": [],
   "source": [
    "%load_ext autoreload"
   ]
  },
  {
   "cell_type": "code",
   "execution_count": 3,
   "metadata": {},
   "outputs": [
    {
     "name": "stdout",
     "output_type": "stream",
     "text": [
      "Requirement already satisfied: pytorch-crf in /usr/local/lib/python3.8/dist-packages (0.7.2)\n",
      "\u001b[33mWARNING: You are using pip version 21.3.1; however, version 23.3 is available.\n",
      "You should consider upgrading via the '/usr/bin/python3 -m pip install --upgrade pip' command.\u001b[0m\n",
      "Note: you may need to restart the kernel to use updated packages.\n"
     ]
    }
   ],
   "source": [
    "%pip install pytorch-crf"
   ]
  },
  {
   "cell_type": "code",
   "execution_count": 5,
   "metadata": {},
   "outputs": [],
   "source": [
    "import sys\n",
    "import os\n",
    "\n",
    "sys.path.insert(0, './lib/src')\n",
    "os.environ['CUDA_LAUNCH_BLOCKING'] = \"1\" # for debugging"
   ]
  },
  {
   "cell_type": "code",
   "execution_count": 1,
   "metadata": {},
   "outputs": [],
   "source": [
    "from tqdm import tqdm\n",
    "from torch.utils.data import DataLoader\n",
    "from torch.nn import functional as F\n",
    "from transformers import BertConfig, BertTokenizer, get_polynomial_decay_schedule_with_warmup\n",
    "from itertools import chain\n",
    "\n",
    "import torch\n",
    "import random\n",
    "import os, sys\n",
    "import numpy as np\n",
    "import argparse\n",
    "import time\n",
    "import json\n",
    "import pandas as pd\n",
    "\n",
    "from glob import glob\n",
    "from sklearn.model_selection import train_test_split"
   ]
  },
  {
   "cell_type": "code",
   "execution_count": 7,
   "metadata": {},
   "outputs": [],
   "source": [
    "%autoreload\n",
    "from multi_turn_bert import MultiTurnBert\n",
    "from custom_dataset import CustomDataset, process_df\n",
    "from main import *"
   ]
  },
  {
   "cell_type": "code",
   "execution_count": 8,
   "metadata": {},
   "outputs": [],
   "source": [
    "import torch \n",
    "import random\n",
    "torch.manual_seed(123)\n",
    "torch.cuda.manual_seed(123)\n",
    "np.random.seed(123)\n",
    "random.seed(123)"
   ]
  },
  {
   "cell_type": "code",
   "execution_count": 9,
   "metadata": {},
   "outputs": [],
   "source": [
    "#tokenizer = BertTokenizer.from_pretrained('bert-base-uncased')"
   ]
  },
  {
   "cell_type": "code",
   "execution_count": 10,
   "metadata": {},
   "outputs": [],
   "source": [
    "mace_annotation_df = pd.read_pickle('./data_turns.pkl')"
   ]
  },
  {
   "cell_type": "code",
   "execution_count": 11,
   "metadata": {},
   "outputs": [],
   "source": [
    "mace_annotation_df['turn_len'] = mace_annotation_df.turn_text.apply(lambda x: len(x['text'].split()))"
   ]
  },
  {
   "cell_type": "code",
   "execution_count": 12,
   "metadata": {},
   "outputs": [
    {
     "data": {
      "text/plain": [
       "<AxesSubplot:>"
      ]
     },
     "execution_count": 12,
     "metadata": {},
     "output_type": "execute_result"
    },
    {
     "data": {
      "image/png": "[encoded data removed]",
      "text/plain": [
       "<Figure size 640x480 with 1 Axes>"
      ]
     },
     "metadata": {},
     "output_type": "display_data"
    }
   ],
   "source": [
    "mace_annotation_df.turn_len.hist()"
   ]
  },
  {
   "cell_type": "code",
   "execution_count": 13,
   "metadata": {},
   "outputs": [],
   "source": [
    "mace_annotation_df['turn_text'] = mace_annotation_df.apply(lambda row: {\n",
    "                                            'author': row['turn_text']['author'], \n",
    "                                            'text' : row['topic'].replace('_', ' ') + ' [SEP] ' +  row['turn_text']['text']\n",
    "                                           } ,axis=1)"
   ]
  },
  {
   "cell_type": "code",
   "execution_count": 14,
   "metadata": {},
   "outputs": [],
   "source": [
    "mace_annotation_df = mace_annotation_df.groupby('task_id').agg({'turn_text': lambda rows: list(rows),\n",
    "                                                                'topic': lambda rows: list(rows)[0],\n",
    "                                                               'topic_func_label': lambda rows: list(rows),\n",
    "                                                               'dlg_act_label': lambda rows: list(rows),\n",
    "                                                               'exp_act_label': lambda rows: list(rows)}).reset_index()"
   ]
  },
  {
   "cell_type": "code",
   "execution_count": 15,
   "metadata": {},
   "outputs": [],
   "source": [
    "mace_annotation_df['num_turns_per_topic'] = mace_annotation_df.topic_func_label.apply(lambda x : len(x))"
   ]
  },
  {
   "cell_type": "code",
   "execution_count": 16,
   "metadata": {},
   "outputs": [
    {
     "data": {
      "text/plain": [
       "<AxesSubplot:>"
      ]
     },
     "execution_count": 16,
     "metadata": {},
     "output_type": "execute_result"
    },
    {
     "data": {
      "image/png": "[encoded data removed]",
      "text/plain": [
       "<Figure size 640x480 with 1 Axes>"
      ]
     },
     "metadata": {},
     "output_type": "display_data"
    }
   ],
   "source": [
    "mace_annotation_df.num_turns_per_topic.hist()"
   ]
  },
  {
   "cell_type": "code",
   "execution_count": 17,
   "metadata": {},
   "outputs": [
    {
     "data": {
      "text/plain": [
       "57"
      ]
     },
     "execution_count": 17,
     "metadata": {},
     "output_type": "execute_result"
    }
   ],
   "source": [
    "mace_annotation_df.num_turns_per_topic.max()"
   ]
  },
  {
   "cell_type": "code",
   "execution_count": 18,
   "metadata": {},
   "outputs": [],
   "source": [
    "parser = argparse.ArgumentParser()\n",
    "args = argparse.Namespace(turn_type='multi', pooling='cls', sp1_token='[EXPLAINER]', sp2_token='[EXPLAINEE]', bert_type='bert-base-uncased',\n",
    "                          max_len=256, max_turns=56, dropout=0.1, device='cuda', learning_rate=2e-5, warmup_ratio=0.01,\n",
    "                          batch_size=1, num_workers=2, num_epochs=5, num_classes=-1, ckpt_dir='./cross-val-models', planning=True, start_token='[START]')"
   ]
  },
  {
   "cell_type": "markdown",
   "metadata": {},
   "source": [
    "### Train to predict explanation act:"
   ]
  },
  {
   "cell_type": "code",
   "execution_count": 18,
   "metadata": {},
   "outputs": [],
   "source": [
    "args.ckpt_dir='./exp_act_models'\n",
    "args.num_classes=10"
   ]
  },
  {
   "cell_type": "code",
   "execution_count": 19,
   "metadata": {},
   "outputs": [],
   "source": [
    "label_clm = 'exp_act_label'\n",
    "mace_annotation_df['label'] = mace_annotation_df[label_clm].apply(lambda labels: [int(x[2:4])-1 for x in labels]) #making labels parasable as integers"
   ]
  },
  {
   "cell_type": "code",
   "execution_count": 20,
   "metadata": {},
   "outputs": [],
   "source": [
    "'''\n",
    "topics = mace_annotation_df.topic.unique()\n",
    "train_topics, valid_topics, test_topics = topics[:9], topics[9:11], topics[11:] \n",
    "\n",
    "\n",
    "training_df = mace_annotation_df[mace_annotation_df.topic.isin(train_topics)].copy()\n",
    "valid_df = mace_annotation_df[mace_annotation_df.topic.isin(valid_topics)].copy()\n",
    "test_df = mace_annotation_df[mace_annotation_df.topic.isin(test_topics)].copy()'''\n",
    "\n",
    "train, validate, test = \\\n",
    "              np.split(mace_annotation_df.sample(frac=1, random_state=42), \n",
    "                       [int(.6*len(mace_annotation_df)), int(.8*len(mace_annotation_df))])\n",
    "\n",
    "\n",
    "training_df = train.copy()\n",
    "valid_df = validate.copy()\n",
    "test_df = test.copy()"
   ]
  },
  {
   "cell_type": "code",
   "execution_count": 21,
   "metadata": {
    "collapsed": true,
    "jupyter": {
     "outputs_hidden": true
    },
    "scrolled": true,
    "tags": []
   },
   "outputs": [
    {
     "name": "stderr",
     "output_type": "stream",
     "text": [
      "278it [00:02, 97.25it/s] \n",
      "100%|██████████| 278/278 [00:00<00:00, 3550.38it/s]\n"
     ]
    },
    {
     "name": "stdout",
     "output_type": "stream",
     "text": [
      "2992 samples are prepared\n"
     ]
    },
    {
     "name": "stderr",
     "output_type": "stream",
     "text": [
      "93it [00:00, 106.56it/s]\n",
      "100%|██████████| 93/93 [00:00<00:00, 3756.38it/s]\n"
     ]
    },
    {
     "name": "stdout",
     "output_type": "stream",
     "text": [
      "1063 samples are prepared\n"
     ]
    },
    {
     "name": "stderr",
     "output_type": "stream",
     "text": [
      "93it [00:00, 111.07it/s]\n",
      "100%|██████████| 93/93 [00:00<00:00, 4166.71it/s]\n"
     ]
    },
    {
     "name": "stdout",
     "output_type": "stream",
     "text": [
      "1017 samples are prepared\n"
     ]
    },
    {
     "name": "stderr",
     "output_type": "stream",
     "text": [
      "Some weights of the model checkpoint at bert-base-uncased were not used when initializing BertModel: ['cls.predictions.bias', 'cls.predictions.transform.LayerNorm.bias', 'cls.predictions.transform.dense.weight', 'cls.predictions.decoder.weight', 'cls.seq_relationship.bias', 'cls.seq_relationship.weight', 'cls.predictions.transform.dense.bias', 'cls.predictions.transform.LayerNorm.weight']\n",
      "- This IS expected if you are initializing BertModel from the checkpoint of a model trained on another task or with another architecture (e.g. initializing a BertForSequenceClassification model from a BertForPreTraining model).\n",
      "- This IS NOT expected if you are initializing BertModel from the checkpoint of a model that you expect to be exactly identical (initializing a BertForSequenceClassification model from a BertForSequenceClassification model).\n"
     ]
    },
    {
     "name": "stdout",
     "output_type": "stream",
     "text": [
      "Training starts.\n",
      "################################################## Epoch: 1 ##################################################\n"
     ]
    },
    {
     "name": "stderr",
     "output_type": "stream",
     "text": [
      "100%|██████████| 2992/2992 [31:02<00:00,  1.61it/s]\n"
     ]
    },
    {
     "name": "stdout",
     "output_type": "stream",
     "text": [
      "Train loss: 4.201074439773266 || Train accuracy: 0.8441873696188128 || Train F1 score: 0.7937157817461672\n",
      "Validation processing...\n"
     ]
    },
    {
     "name": "stderr",
     "output_type": "stream",
     "text": [
      "100%|██████████| 1063/1063 [03:41<00:00,  4.80it/s]\n"
     ]
    },
    {
     "name": "stdout",
     "output_type": "stream",
     "text": [
      "***** Current best checkpoint is saved. *****\n",
      "Best validtion f1 score: 0.40422568081448207\n",
      "Validation loss: 14.364411083124542 || Validation accuracy: 0.6861300251842178 || Current validation F1 score: 0.40422568081448207\n",
      "################################################## Epoch: 2 ##################################################\n"
     ]
    },
    {
     "name": "stderr",
     "output_type": "stream",
     "text": [
      "100%|██████████| 2992/2992 [31:00<00:00,  1.61it/s]\n"
     ]
    },
    {
     "name": "stdout",
     "output_type": "stream",
     "text": [
      "Train loss: 1.895338973418914 || Train accuracy: 0.9212592452114545 || Train F1 score: 0.9186525523431698\n",
      "Validation processing...\n"
     ]
    },
    {
     "name": "stderr",
     "output_type": "stream",
     "text": [
      "100%|██████████| 1063/1063 [03:41<00:00,  4.80it/s]\n"
     ]
    },
    {
     "name": "stdout",
     "output_type": "stream",
     "text": [
      "***** Current best checkpoint is saved. *****\n",
      "Best validtion f1 score: 0.4223635519825071\n",
      "Validation loss: 15.207017419479529 || Validation accuracy: 0.6907004943568696 || Current validation F1 score: 0.4223635519825071\n",
      "################################################## Epoch: 3 ##################################################\n"
     ]
    },
    {
     "name": "stderr",
     "output_type": "stream",
     "text": [
      "100%|██████████| 2992/2992 [30:59<00:00,  1.61it/s]\n"
     ]
    },
    {
     "name": "stdout",
     "output_type": "stream",
     "text": [
      "Train loss: 1.6978453168257035 || Train accuracy: 0.9253935141285795 || Train F1 score: 0.925593742053944\n",
      "Validation processing...\n"
     ]
    },
    {
     "name": "stderr",
     "output_type": "stream",
     "text": [
      "100%|██████████| 1063/1063 [03:41<00:00,  4.80it/s]\n"
     ]
    },
    {
     "name": "stdout",
     "output_type": "stream",
     "text": [
      "***** Current best checkpoint is saved. *****\n",
      "Best validtion f1 score: 0.4239728898067435\n",
      "Validation loss: 16.94753417896978 || Validation accuracy: 0.6885551720921556 || Current validation F1 score: 0.4239728898067435\n",
      "################################################## Epoch: 4 ##################################################\n"
     ]
    },
    {
     "name": "stderr",
     "output_type": "stream",
     "text": [
      "100%|██████████| 2992/2992 [30:59<00:00,  1.61it/s]\n"
     ]
    },
    {
     "name": "stdout",
     "output_type": "stream",
     "text": [
      "Train loss: 1.6310867569982048 || Train accuracy: 0.9250521524748719 || Train F1 score: 0.9255799265985036\n",
      "Validation processing...\n"
     ]
    },
    {
     "name": "stderr",
     "output_type": "stream",
     "text": [
      "100%|██████████| 1063/1063 [03:41<00:00,  4.80it/s]\n"
     ]
    },
    {
     "name": "stdout",
     "output_type": "stream",
     "text": [
      "The f1 score did not improve by 0.0001. Patience: 1\n",
      "Best validtion f1 score: 0.4239728898067435\n",
      "Validation loss: 17.181477290105953 || Validation accuracy: 0.6888349967353792 || Current validation F1 score: 0.4098611546647583\n",
      "################################################## Epoch: 5 ##################################################\n"
     ]
    },
    {
     "name": "stderr",
     "output_type": "stream",
     "text": [
      "100%|██████████| 2992/2992 [31:00<00:00,  1.61it/s]\n"
     ]
    },
    {
     "name": "stdout",
     "output_type": "stream",
     "text": [
      "Train loss: 1.5949188982420426 || Train accuracy: 0.9267589607434098 || Train F1 score: 0.9274729641903494\n",
      "Validation processing...\n"
     ]
    },
    {
     "name": "stderr",
     "output_type": "stream",
     "text": [
      "100%|██████████| 1063/1063 [03:41<00:00,  4.80it/s]\n"
     ]
    },
    {
     "name": "stdout",
     "output_type": "stream",
     "text": [
      "The f1 score did not improve by 0.0001. Patience: 2\n",
      "Best validtion f1 score: 0.4239728898067435\n",
      "Validation loss: 17.32707211484577 || Validation accuracy: 0.6920996175729875 || Current validation F1 score: 0.4100057129033113\n",
      "Training finished!\n",
      "Testing the model...\n"
     ]
    },
    {
     "name": "stderr",
     "output_type": "stream",
     "text": [
      "100%|██████████| 1017/1017 [03:31<00:00,  4.80it/s]"
     ]
    },
    {
     "name": "stdout",
     "output_type": "stream",
     "text": [
      "<Test Result>\n",
      "Test accuracy: 0.6414563197898095 || Test F1 score: 0.4131984535494772\n",
      "GOOD BYE.\n"
     ]
    },
    {
     "name": "stderr",
     "output_type": "stream",
     "text": [
      "\n"
     ]
    }
   ],
   "source": [
    "model, eval_results = run_experiment(args, training_df, valid_df, test_df)"
   ]
  },
  {
   "cell_type": "code",
   "execution_count": 22,
   "metadata": {},
   "outputs": [],
   "source": [
    "args.planning = False #with last turntext"
   ]
  },
  {
   "cell_type": "code",
   "execution_count": 23,
   "metadata": {
    "scrolled": true
   },
   "outputs": [
    {
     "name": "stderr",
     "output_type": "stream",
     "text": [
      "278it [00:02, 97.39it/s] \n",
      "100%|██████████| 278/278 [00:00<00:00, 3829.72it/s]\n"
     ]
    },
    {
     "name": "stdout",
     "output_type": "stream",
     "text": [
      "2992 samples are prepared\n"
     ]
    },
    {
     "name": "stderr",
     "output_type": "stream",
     "text": [
      "93it [00:00, 107.81it/s]\n",
      "100%|██████████| 93/93 [00:00<00:00, 4271.37it/s]\n"
     ]
    },
    {
     "name": "stdout",
     "output_type": "stream",
     "text": [
      "1063 samples are prepared\n"
     ]
    },
    {
     "name": "stderr",
     "output_type": "stream",
     "text": [
      "93it [00:00, 109.49it/s]\n",
      "100%|██████████| 93/93 [00:00<00:00, 3608.25it/s]\n"
     ]
    },
    {
     "name": "stdout",
     "output_type": "stream",
     "text": [
      "1017 samples are prepared\n"
     ]
    },
    {
     "name": "stderr",
     "output_type": "stream",
     "text": [
      "Some weights of the model checkpoint at bert-base-uncased were not used when initializing BertModel: ['cls.predictions.bias', 'cls.predictions.transform.LayerNorm.bias', 'cls.predictions.transform.dense.weight', 'cls.predictions.decoder.weight', 'cls.seq_relationship.bias', 'cls.seq_relationship.weight', 'cls.predictions.transform.dense.bias', 'cls.predictions.transform.LayerNorm.weight']\n",
      "- This IS expected if you are initializing BertModel from the checkpoint of a model trained on another task or with another architecture (e.g. initializing a BertForSequenceClassification model from a BertForPreTraining model).\n",
      "- This IS NOT expected if you are initializing BertModel from the checkpoint of a model that you expect to be exactly identical (initializing a BertForSequenceClassification model from a BertForSequenceClassification model).\n"
     ]
    },
    {
     "name": "stdout",
     "output_type": "stream",
     "text": [
      "Training starts.\n",
      "################################################## Epoch: 1 ##################################################\n"
     ]
    },
    {
     "name": "stderr",
     "output_type": "stream",
     "text": [
      "100%|██████████| 2992/2992 [31:00<00:00,  1.61it/s]\n"
     ]
    },
    {
     "name": "stdout",
     "output_type": "stream",
     "text": [
      "Train loss: 3.092118809766629 || Train accuracy: 0.8938365256969467 || Train F1 score: 0.8252742970845108\n",
      "Validation processing...\n"
     ]
    },
    {
     "name": "stderr",
     "output_type": "stream",
     "text": [
      "100%|██████████| 1063/1063 [03:41<00:00,  4.80it/s]\n"
     ]
    },
    {
     "name": "stdout",
     "output_type": "stream",
     "text": [
      "***** Current best checkpoint is saved. *****\n",
      "Best validtion f1 score: 0.41403814587339316\n",
      "Validation loss: 14.677751857384353 || Validation accuracy: 0.6996548829400242 || Current validation F1 score: 0.41403814587339316\n",
      "################################################## Epoch: 2 ##################################################\n"
     ]
    },
    {
     "name": "stderr",
     "output_type": "stream",
     "text": [
      "100%|██████████| 2992/2992 [31:00<00:00,  1.61it/s]\n"
     ]
    },
    {
     "name": "stdout",
     "output_type": "stream",
     "text": [
      "Train loss: 0.5552101278687543 || Train accuracy: 0.979290726341741 || Train F1 score: 0.9662693613010905\n",
      "Validation processing...\n"
     ]
    },
    {
     "name": "stderr",
     "output_type": "stream",
     "text": [
      "100%|██████████| 1063/1063 [03:41<00:00,  4.80it/s]\n"
     ]
    },
    {
     "name": "stdout",
     "output_type": "stream",
     "text": [
      "The f1 score did not improve by 0.0001. Patience: 1\n",
      "Best validtion f1 score: 0.41403814587339316\n",
      "Validation loss: 17.438216128667793 || Validation accuracy: 0.7102882193825203 || Current validation F1 score: 0.39232216201507136\n",
      "################################################## Epoch: 3 ##################################################\n"
     ]
    },
    {
     "name": "stderr",
     "output_type": "stream",
     "text": [
      "100%|██████████| 2992/2992 [31:00<00:00,  1.61it/s]\n"
     ]
    },
    {
     "name": "stdout",
     "output_type": "stream",
     "text": [
      "Train loss: 0.3462157667001938 || Train accuracy: 0.9829698463872558 || Train F1 score: 0.9721491283128076\n",
      "Validation processing...\n"
     ]
    },
    {
     "name": "stderr",
     "output_type": "stream",
     "text": [
      "100%|██████████| 1063/1063 [03:41<00:00,  4.80it/s]\n"
     ]
    },
    {
     "name": "stdout",
     "output_type": "stream",
     "text": [
      "The f1 score did not improve by 0.0001. Patience: 2\n",
      "Best validtion f1 score: 0.41403814587339316\n",
      "Validation loss: 18.69537065708738 || Validation accuracy: 0.6966700867456393 || Current validation F1 score: 0.3905215556173697\n",
      "################################################## Epoch: 4 ##################################################\n"
     ]
    },
    {
     "name": "stderr",
     "output_type": "stream",
     "text": [
      "100%|██████████| 2992/2992 [31:00<00:00,  1.61it/s]\n"
     ]
    },
    {
     "name": "stdout",
     "output_type": "stream",
     "text": [
      "Train loss: 0.26248399204111356 || Train accuracy: 0.9857765977621847 || Train F1 score: 0.9777127342503634\n",
      "Validation processing...\n"
     ]
    },
    {
     "name": "stderr",
     "output_type": "stream",
     "text": [
      "100%|██████████| 1063/1063 [03:41<00:00,  4.80it/s]\n"
     ]
    },
    {
     "name": "stdout",
     "output_type": "stream",
     "text": [
      "The f1 score did not improve by 0.0001. Patience: 3\n",
      "Best validtion f1 score: 0.41403814587339316\n",
      "Validation loss: 19.61859427817229 || Validation accuracy: 0.7076765227124335 || Current validation F1 score: 0.4067474961513088\n",
      "Run out of patience. Abort!\n",
      "Training finished!\n",
      "Testing the model...\n"
     ]
    },
    {
     "name": "stderr",
     "output_type": "stream",
     "text": [
      "100%|██████████| 1017/1017 [03:31<00:00,  4.80it/s]"
     ]
    },
    {
     "name": "stdout",
     "output_type": "stream",
     "text": [
      "<Test Result>\n",
      "Test accuracy: 0.6656657595946326 || Test F1 score: 0.4183432487904611\n",
      "GOOD BYE.\n"
     ]
    },
    {
     "name": "stderr",
     "output_type": "stream",
     "text": [
      "\n"
     ]
    }
   ],
   "source": [
    "model, eval_results = run_experiment(args, training_df, valid_df, test_df)"
   ]
  },
  {
   "cell_type": "markdown",
   "metadata": {},
   "source": [
    "### Train to predict topic relation:"
   ]
  },
  {
   "cell_type": "code",
   "execution_count": 19,
   "metadata": {},
   "outputs": [],
   "source": [
    "args.ckpt_dir='./topic_rel_models'\n",
    "args.num_classes=4\n",
    "args.planning = True #without last turntext"
   ]
  },
  {
   "cell_type": "code",
   "execution_count": 20,
   "metadata": {},
   "outputs": [],
   "source": [
    "label_clm = 'topic_func_label'"
   ]
  },
  {
   "cell_type": "code",
   "execution_count": 21,
   "metadata": {},
   "outputs": [],
   "source": [
    "mace_annotation_df['label'] = mace_annotation_df[label_clm].apply(lambda labels: [int(x[2:4])-1 for x in labels]) #making labels parasable as integers"
   ]
  },
  {
   "cell_type": "code",
   "execution_count": 22,
   "metadata": {},
   "outputs": [],
   "source": [
    "#split data\n",
    "train, validate, test = \\\n",
    "              np.split(mace_annotation_df.sample(frac=1, random_state=42), \n",
    "                       [int(.6*len(mace_annotation_df)), int(.8*len(mace_annotation_df))])\n",
    "\n",
    "training_df = train.copy()\n",
    "valid_df = validate.copy()\n",
    "test_df = test.copy()"
   ]
  },
  {
   "cell_type": "code",
   "execution_count": 23,
   "metadata": {
    "collapsed": true,
    "jupyter": {
     "outputs_hidden": true
    },
    "scrolled": true,
    "tags": []
   },
   "outputs": [
    {
     "name": "stderr",
     "output_type": "stream",
     "text": [
      "278it [00:02, 96.83it/s] \n",
      "100%|██████████| 278/278 [00:00<00:00, 3854.31it/s]\n"
     ]
    },
    {
     "name": "stdout",
     "output_type": "stream",
     "text": [
      "2992 samples are prepared\n"
     ]
    },
    {
     "name": "stderr",
     "output_type": "stream",
     "text": [
      "93it [00:00, 106.10it/s]\n",
      "100%|██████████| 93/93 [00:00<00:00, 4635.80it/s]\n"
     ]
    },
    {
     "name": "stdout",
     "output_type": "stream",
     "text": [
      "1063 samples are prepared\n"
     ]
    },
    {
     "name": "stderr",
     "output_type": "stream",
     "text": [
      "93it [00:00, 108.81it/s]\n",
      "100%|██████████| 93/93 [00:00<00:00, 4560.04it/s]\n"
     ]
    },
    {
     "name": "stdout",
     "output_type": "stream",
     "text": [
      "1017 samples are prepared\n"
     ]
    },
    {
     "name": "stderr",
     "output_type": "stream",
     "text": [
      "Some weights of the model checkpoint at bert-base-uncased were not used when initializing BertModel: ['cls.predictions.transform.dense.bias', 'cls.seq_relationship.bias', 'cls.predictions.transform.LayerNorm.weight', 'cls.predictions.transform.dense.weight', 'cls.predictions.decoder.weight', 'cls.predictions.transform.LayerNorm.bias', 'cls.predictions.bias', 'cls.seq_relationship.weight']\n",
      "- This IS expected if you are initializing BertModel from the checkpoint of a model trained on another task or with another architecture (e.g. initializing a BertForSequenceClassification model from a BertForPreTraining model).\n",
      "- This IS NOT expected if you are initializing BertModel from the checkpoint of a model that you expect to be exactly identical (initializing a BertForSequenceClassification model from a BertForSequenceClassification model).\n"
     ]
    },
    {
     "name": "stdout",
     "output_type": "stream",
     "text": [
      "Training starts.\n",
      "################################################## Epoch: 1 ##################################################\n"
     ]
    },
    {
     "name": "stderr",
     "output_type": "stream",
     "text": [
      "100%|██████████| 2992/2992 [31:01<00:00,  1.61it/s]\n"
     ]
    },
    {
     "name": "stdout",
     "output_type": "stream",
     "text": [
      "Train loss: 4.346651713976407 || Train accuracy: 0.7987483406030722 || Train F1 score: 0.7631546833012329\n",
      "Validation processing...\n"
     ]
    },
    {
     "name": "stderr",
     "output_type": "stream",
     "text": [
      "100%|██████████| 1063/1063 [03:42<00:00,  4.78it/s]\n"
     ]
    },
    {
     "name": "stdout",
     "output_type": "stream",
     "text": [
      "***** Current best checkpoint is saved. *****\n",
      "Best validtion f1 score: 0.52835013569436\n",
      "Validation loss: 11.388003509221836 || Validation accuracy: 0.6558156888349967 || Current validation F1 score: 0.52835013569436\n",
      "################################################## Epoch: 2 ##################################################\n"
     ]
    },
    {
     "name": "stderr",
     "output_type": "stream",
     "text": [
      "100%|██████████| 2992/2992 [31:01<00:00,  1.61it/s]\n"
     ]
    },
    {
     "name": "stdout",
     "output_type": "stream",
     "text": [
      "Train loss: 1.7944279003509864 || Train accuracy: 0.9088564384600797 || Train F1 score: 0.9012572477598427\n",
      "Validation processing...\n"
     ]
    },
    {
     "name": "stderr",
     "output_type": "stream",
     "text": [
      "100%|██████████| 1063/1063 [03:42<00:00,  4.78it/s]\n"
     ]
    },
    {
     "name": "stdout",
     "output_type": "stream",
     "text": [
      "The f1 score did not improve by 0.0001. Patience: 1\n",
      "Best validtion f1 score: 0.52835013569436\n",
      "Validation loss: 15.286824317889065 || Validation accuracy: 0.6789478593414794 || Current validation F1 score: 0.5161533593088387\n",
      "################################################## Epoch: 3 ##################################################\n"
     ]
    },
    {
     "name": "stderr",
     "output_type": "stream",
     "text": [
      "100%|██████████| 2992/2992 [30:59<00:00,  1.61it/s]\n"
     ]
    },
    {
     "name": "stdout",
     "output_type": "stream",
     "text": [
      "Train loss: 1.531709136650524 || Train accuracy: 0.915683671534231 || Train F1 score: 0.9095210902142337\n",
      "Validation processing...\n"
     ]
    },
    {
     "name": "stderr",
     "output_type": "stream",
     "text": [
      "100%|██████████| 1063/1063 [03:42<00:00,  4.78it/s]\n"
     ]
    },
    {
     "name": "stdout",
     "output_type": "stream",
     "text": [
      "***** Current best checkpoint is saved. *****\n",
      "Best validtion f1 score: 0.5331608207348589\n",
      "Validation loss: 15.942889543265974 || Validation accuracy: 0.674284115287753 || Current validation F1 score: 0.5331608207348589\n",
      "################################################## Epoch: 4 ##################################################\n"
     ]
    },
    {
     "name": "stderr",
     "output_type": "stream",
     "text": [
      "100%|██████████| 2992/2992 [31:04<00:00,  1.60it/s]\n"
     ]
    },
    {
     "name": "stdout",
     "output_type": "stream",
     "text": [
      "Train loss: 1.4435978403544043 || Train accuracy: 0.9199696567418927 || Train F1 score: 0.9124773989535794\n",
      "Validation processing...\n"
     ]
    },
    {
     "name": "stderr",
     "output_type": "stream",
     "text": [
      "100%|██████████| 1063/1063 [03:42<00:00,  4.77it/s]\n"
     ]
    },
    {
     "name": "stdout",
     "output_type": "stream",
     "text": [
      "***** Current best checkpoint is saved. *****\n",
      "Best validtion f1 score: 0.5384621774042698\n",
      "Validation loss: 16.471056015897446 || Validation accuracy: 0.6792276839847029 || Current validation F1 score: 0.5384621774042698\n",
      "################################################## Epoch: 5 ##################################################\n"
     ]
    },
    {
     "name": "stderr",
     "output_type": "stream",
     "text": [
      "100%|██████████| 2992/2992 [31:05<00:00,  1.60it/s]\n"
     ]
    },
    {
     "name": "stdout",
     "output_type": "stream",
     "text": [
      "Train loss: 1.4036880640741338 || Train accuracy: 0.9220557557367722 || Train F1 score: 0.9152398084064669\n",
      "Validation processing...\n"
     ]
    },
    {
     "name": "stderr",
     "output_type": "stream",
     "text": [
      "100%|██████████| 1063/1063 [03:42<00:00,  4.77it/s]\n"
     ]
    },
    {
     "name": "stdout",
     "output_type": "stream",
     "text": [
      "The f1 score did not improve by 0.0001. Patience: 1\n",
      "Best validtion f1 score: 0.5384621774042698\n",
      "Validation loss: 16.907363679873303 || Validation accuracy: 0.686503124708516 || Current validation F1 score: 0.5343566505266197\n",
      "Training finished!\n",
      "Testing the model...\n"
     ]
    },
    {
     "name": "stderr",
     "output_type": "stream",
     "text": [
      "100%|██████████| 1017/1017 [03:33<00:00,  4.76it/s]"
     ]
    },
    {
     "name": "stdout",
     "output_type": "stream",
     "text": [
      "<Test Result>\n",
      "Test accuracy: 0.7044196302899502 || Test F1 score: 0.4874316778449117\n",
      "GOOD BYE.\n"
     ]
    },
    {
     "name": "stderr",
     "output_type": "stream",
     "text": [
      "\n"
     ]
    }
   ],
   "source": [
    "model, eval_results = run_experiment(args, training_df, valid_df, test_df)"
   ]
  },
  {
   "cell_type": "code",
   "execution_count": 24,
   "metadata": {},
   "outputs": [],
   "source": [
    "args.planning = False #with last turntext"
   ]
  },
  {
   "cell_type": "code",
   "execution_count": 25,
   "metadata": {},
   "outputs": [
    {
     "name": "stderr",
     "output_type": "stream",
     "text": [
      "278it [00:02, 95.36it/s] \n",
      "100%|██████████| 278/278 [00:00<00:00, 4291.48it/s]\n"
     ]
    },
    {
     "name": "stdout",
     "output_type": "stream",
     "text": [
      "2992 samples are prepared\n"
     ]
    },
    {
     "name": "stderr",
     "output_type": "stream",
     "text": [
      "93it [00:00, 103.37it/s]\n",
      "100%|██████████| 93/93 [00:00<00:00, 4872.95it/s]\n"
     ]
    },
    {
     "name": "stdout",
     "output_type": "stream",
     "text": [
      "1063 samples are prepared\n"
     ]
    },
    {
     "name": "stderr",
     "output_type": "stream",
     "text": [
      "93it [00:00, 107.05it/s]\n",
      "100%|██████████| 93/93 [00:00<00:00, 4942.67it/s]\n"
     ]
    },
    {
     "name": "stdout",
     "output_type": "stream",
     "text": [
      "1017 samples are prepared\n"
     ]
    },
    {
     "name": "stderr",
     "output_type": "stream",
     "text": [
      "Some weights of the model checkpoint at bert-base-uncased were not used when initializing BertModel: ['cls.predictions.transform.dense.bias', 'cls.seq_relationship.bias', 'cls.predictions.transform.LayerNorm.weight', 'cls.predictions.transform.dense.weight', 'cls.predictions.decoder.weight', 'cls.predictions.transform.LayerNorm.bias', 'cls.predictions.bias', 'cls.seq_relationship.weight']\n",
      "- This IS expected if you are initializing BertModel from the checkpoint of a model trained on another task or with another architecture (e.g. initializing a BertForSequenceClassification model from a BertForPreTraining model).\n",
      "- This IS NOT expected if you are initializing BertModel from the checkpoint of a model that you expect to be exactly identical (initializing a BertForSequenceClassification model from a BertForSequenceClassification model).\n"
     ]
    },
    {
     "name": "stdout",
     "output_type": "stream",
     "text": [
      "Training starts.\n",
      "################################################## Epoch: 1 ##################################################\n"
     ]
    },
    {
     "name": "stderr",
     "output_type": "stream",
     "text": [
      "100%|██████████| 2992/2992 [31:06<00:00,  1.60it/s]\n"
     ]
    },
    {
     "name": "stdout",
     "output_type": "stream",
     "text": [
      "Train loss: 3.500700944526629 || Train accuracy: 0.848359567608572 || Train F1 score: 0.8155005843575303\n",
      "Validation processing...\n"
     ]
    },
    {
     "name": "stderr",
     "output_type": "stream",
     "text": [
      "100%|██████████| 1063/1063 [03:42<00:00,  4.77it/s]\n"
     ]
    },
    {
     "name": "stdout",
     "output_type": "stream",
     "text": [
      "***** Current best checkpoint is saved. *****\n",
      "Best validtion f1 score: 0.5814038231897228\n",
      "Validation loss: 11.968816908148249 || Validation accuracy: 0.7167241861766627 || Current validation F1 score: 0.5814038231897228\n",
      "################################################## Epoch: 2 ##################################################\n"
     ]
    },
    {
     "name": "stderr",
     "output_type": "stream",
     "text": [
      "100%|██████████| 2992/2992 [31:05<00:00,  1.60it/s]\n"
     ]
    },
    {
     "name": "stdout",
     "output_type": "stream",
     "text": [
      "Train loss: 0.6526829873654931 || Train accuracy: 0.9735634363739807 || Train F1 score: 0.9682678366567868\n",
      "Validation processing...\n"
     ]
    },
    {
     "name": "stderr",
     "output_type": "stream",
     "text": [
      "100%|██████████| 1063/1063 [03:43<00:00,  4.76it/s]\n"
     ]
    },
    {
     "name": "stdout",
     "output_type": "stream",
     "text": [
      "The f1 score did not improve by 0.0001. Patience: 1\n",
      "Best validtion f1 score: 0.5814038231897228\n",
      "Validation loss: 14.534577129028479 || Validation accuracy: 0.718030034511706 || Current validation F1 score: 0.5715267714681335\n",
      "################################################## Epoch: 3 ##################################################\n"
     ]
    },
    {
     "name": "stderr",
     "output_type": "stream",
     "text": [
      "100%|██████████| 2992/2992 [31:06<00:00,  1.60it/s]\n"
     ]
    },
    {
     "name": "stdout",
     "output_type": "stream",
     "text": [
      "Train loss: 0.391239325949215 || Train accuracy: 0.9788355774701308 || Train F1 score: 0.9745639534845381\n",
      "Validation processing...\n"
     ]
    },
    {
     "name": "stderr",
     "output_type": "stream",
     "text": [
      "100%|██████████| 1063/1063 [03:41<00:00,  4.80it/s]\n"
     ]
    },
    {
     "name": "stdout",
     "output_type": "stream",
     "text": [
      "The f1 score did not improve by 0.0001. Patience: 2\n",
      "Best validtion f1 score: 0.5814038231897228\n",
      "Validation loss: 16.54347125001371 || Validation accuracy: 0.7062773994963156 || Current validation F1 score: 0.5441271626581674\n",
      "################################################## Epoch: 4 ##################################################\n"
     ]
    },
    {
     "name": "stderr",
     "output_type": "stream",
     "text": [
      "100%|██████████| 2992/2992 [30:55<00:00,  1.61it/s]\n"
     ]
    },
    {
     "name": "stdout",
     "output_type": "stream",
     "text": [
      "Train loss: 0.299665552648631 || Train accuracy: 0.9811113218281813 || Train F1 score: 0.9775396170370795\n",
      "Validation processing...\n"
     ]
    },
    {
     "name": "stderr",
     "output_type": "stream",
     "text": [
      "100%|██████████| 1063/1063 [03:41<00:00,  4.80it/s]\n"
     ]
    },
    {
     "name": "stdout",
     "output_type": "stream",
     "text": [
      "The f1 score did not improve by 0.0001. Patience: 3\n",
      "Best validtion f1 score: 0.5814038231897228\n",
      "Validation loss: 16.154839543946373 || Validation accuracy: 0.7145788639119485 || Current validation F1 score: 0.5728451087704125\n",
      "Run out of patience. Abort!\n",
      "Training finished!\n",
      "Testing the model...\n"
     ]
    },
    {
     "name": "stderr",
     "output_type": "stream",
     "text": [
      "100%|██████████| 1017/1017 [03:31<00:00,  4.81it/s]"
     ]
    },
    {
     "name": "stdout",
     "output_type": "stream",
     "text": [
      "<Test Result>\n",
      "Test accuracy: 0.7147414844703012 || Test F1 score: 0.5319877122734382\n",
      "GOOD BYE.\n"
     ]
    },
    {
     "name": "stderr",
     "output_type": "stream",
     "text": [
      "\n"
     ]
    }
   ],
   "source": [
    "model, eval_results = run_experiment(args, training_df, valid_df, test_df)"
   ]
  }
 ],
 "metadata": {
  "kernelspec": {
   "display_name": "Python 3 (ipykernel)",
   "language": "python",
   "name": "python3"
  },
  "language_info": {
   "codemirror_mode": {
    "name": "ipython",
    "version": 3
   },
   "file_extension": ".py",
   "mimetype": "text/x-python",
   "name": "python",
   "nbconvert_exporter": "python",
   "pygments_lexer": "ipython3",
   "version": "3.8.10"
  }
 },
 "nbformat": 4,
 "nbformat_minor": 4
}
