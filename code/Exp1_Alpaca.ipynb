{
 "cells": [
  {
   "cell_type": "markdown",
   "metadata": {},
   "source": [
    "# Predicting Labels using Alpaca"
   ]
  },
  {
   "cell_type": "code",
   "execution_count": 1,
   "metadata": {},
   "outputs": [
    {
     "name": "stdout",
     "output_type": "stream",
     "text": [
      "Requirement already satisfied: bitsandbytes in /usr/local/lib/python3.8/dist-packages (0.41.1)\n",
      "\u001b[33mWARNING: You are using pip version 21.3.1; however, version 24.0 is available.\n",
      "You should consider upgrading via the '/usr/bin/python3 -m pip install --upgrade pip' command.\u001b[0m\n",
      "\u001b[33mWARNING: You are using pip version 21.3.1; however, version 24.0 is available.\n",
      "You should consider upgrading via the '/usr/bin/python3 -m pip install --upgrade pip' command.\u001b[0m\n",
      "\u001b[33m  WARNING: Did not find branch or tag 'c3dc391', assuming revision or ref.\u001b[0m\n",
      "\u001b[33mWARNING: You are using pip version 21.3.1; however, version 24.0 is available.\n",
      "You should consider upgrading via the '/usr/bin/python3 -m pip install --upgrade pip' command.\u001b[0m\n",
      "Found existing installation: peft 0.4.0\n",
      "Uninstalling peft-0.4.0:\n",
      "  Successfully uninstalled peft-0.4.0\n",
      "\u001b[33mWARNING: You are using pip version 21.3.1; however, version 24.0 is available.\n",
      "You should consider upgrading via the '/usr/bin/python3 -m pip install --upgrade pip' command.\u001b[0m\n"
     ]
    }
   ],
   "source": [
    "# Install all the required packages.\n",
    "!pip install bitsandbytes\n",
    "!pip install -q datasets loralib sentencepiece\n",
    "!pip install -q git+https://github.com/zphang/transformers@c3dc391\n",
    "!pip uninstall peft -y\n",
    "!pip install -q git+https://github.com/huggingface/peft.git@0769587a3cd80ad2ae508cc06efbf54ddca821b3"
   ]
  },
  {
   "cell_type": "code",
   "execution_count": 2,
   "metadata": {},
   "outputs": [],
   "source": [
    "# Import all needed libreries\n",
    "import pandas as pd\n",
    "import numpy as np\n",
    "import tqdm\n",
    "import torch"
   ]
  },
  {
   "cell_type": "code",
   "execution_count": 3,
   "metadata": {},
   "outputs": [
    {
     "name": "stderr",
     "output_type": "stream",
     "text": [
      "The tokenizer class you load from this checkpoint is not the same type as the class this function is called from. It may result in unexpected tokenization. \n",
      "The tokenizer class you load from this checkpoint is 'LlamaTokenizer'. \n",
      "The class this function is called from is 'LLaMATokenizer'.\n",
      "normalizer.cc(51) LOG(INFO) precompiled_charsmap is empty. use identity normalization.\n",
      "Overriding torch_dtype=None with `torch_dtype=torch.float16` due to requirements of `bitsandbytes` to enable model loading in mixed int8. Either pass torch_dtype=torch.float16 or don't pass this argument at all to remove this warning.\n"
     ]
    },
    {
     "data": {
      "application/json": {
       "ascii": false,
       "bar_format": null,
       "colour": null,
       "elapsed": 0.0054395198822021484,
       "initial": 0,
       "n": 0,
       "ncols": null,
       "nrows": null,
       "postfix": null,
       "prefix": "Loading checkpoint shards",
       "rate": null,
       "total": 33,
       "unit": "it",
       "unit_divisor": 1000,
       "unit_scale": false
      },
      "application/vnd.jupyter.widget-view+json": {
       "model_id": "6cfb1c24e8de4f8aaeafb2ca2aa90727",
       "version_major": 2,
       "version_minor": 0
      },
      "text/plain": [
       "Loading checkpoint shards:   0%|          | 0/33 [00:00<?, ?it/s]"
      ]
     },
     "metadata": {},
     "output_type": "display_data"
    }
   ],
   "source": [
    "#The following code loads the Alpaca LoRA pretrained model.\n",
    "from peft import PeftModel\n",
    "from transformers import LLaMATokenizer, LLaMAForCausalLM, GenerationConfig\n",
    "\n",
    "tokenizer = LLaMATokenizer.from_pretrained(\"linhvu/decapoda-research-llama-7b-hf\")\n",
    "model = LLaMAForCausalLM.from_pretrained(\"linhvu/decapoda-research-llama-7b-hf\", load_in_8bit=True, device_map=\"auto\")\n",
    "\n",
    "model = PeftModel.from_pretrained(model, \"tloen/alpaca-lora-7b\")"
   ]
  },
  {
   "cell_type": "code",
   "execution_count": 4,
   "metadata": {},
   "outputs": [],
   "source": [
    "def generate_prompt(instruction, input=None):\n",
    "    if input:\n",
    "        return f\"\"\"Below is an instruction that describes a task, paired with an input that provides further context. Write a response that appropriately completes the request.\n",
    "\n",
    "### Instruction:\n",
    "{instruction}\n",
    "\n",
    "### Input:\n",
    "{input}\n",
    "\n",
    "### Response:\"\"\"\n",
    "    else:\n",
    "        return f\"\"\"Below is an instruction that describes a task. Write a response that appropriately completes the request.\n",
    "\n",
    "### Instruction:\n",
    "{instruction}\n",
    "\n",
    "### Response:\"\"\""
   ]
  },
  {
   "cell_type": "code",
   "execution_count": 5,
   "metadata": {},
   "outputs": [],
   "source": [
    "#Evaluate function that we will use to call Alpaca LoRA.\n",
    "generation_config = GenerationConfig(\n",
    "    temperature=0.1,\n",
    "    top_p=0.75,\n",
    "    num_beams=4,\n",
    "    repetition_penalty=1.03\n",
    ")\n",
    "\n",
    "def evaluate(instruction, input=None):\n",
    "    prompt = generate_prompt(instruction, input)\n",
    "    inputs = tokenizer(prompt, return_tensors=\"pt\")\n",
    "    input_ids = inputs[\"input_ids\"].cuda()\n",
    "    generation_output = model.generate(\n",
    "        input_ids=input_ids,\n",
    "        generation_config=generation_config,\n",
    "        return_dict_in_generate=True,\n",
    "        output_scores=True,\n",
    "        max_new_tokens=256\n",
    "    )\n",
    "    response = []\n",
    "    for s in generation_output.sequences:\n",
    "        output = tokenizer.decode(s)\n",
    "        response.append(output.split(\"### Response:\")[1].strip())\n",
    "    return response"
   ]
  },
  {
   "cell_type": "code",
   "execution_count": 7,
   "metadata": {},
   "outputs": [],
   "source": [
    "#read and prepare dataset\n",
    "df = pd.read_pickle('./data_turns.pkl')\n",
    "\n",
    "df['turn_len'] = df.turn_text.apply(lambda x: len(x['text'].split()))\n",
    "df['turn_text'] = df.apply(lambda row: {\n",
    "                                            'author': row['turn_text']['author'], \n",
    "                                            'text' : row['topic'].replace('_', ' ') + ' [SEP] ' +  row['turn_text']['text']\n",
    "                                           } ,axis=1)\n",
    "df = df.groupby('task_id').agg({'turn_text': lambda rows: list(rows),\n",
    "                                'topic': lambda rows: list(rows)[0],\n",
    "                                'topic_func_label': lambda rows: list(rows),\n",
    "                                'dlg_act_label': lambda rows: list(rows),\n",
    "                                'exp_act_label': lambda rows: list(rows)}).reset_index()\n",
    "df['num_turns_per_topic'] = df.topic_func_label.apply(lambda x : len(x))"
   ]
  },
  {
   "cell_type": "code",
   "execution_count": null,
   "metadata": {},
   "outputs": [],
   "source": [
    "#Split the data in training set 60%, validation set 20%, test set 20%\n",
    "_, valid, test = \\\n",
    "              np.split(df.sample(frac=1, random_state=42), \n",
    "                       [int(.6*len(df)), int(.8*len(df))])\n",
    "\n",
    "valid_df = valid.copy()"
   ]
  },
  {
   "cell_type": "code",
   "execution_count": 10,
   "metadata": {},
   "outputs": [
    {
     "data": {
      "text/plain": [
       "['(E04) Ask for an explanation']"
      ]
     },
     "execution_count": 10,
     "metadata": {},
     "output_type": "execute_result"
    }
   ],
   "source": [
    "#test the prompt to predict the explanation move label\n",
    "INPUT = '''\n",
    "  {'turn': 1 ,'author': 'Explainer', 'text': \"You know, what we do in our studies, is we actually track people, for say a week, and they have to get in within this range of amount of sleep and then it has to be both amount of sleep and how stable it is. That variability can kind of impact it and certainly might have an impact on the machinery that's happening in the brain.\", \"label\": \"(E03) Provide an explanation\"},\n",
    "  {'turn': 2 ,'author': 'Explainee', 'text': \"I often think that people, many people think that they can get by on very little sleep where the less than average amount of sleep, from what I know from the research, you know if you actually test those people on different batteries of cognitive tasks, you often find that their performance is slightly worse than they had anticipated.\", \"label\": \"(E03) Provide an explanation\"},\n",
    "  {'turn': 3 ,'author': 'Explainer', 'text': 'Yeah. So what did you learn about sleep today?', \"label\": \"(E01) Testing understanding\"},\n",
    "  {'turn': 4 ,'author': 'Explainee', 'text': \"I guess I learned a system that is, you know, very heavily regulated and influenced by some of these older conserved sub-cortical systems in the brain, and that there's, as you called it, like a flip flop function between wakefulness and sleep that's regulated by these specific dopaminergic, neurogenergic, like neurotransmitters, that manifest in different sub-cortical parts of the brain.\", \"label\": \"(E03) Provide an explanation\"}'''\n",
    "\n",
    "EXPLANATION_MOVE_PROMPT = '''\n",
    "Given a sequence of dialogue turns between an 'Explainer' and an 'Explainee', each turn is accompanied by a text and a corresponding label. These labels categorize the nature of the dialogue turn. The 10 distinct labels are:\n",
    "\n",
    "(E01) Testing understanding: Checking whether the listener understood what was being explained;\n",
    "(E02) Testing prior knowledge: Checking the listener’s prior knowledge of the turn’s topic;\n",
    "(E03) Provide an explanation: explaining any concept or a topic to the listener;\n",
    "(E04) Ask for an explanation: Requesting any explanation from the listener;\n",
    "(E05) Signaling understanding: Informing the listener that their last utterance was understood;\n",
    "(E06) Signal non-understanding: Informing the listener that the utterance was not understood;\n",
    "(E07) Providing feedback: Responding qualitatively to an utterance by correcting errors or similar;\n",
    "(E08) Providing Assessment: Assessing the listener by rephrasing their utterance or giving a hint;\n",
    "(E09) Introducing Extraneous Information Giving additional information to foster a complete understanding;\n",
    "(E10) Other: Making any other explanation move.\n",
    "\n",
    "Based on the provided dialogue turns and their respective labels, predict only the label of the next turn in the dialogue!!!'''\n",
    "\n",
    "response = evaluate(EXPLANATION_MOVE_PROMPT, INPUT)\n",
    "response"
   ]
  },
  {
   "cell_type": "code",
   "execution_count": 11,
   "metadata": {},
   "outputs": [],
   "source": [
    "#function to test one dialogue on explanation move dimention\n",
    "#return how many correct and incorrect labels was predicted \n",
    "def test_one_dig(dig):\n",
    "    correct, incorrect = 0, 0\n",
    "    INPUT = \"\"\n",
    "    for i, (turn_text, label) in enumerate(zip(dig[\"turn_text\"][:-1], dig[\"exp_act_label\"][:-1])):\n",
    "        if i == 10 : break\n",
    "        INPUT += f\"turn number: {i+1}, author: {turn_text['author']}, turn text: {turn_text['text']}, label: {label}.\\n\"\n",
    "\n",
    "        response = evaluate(EXPLANATION_MOVE_PROMPT, INPUT)\n",
    "        print(response)\n",
    "        \n",
    "        try:\n",
    "            if response[0][2:4] == dig[\"exp_act_label\"][i+1][2:4]:\n",
    "                correct += 1\n",
    "            else:\n",
    "                incorrect += 1\n",
    "        except:\n",
    "            \n",
    "            print(\"Unexpected response: \", response[0])\n",
    "            incorrect += 1\n",
    "            \n",
    "    return correct, incorrect"
   ]
  },
  {
   "cell_type": "code",
   "execution_count": 12,
   "metadata": {
    "scrolled": true
   },
   "outputs": [
    {
     "name": "stderr",
     "output_type": "stream",
     "text": [
      "  0%|          | 0/92 [00:00<?, ?it/s]"
     ]
    },
    {
     "name": "stdout",
     "output_type": "stream",
     "text": [
      "New dig: 0 \tTask id 28641\n",
      "['(E05) Signaling understanding.']\n",
      "['(E04) Ask for an explanation.']\n",
      "['(E04) Ask for an explanation.']\n",
      "['(E04) Ask for an explanation.']\n",
      "['(E07) Providing Feedback.']\n"
     ]
    },
    {
     "name": "stderr",
     "output_type": "stream",
     "text": [
      "  1%|          | 1/92 [00:45<1:08:52, 45.42s/it]"
     ]
    },
    {
     "name": "stdout",
     "output_type": "stream",
     "text": [
      "['(E07) Providing Feedback.']\n",
      "Correct 3 , Incorrect: 3\n",
      "Overall correct 3 , Overall incorrect: 3\n",
      "F1 Score: 0.5\n",
      "New dig: 1 \tTask id 28454\n",
      "['(E05) Signaling understanding: Informing the listener that their last utterance was understood.']\n",
      "['(E10) Other: Making any other explanation move.']\n",
      "['(E10) Other: Making any other explanation move.']\n",
      "['(E09) Introducing Extraneous Information Giving additional information to foster a complete understanding.']\n",
      "['(E10) Other']\n",
      "['label: (E03) Provide an explanation.']\n",
      "['(E03) Provide an explanation.']\n"
     ]
    },
    {
     "name": "stderr",
     "output_type": "stream",
     "text": [
      "  2%|▏         | 2/92 [03:23<2:47:53, 111.92s/it]"
     ]
    },
    {
     "name": "stdout",
     "output_type": "stream",
     "text": [
      "[\"turn number: 9, author: Explainer, turn text: How Going Vegan Will Save The Environment [SEP] &gt; No you couldn't be more wrong, I could go into vast details of ways to harvest methane from the meltiing arctic, but no one gives a shit. Everyone will just crap down my neck like you have been doing all day. It could be as simple as vacuuming it up with big harvesters. However that is not my expertise to come up with blue prints and contact manufacture companies, then finding some way to get investors involved and government acceptance. Some ELSE in a position to do something about it can and will. I just have to trust that., label: (E09) Introducing Extraneous Information\"]\n",
      "Correct 1 , Incorrect: 7\n",
      "Overall correct 4 , Overall incorrect: 10\n",
      "F1 Score: 0.2857142857142857\n",
      "New dig: 2 \tTask id 28407\n",
      "['(E05) Signaling understanding.']\n",
      "['(E04) Ask for an explanation.']\n",
      "['(E04) Ask for an explanation.']\n",
      "['(E04) Ask for an explanation.']\n",
      "['(E04) Ask for an explanation.']\n",
      "['(E07) Providing Feedback.']\n",
      "['(E03) Provide an explanation.']\n",
      "['(E03) Provide an explanation.']\n"
     ]
    },
    {
     "name": "stderr",
     "output_type": "stream",
     "text": [
      "  3%|▎         | 3/92 [04:23<2:10:33, 88.01s/it] "
     ]
    },
    {
     "name": "stdout",
     "output_type": "stream",
     "text": [
      "['(E04) Ask for an explanation.']\n",
      "Correct 1 , Incorrect: 8\n",
      "Overall correct 5 , Overall incorrect: 18\n",
      "F1 Score: 0.21739130434782608\n",
      "New dig: 3 \tTask id 28505\n",
      "['turn number: 2, author: Explainer, turn text: What do you mean by \"flamboyant\"?, label: (E05) Signaling understanding.']\n",
      "['(E04) Ask for an explanation.']\n",
      "['(E04) Ask for an explanation.']\n",
      "['turn number: 5, author: Explainee, turn text: Why are there not many \"flamboyant\" heterosexual males? [SEP] I dont think so. No one has ever come up to me and asked me if I was gay. Although my wedding ring is bigger and brighter than most female rings. I have been accused of being a metro-sexual., label: (E07) Providing Feedback.']\n",
      "['(E07) Providing Feedback.']\n",
      "['(E07) Providing Feedback.']\n"
     ]
    },
    {
     "name": "stderr",
     "output_type": "stream",
     "text": [
      "  4%|▍         | 4/92 [05:49<2:07:55, 87.22s/it]"
     ]
    },
    {
     "name": "stdout",
     "output_type": "stream",
     "text": [
      "['(E07) Providing Feedback.']\n",
      "Correct 3 , Incorrect: 4\n",
      "Overall correct 8 , Overall incorrect: 22\n",
      "F1 Score: 0.26666666666666666\n",
      "New dig: 4 \tTask id 28605\n",
      "['(E05) Signaling understanding.']\n",
      "['(E05) Signaling understanding.']\n",
      "['(E04) Ask for an explanation.']\n",
      "['(E03) Provide an explanation.']\n",
      "['(E03) Provide an explanation.']\n"
     ]
    },
    {
     "name": "stderr",
     "output_type": "stream",
     "text": [
      "  5%|▌         | 5/92 [07:24<2:10:38, 90.10s/it]"
     ]
    },
    {
     "name": "stdout",
     "output_type": "stream",
     "text": [
      "['(E04) Ask for an explanation.']\n",
      "Correct 0 , Incorrect: 6\n",
      "Overall correct 8 , Overall incorrect: 28\n",
      "F1 Score: 0.2222222222222222\n",
      "New dig: 5 \tTask id 28566\n",
      "['(E05) Signaling understanding.']\n",
      "['(E04) Ask for an explanation.']\n",
      "['(E04) Ask for an explanation.']\n",
      "['(E04) Ask for an explanation.']\n",
      "['(E04) Ask for an explanation.']\n",
      "['(E09) Introducing Extraneous Information Giving additional information to foster a complete understanding.']\n"
     ]
    },
    {
     "name": "stderr",
     "output_type": "stream",
     "text": [
      "  7%|▋         | 6/92 [08:32<1:58:21, 82.58s/it]"
     ]
    },
    {
     "name": "stdout",
     "output_type": "stream",
     "text": [
      "['(E03) Provide an explanation.']\n",
      "Correct 3 , Incorrect: 4\n",
      "Overall correct 11 , Overall incorrect: 32\n",
      "F1 Score: 0.2558139534883721\n",
      "New dig: 6 \tTask id 28382\n",
      "['(E05) Signaling understanding: Informing the listener that their last utterance was understood.']\n",
      "['(E09) Introducing Extraneous Information Giving additional information to foster a complete understanding.']\n",
      "['(E09) Introducing Extraneous Information Giving additional information to foster a complete understanding.']\n",
      "['(E04) Ask for an explanation.']\n",
      "['(E04) Ask for an explanation.']\n",
      "['(E04) Ask for an explanation.']\n",
      "['The next turn is (E07) Providing Feedback.']\n",
      "['(E04) Ask for an explanation.']\n",
      "['(E04) Ask for an explanation.']\n"
     ]
    },
    {
     "name": "stderr",
     "output_type": "stream",
     "text": [
      "  8%|▊         | 7/92 [10:19<2:08:01, 90.37s/it]"
     ]
    },
    {
     "name": "stdout",
     "output_type": "stream",
     "text": [
      "['(E04) Ask for an explanation.']\n",
      "Correct 0 , Incorrect: 10\n",
      "Overall correct 11 , Overall incorrect: 42\n",
      "F1 Score: 0.20754716981132076\n",
      "New dig: 7 \tTask id 28391\n",
      "['(E05) Signaling understanding: Informing the listener that their last utterance was understood.']\n",
      "['Based on the provided dialogue turns and their respective labels, the next turn in the dialogue is (E07) Providing Feedback.']\n",
      "['(E09) Introducing Extraneous Information Giving additional information to foster a complete understanding.']\n",
      "['(E10) Other: Making any other explanation move.']\n",
      "['(E07) Providing Feedback.']\n",
      "['(E10) Other: Making any other explanation move.']\n",
      "['(E10) Other: Making any other explanation move.']\n",
      "['(E04) Ask for an explanation.']\n"
     ]
    },
    {
     "name": "stderr",
     "output_type": "stream",
     "text": [
      "  9%|▊         | 8/92 [11:43<2:03:42, 88.36s/it]"
     ]
    },
    {
     "name": "stdout",
     "output_type": "stream",
     "text": [
      "['(E10) Other: Making any other explanation move.']\n",
      "Correct 1 , Incorrect: 8\n",
      "Overall correct 12 , Overall incorrect: 50\n",
      "F1 Score: 0.1935483870967742\n",
      "New dig: 8 \tTask id 28692\n",
      "['(E05) Signaling understanding: Informing the listener that their last utterance was understood.']\n",
      "['(E05) Signaling understanding: Informing the listener that their last utterance was understood.']\n",
      "['(E05) Signaling understanding']\n",
      "['(E07) Providing Feedback.']\n",
      "['Based on the provided dialogue turns and their respective labels, predict only the label of the next turn in the dialogue!!!\\n\\nturn number: 5, author: Explainee, turn text: Why the odd finger size? [SEP] Thank god for adults. I’d be a bumbling idiot otherwise, label: (E05) Signaling understanding.']\n"
     ]
    },
    {
     "name": "stderr",
     "output_type": "stream",
     "text": [
      " 10%|▉         | 9/92 [13:24<2:07:42, 92.32s/it]"
     ]
    },
    {
     "name": "stdout",
     "output_type": "stream",
     "text": [
      "['(E07) Providing Feedback.']\n",
      "Correct 1 , Incorrect: 5\n",
      "Overall correct 13 , Overall incorrect: 55\n",
      "F1 Score: 0.19117647058823528\n",
      "New dig: 9 \tTask id 28553\n",
      "['(E05) Signaling understanding: Informing the listener that their last utterance was understood.']\n",
      "['(E04) Ask for an explanation.']\n",
      "['(E04) Ask for an explanation.']\n",
      "['(E03) Provide an explanation.']\n",
      "['(E03) Provide an explanation.']\n",
      "['The next turn in the dialogue is (E03) Provide an explanation.']\n"
     ]
    },
    {
     "name": "stderr",
     "output_type": "stream",
     "text": [
      " 11%|█         | 10/92 [14:33<1:56:23, 85.16s/it]"
     ]
    },
    {
     "name": "stdout",
     "output_type": "stream",
     "text": [
      "['(E03) Provide an explanation.']\n",
      "Correct 3 , Incorrect: 4\n",
      "Overall correct 16 , Overall incorrect: 59\n",
      "F1 Score: 0.21333333333333335\n",
      "New dig: 10 \tTask id 28767\n",
      "['(E05) Signaling understanding: Informing the listener that their last utterance was understood.']\n",
      "['(E04) Ask for an explanation.']\n",
      "['(E04) Ask for an explanation.']\n",
      "['(E03) Provide an explanation.']\n"
     ]
    },
    {
     "name": "stderr",
     "output_type": "stream",
     "text": [
      " 12%|█▏        | 11/92 [15:06<1:33:38, 69.36s/it]"
     ]
    },
    {
     "name": "stdout",
     "output_type": "stream",
     "text": [
      "['(E03) Provide an explanation.']\n",
      "Correct 2 , Incorrect: 3\n",
      "Overall correct 18 , Overall incorrect: 62\n",
      "F1 Score: 0.225\n",
      "New dig: 11 \tTask id 28673\n",
      "['(E05) Signaling understanding.']\n",
      "['(E05) Signaling understanding.']\n",
      "['(E04) Ask for an explanation.']\n",
      "['(E10) Other: Making any other explanation move.']\n",
      "['(E04) Ask for an explanation.']\n"
     ]
    },
    {
     "name": "stderr",
     "output_type": "stream",
     "text": [
      " 13%|█▎        | 12/92 [17:11<1:54:47, 86.09s/it]"
     ]
    },
    {
     "name": "stdout",
     "output_type": "stream",
     "text": [
      "['(E04) Ask for an explanation.']\n",
      "Correct 0 , Incorrect: 6\n",
      "Overall correct 18 , Overall incorrect: 68\n",
      "F1 Score: 0.20930232558139536\n",
      "New dig: 12 \tTask id 28398\n",
      "['(E05) Signaling understanding.']\n",
      "['(E09) Introducing Extraneous Information Giving additional information to foster a complete understanding.']\n",
      "['(E04) Ask for an explanation.']\n",
      "['(E04) Ask for an explanation.']\n",
      "['(E04) Ask for an explanation.']\n",
      "['(E04) Ask for an explanation.']\n",
      "['(E04) Ask for an explanation.']\n",
      "['(E04) Ask for an explanation.']\n"
     ]
    },
    {
     "name": "stderr",
     "output_type": "stream",
     "text": [
      " 14%|█▍        | 13/92 [18:49<1:58:04, 89.68s/it]"
     ]
    },
    {
     "name": "stdout",
     "output_type": "stream",
     "text": [
      "['(E04) Ask for an explanation.']\n",
      "Correct 2 , Incorrect: 7\n",
      "Overall correct 20 , Overall incorrect: 75\n",
      "F1 Score: 0.21052631578947367\n",
      "New dig: 13 \tTask id 28638\n",
      "['(E05) Signaling understanding.']\n",
      "['(E04) Ask for an explanation.']\n",
      "['(E04) Ask for an explanation.']\n",
      "['(E04) Ask for an explanation.']\n",
      "['(E03) Provide an explanation.']\n"
     ]
    },
    {
     "name": "stderr",
     "output_type": "stream",
     "text": [
      " 15%|█▌        | 14/92 [19:50<1:45:38, 81.26s/it]"
     ]
    },
    {
     "name": "stdout",
     "output_type": "stream",
     "text": [
      "['(E04) Ask for an explanation.']\n",
      "Correct 4 , Incorrect: 2\n",
      "Overall correct 24 , Overall incorrect: 77\n",
      "F1 Score: 0.2376237623762376\n",
      "New dig: 14 \tTask id 28784\n",
      "['(E05) Signaling understanding.']\n",
      "['(E04) Ask for an explanation.']\n",
      "['(E04) Ask for an explanation.']\n",
      "['(E04) Ask for an explanation.']\n"
     ]
    },
    {
     "name": "stderr",
     "output_type": "stream",
     "text": [
      " 16%|█▋        | 15/92 [20:43<1:33:16, 72.68s/it]"
     ]
    },
    {
     "name": "stdout",
     "output_type": "stream",
     "text": [
      "['(E04) Ask for an explanation.']\n",
      "Correct 1 , Incorrect: 4\n",
      "Overall correct 25 , Overall incorrect: 81\n",
      "F1 Score: 0.2358490566037736\n",
      "New dig: 15 \tTask id 28357\n",
      "['(E05) Signaling understanding: Informing the listener that their last utterance was understood.']\n",
      "['(E04) Ask for an explanation.']\n",
      "['turn number: 4, author: Explainer, turn text: This paragraph is written on the assumption that the more complex a character is the \"more dimensions\" they have. A 1D characters wont be too complex while a 4+D character will be complex and have many moving parts to their character., label: (E03) Provide an explanation.']\n",
      "['(E03) Provide an explanation.']\n",
      "['(E07) Providing Feedback.']\n",
      "['(E04) Ask for an explanation.']\n",
      "['(E03) Provide an explanation.']\n",
      "['The next turn is (E03) Provide an explanation.']\n",
      "['(E03) Provide an explanation.']\n"
     ]
    },
    {
     "name": "stderr",
     "output_type": "stream",
     "text": [
      " 17%|█▋        | 16/92 [23:41<2:12:00, 104.22s/it]"
     ]
    },
    {
     "name": "stdout",
     "output_type": "stream",
     "text": [
      "['(E03) Provide an explanation.']\n",
      "Correct 2 , Incorrect: 8\n",
      "Overall correct 27 , Overall incorrect: 89\n",
      "F1 Score: 0.23275862068965517\n",
      "New dig: 16 \tTask id 28740\n",
      "['(E05) Signaling understanding: Informing the listener that their last utterance was understood.']\n",
      "['(E04) Ask for an explanation.']\n",
      "['(E04) Ask for an explanation.']\n",
      "['(E05) Signaling understanding.']\n"
     ]
    },
    {
     "name": "stderr",
     "output_type": "stream",
     "text": [
      " 18%|█▊        | 17/92 [24:31<1:49:57, 87.96s/it] "
     ]
    },
    {
     "name": "stdout",
     "output_type": "stream",
     "text": [
      "['(E10) Other: Making any other explanation move.']\n",
      "Correct 1 , Incorrect: 4\n",
      "Overall correct 28 , Overall incorrect: 93\n",
      "F1 Score: 0.23140495867768596\n",
      "New dig: 17 \tTask id 28659\n",
      "['(E05) Signaling understanding: Informing the listener that their last utterance was understood.']\n",
      "['(E05) Signaling understanding.']\n",
      "['(E04) Ask for an explanation.']\n",
      "['(E04) Ask for an explanation.']\n",
      "['(E04) Ask for an explanation.']\n"
     ]
    },
    {
     "name": "stderr",
     "output_type": "stream",
     "text": [
      " 20%|█▉        | 18/92 [25:34<1:39:16, 80.50s/it]"
     ]
    },
    {
     "name": "stdout",
     "output_type": "stream",
     "text": [
      "['(E04) Ask for an explanation.']\n",
      "Correct 0 , Incorrect: 6\n",
      "Overall correct 28 , Overall incorrect: 99\n",
      "F1 Score: 0.2204724409448819\n",
      "New dig: 18 \tTask id 28404\n",
      "['(E05) Signaling understanding.']\n",
      "[\"turn number: 3, author: Explainee, turn text: how is Erdogan threatening to let migrants into Europe actually a threat when migrants are so great? [SEP] Not all questions are created equal. And your's show a lack of clarity of thought., label: (E04) Ask for an explanation.\"]\n",
      "[\"turn number: 4, author: Explainer, turn text: Not all questions are created equal. And your's show a lack of clarity of thought., label: (E07) Providing Feedback.\"]\n",
      "['(E04) Ask for an explanation.']\n",
      "['(E07) Providing Feedback.']\n",
      "['(E04) Ask for an explanation.']\n",
      "['(E04) Ask for an explanation.']\n",
      "['(E04) Ask for an explanation.']\n"
     ]
    },
    {
     "name": "stderr",
     "output_type": "stream",
     "text": [
      " 21%|██        | 19/92 [27:18<1:46:36, 87.63s/it]"
     ]
    },
    {
     "name": "stdout",
     "output_type": "stream",
     "text": [
      "['(E04) Ask for an explanation.']\n",
      "Correct 0 , Incorrect: 9\n",
      "Overall correct 28 , Overall incorrect: 108\n",
      "F1 Score: 0.20588235294117646\n",
      "New dig: 19 \tTask id 28758\n",
      "['(E05) Signaling understanding: Informing the listener that their last utterance was understood.']\n",
      "['(E10) Other: Making any other explanation move.']\n",
      "['(E04) Ask for an explanation.']\n",
      "['(E04) Ask for an explanation.']\n"
     ]
    },
    {
     "name": "stderr",
     "output_type": "stream",
     "text": [
      " 22%|██▏       | 20/92 [28:20<1:35:40, 79.73s/it]"
     ]
    },
    {
     "name": "stdout",
     "output_type": "stream",
     "text": [
      "['(E04) Ask for an explanation.']\n",
      "Correct 0 , Incorrect: 5\n",
      "Overall correct 28 , Overall incorrect: 113\n",
      "F1 Score: 0.19858156028368795\n",
      "New dig: 20 \tTask id 186\n",
      "['(E05) Signaling understanding.']\n",
      "['(E05) Signaling understanding.']\n",
      "['(E04) Ask for an explanation.']\n",
      "['(E04) Ask for an explanation.']\n",
      "['(E04) Ask for an explanation.']\n",
      "['(E07) Providing Feedback.']\n",
      "['(E10) Other: Making any other explanation move.']\n",
      "['(E09) Introducing Extraneous Information']\n",
      "['(E10) Other: Making any other explanation move.']\n"
     ]
    },
    {
     "name": "stderr",
     "output_type": "stream",
     "text": [
      " 23%|██▎       | 21/92 [29:37<1:33:27, 78.98s/it]"
     ]
    },
    {
     "name": "stdout",
     "output_type": "stream",
     "text": [
      "['(E10) Other: Making any other explanation move.']\n",
      "Correct 0 , Incorrect: 10\n",
      "Overall correct 28 , Overall incorrect: 123\n",
      "F1 Score: 0.18543046357615894\n",
      "New dig: 21 \tTask id 28859\n",
      "['(E05) Signaling understanding.']\n",
      "['(E05) Signaling understanding.']\n",
      "['(E05) Signaling understanding.']\n",
      "['(E05) Signaling understanding.']\n"
     ]
    },
    {
     "name": "stderr",
     "output_type": "stream",
     "text": [
      " 24%|██▍       | 22/92 [30:43<1:27:51, 75.30s/it]"
     ]
    },
    {
     "name": "stdout",
     "output_type": "stream",
     "text": [
      "['(E04) Ask for an explanation.']\n",
      "Correct 0 , Incorrect: 5\n",
      "Overall correct 28 , Overall incorrect: 128\n",
      "F1 Score: 0.1794871794871795\n",
      "New dig: 22 \tTask id 28222\n",
      "['(E05) Signaling understanding.']\n",
      "['(E05) Signaling understanding.']\n",
      "['(E04) Ask for an explanation.']\n",
      "['(E10) Other: Making any other explanation move.']\n",
      "['(E03) Provide an explanation.']\n",
      "['(E10) Other: Making any other explanation move.']\n",
      "['(E10) Other: Making any other explanation move.']\n",
      "['(E02) Testing prior knowledge.']\n",
      "['(E02) Testing prior knowledge.']\n"
     ]
    },
    {
     "name": "stderr",
     "output_type": "stream",
     "text": [
      " 25%|██▌       | 23/92 [32:09<1:30:13, 78.45s/it]"
     ]
    },
    {
     "name": "stdout",
     "output_type": "stream",
     "text": [
      "['(E02) Testing prior knowledge.']\n",
      "Correct 0 , Incorrect: 10\n",
      "Overall correct 28 , Overall incorrect: 138\n",
      "F1 Score: 0.1686746987951807\n",
      "New dig: 23 \tTask id 28636\n",
      "['(E04) Ask for an explanation.']\n",
      "['(E04) Ask for an explanation.']\n",
      "['(E07) Providing Feedback.']\n",
      "['(E04) Ask for an explanation.']\n",
      "['(E03) Provide an explanation.']\n"
     ]
    },
    {
     "name": "stderr",
     "output_type": "stream",
     "text": [
      " 26%|██▌       | 24/92 [33:08<1:22:13, 72.55s/it]"
     ]
    },
    {
     "name": "stdout",
     "output_type": "stream",
     "text": [
      "['(E07) Providing Feedback']\n",
      "Correct 2 , Incorrect: 4\n",
      "Overall correct 30 , Overall incorrect: 142\n",
      "F1 Score: 0.1744186046511628\n",
      "New dig: 24 \tTask id 28302\n",
      "['(E05) Signaling understanding.']\n",
      "['(E04) Ask for an explanation.']\n",
      "['I am sorry to hear that you are having difficulty understanding the proof. I will try my best to explain it to you.\\n\\nThe first step of the proof is P(x): Run H(&lt;P&gt;, x) If TRUE then LOOP; If FALSE then HALT;\\n\\nThis means that the program P will run the program &lt;P&gt; with the argument x. If the program &lt;P&gt; returns true, then the program P will loop. If the program &lt;P&gt; returns false, then the program P will halt.\\n\\nThe second step of the proof is H(x, x): Run H(x, x) If H(x, x) returns \"Halt\" then Loop; If H(x, x) returns \"Loop\" then Halt.\\n\\nThis means that the program H will run the program &lt;P&gt; with the arguments x and x. If the program &lt;P&gt; returns \"Halt\", then the program P will loop. If the program &lt;P&gt; returns \"Loop\", then the program P will halt.\\n\\nThe third step of the']\n",
      "['(E03) Provide an explanation.']\n",
      "['(E03) Provide an explanation.']\n",
      "['P(&lt;P&gt;)']\n",
      "['(E03) Provide an explanation\\n(E07) Providing Feedback']\n",
      "['']\n",
      "['']\n"
     ]
    },
    {
     "name": "stderr",
     "output_type": "stream",
     "text": [
      " 27%|██▋       | 25/92 [35:52<1:51:34, 99.91s/it]"
     ]
    },
    {
     "name": "stdout",
     "output_type": "stream",
     "text": [
      "['']\n",
      "Correct 2 , Incorrect: 8\n",
      "Overall correct 32 , Overall incorrect: 150\n",
      "F1 Score: 0.17582417582417584\n",
      "New dig: 25 \tTask id 28579\n",
      "['(E05) Signaling understanding: Informing the listener that their last utterance was understood.']\n",
      "['(E05) Signaling understanding.']\n",
      "['(E05) Signaling understanding.']\n",
      "['(E04) Ask for an explanation.']\n",
      "['(E04) Ask for an explanation.']\n"
     ]
    },
    {
     "name": "stderr",
     "output_type": "stream",
     "text": [
      " 28%|██▊       | 26/92 [37:18<1:45:29, 95.91s/it]"
     ]
    },
    {
     "name": "stdout",
     "output_type": "stream",
     "text": [
      "['(E05) Signaling understanding']\n",
      "Correct 1 , Incorrect: 5\n",
      "Overall correct 33 , Overall incorrect: 155\n",
      "F1 Score: 0.17553191489361702\n",
      "New dig: 26 \tTask id 28486\n",
      "['(E05) Signaling understanding.']\n",
      "['(E04) Ask for an explanation.']\n",
      "['(E03) Provide an explanation.']\n",
      "['(E04) Ask for an explanation.']\n",
      "['(E04) Ask for an explanation.']\n",
      "['(E07) Providing Feedback.']\n",
      "['(E07) Providing Feedback.']\n"
     ]
    },
    {
     "name": "stderr",
     "output_type": "stream",
     "text": [
      " 29%|██▉       | 27/92 [38:47<1:41:26, 93.64s/it]"
     ]
    },
    {
     "name": "stdout",
     "output_type": "stream",
     "text": [
      "['(E04) Ask for an explanation.']\n",
      "Correct 2 , Incorrect: 6\n",
      "Overall correct 35 , Overall incorrect: 161\n",
      "F1 Score: 0.17857142857142858\n",
      "New dig: 27 \tTask id 28441\n",
      "['(E05) Signaling understanding.']\n",
      "['(E04) Ask for an explanation.']\n",
      "['(E04) Ask for an explanation.']\n",
      "['(E04) Ask for an explanation.']\n",
      "['(E04) Ask for an explanation.']\n",
      "['(E04) Ask for an explanation.']\n",
      "['(E04) Ask for an explanation.']\n",
      "['(E04) Ask for an explanation.']\n"
     ]
    },
    {
     "name": "stderr",
     "output_type": "stream",
     "text": [
      " 30%|███       | 28/92 [41:33<2:02:59, 115.31s/it]"
     ]
    },
    {
     "name": "stdout",
     "output_type": "stream",
     "text": [
      "['(E04) Ask for an explanation.']\n",
      "Correct 3 , Incorrect: 6\n",
      "Overall correct 38 , Overall incorrect: 167\n",
      "F1 Score: 0.18536585365853658\n",
      "New dig: 28 \tTask id 154\n",
      "['(E05) Signaling understanding.']\n",
      "['(E05) Signaling understanding.']\n",
      "['(E04) Ask for an explanation.']\n",
      "['The next turn is (E07) Providing Feedback.']\n",
      "['(E07) Providing Feedback.']\n",
      "['(E10) Other: Making any other explanation move.']\n",
      "['(E10) Other: Making any other explanation move.']\n",
      "['(E07) Providing Feedback.']\n",
      "['(E10) Other: Making any other explanation move.']\n"
     ]
    },
    {
     "name": "stderr",
     "output_type": "stream",
     "text": [
      " 32%|███▏      | 29/92 [42:39<1:45:45, 100.71s/it]"
     ]
    },
    {
     "name": "stdout",
     "output_type": "stream",
     "text": [
      "['(E03) Provide an explanation.']\n",
      "Correct 0 , Incorrect: 10\n",
      "Overall correct 38 , Overall incorrect: 177\n",
      "F1 Score: 0.17674418604651163\n",
      "New dig: 29 \tTask id 177\n",
      "['(E05) Signaling understanding.']\n",
      "['(E04) Ask for an explanation.']\n",
      "[\"turn number: 4, author: Explainee, turn text: hacking [SEP] Hey Colin, I'm interested in what you're doing with hardware hacking, label: (E04) Ask for an explanation.\"]\n",
      "['(E09) Introducing Extraneous Information.']\n",
      "['(E10) Other: Making any other explanation move.']\n",
      "['(E10) Other: Making any other explanation move.']\n",
      "['(E03) Provide an explanation']\n",
      "['(E04) Ask for an explanation']\n",
      "['(E05) Signaling understanding.']\n"
     ]
    },
    {
     "name": "stderr",
     "output_type": "stream",
     "text": [
      " 33%|███▎      | 30/92 [45:14<2:00:53, 116.99s/it]"
     ]
    },
    {
     "name": "stdout",
     "output_type": "stream",
     "text": [
      "['The next turn in the dialogue is (E03) Provide an explanation.']\n",
      "Correct 1 , Incorrect: 9\n",
      "Overall correct 39 , Overall incorrect: 186\n",
      "F1 Score: 0.17333333333333334\n",
      "New dig: 30 \tTask id 170\n",
      "['(E05) Signaling understanding.']\n",
      "['(E05) Signaling understanding.']\n",
      "['(E04) Ask for an explanation.']\n",
      "['(E04) Ask for an explanation.']\n",
      "['turn number: 6, author: Explainee, turn text: machine learning [SEP] Yes, I just finished ninth grade., label: (E03) Provide an explanation.']\n",
      "['(E04) Ask for an explanation.']\n",
      "['(E10) Other']\n",
      "['(E10) Other']\n",
      "['(E10) Other']\n"
     ]
    },
    {
     "name": "stderr",
     "output_type": "stream",
     "text": [
      " 34%|███▎      | 31/92 [47:03<1:56:32, 114.63s/it]"
     ]
    },
    {
     "name": "stdout",
     "output_type": "stream",
     "text": [
      "['(E10) Other']\n",
      "Correct 0 , Incorrect: 10\n",
      "Overall correct 39 , Overall incorrect: 196\n",
      "F1 Score: 0.16595744680851063\n",
      "New dig: 31 \tTask id 28465\n",
      "['(E05) Signaling understanding.']\n",
      "['turn number: 3, author: Explainer, turn text: Add sound nutritional principles such as eating real, whole foods and sleeping at least 8 hours per night to the physical activity and mindfulness/meditation/isolation exercise mentioned and you have the foundations to a healthy and thus much more likely to be happy life. \\n\\nHappy body = happy mind., label: (E03) Provide an explanation.']\n",
      "['(E10) Other: Making any other explanation move.']\n",
      "['The next turn will be (E03) Provide an explanation.']\n",
      "['The next turn in the dialogue is (E07) Providing Feedback.']\n",
      "['The next turn is (E05) Signaling understanding.']\n",
      "['(E04) Ask for an explanation.']\n"
     ]
    },
    {
     "name": "stderr",
     "output_type": "stream",
     "text": [
      " 35%|███▍      | 32/92 [48:11<1:40:40, 100.67s/it]"
     ]
    },
    {
     "name": "stdout",
     "output_type": "stream",
     "text": [
      "['(E04) Ask for an explanation.']\n",
      "Correct 0 , Incorrect: 8\n",
      "Overall correct 39 , Overall incorrect: 204\n",
      "F1 Score: 0.16049382716049382\n",
      "New dig: 32 \tTask id 28413\n",
      "['(E05) Signaling understanding: Informing the listener that their last utterance was understood.']\n",
      "[\"turn number: 3, author: Explainer, turn text: It's a disease because by definition in medicine a state of disease is any state that is a deviation from normal with a cause. Alcoholism actually remaps the brain and causes dependency. Meaning you may actually die if you abruptly stop  drinking. It creates a response system similar to narcotics or nicotine: it needs it to function properly., label: (E03) Provide an explanation.\"]\n",
      "[\"turn number: 4, author: Explainer, turn text: It's a disease because by definition in medicine a state of disease is any state that is a deviation from normal with a cause. Alcoholism actually remaps the brain and causes dependency. Meaning you may actually die if you abruptly stop  drinking. It creates a response system similar to narcotics or nicotine: it needs it to function properly., label: (E03) Provide an explanation.\"]\n",
      "['(E04) Ask for an explanation.']\n",
      "['(E10) Other: Making any other explanation move.']\n",
      "['(E05) Signaling understanding.']\n",
      "['(E03) Provide an explanation.']\n",
      "['(E10) Other']\n"
     ]
    },
    {
     "name": "stderr",
     "output_type": "stream",
     "text": [
      " 36%|███▌      | 33/92 [50:20<1:47:12, 109.03s/it]"
     ]
    },
    {
     "name": "stdout",
     "output_type": "stream",
     "text": [
      "['(E10) Other']\n",
      "Correct 1 , Incorrect: 8\n",
      "Overall correct 40 , Overall incorrect: 212\n",
      "F1 Score: 0.15873015873015872\n",
      "New dig: 33 \tTask id 28759\n",
      "['(E04) Ask for an explanation.']\n",
      "['(E04) Ask for an explanation.']\n",
      "['(E04) Ask for an explanation.']\n",
      "['(E03) Provide an explanation.']\n"
     ]
    },
    {
     "name": "stderr",
     "output_type": "stream",
     "text": [
      " 37%|███▋      | 34/92 [51:33<1:34:53, 98.16s/it] "
     ]
    },
    {
     "name": "stdout",
     "output_type": "stream",
     "text": [
      "['(E04) Ask for an explanation.']\n",
      "Correct 1 , Incorrect: 4\n",
      "Overall correct 41 , Overall incorrect: 216\n",
      "F1 Score: 0.15953307392996108\n",
      "New dig: 34 \tTask id 28683\n",
      "['(E05) Signaling understanding.']\n",
      "['Label: (E04) Ask for an explanation.']\n",
      "['(E04) Ask for an explanation.']\n",
      "['(E03) Provide an explanation.']\n",
      "['(E03) Provide an explanation.']\n"
     ]
    },
    {
     "name": "stderr",
     "output_type": "stream",
     "text": [
      " 38%|███▊      | 35/92 [52:05<1:14:25, 78.34s/it]"
     ]
    },
    {
     "name": "stdout",
     "output_type": "stream",
     "text": [
      "['(E04) Ask for an explanation.']\n",
      "Correct 0 , Incorrect: 6\n",
      "Overall correct 41 , Overall incorrect: 222\n",
      "F1 Score: 0.155893536121673\n",
      "New dig: 35 \tTask id 28548\n",
      "['(E05) Signaling understanding.']\n",
      "['(E05) Signaling understanding.']\n",
      "['(E04) Ask for an explanation.']\n",
      "['(E07) Providing Feedback.']\n",
      "['(E04) Ask for an explanation.']\n",
      "['(E07) Providing Feedback.']\n"
     ]
    },
    {
     "name": "stderr",
     "output_type": "stream",
     "text": [
      " 39%|███▉      | 36/92 [53:12<1:10:00, 75.00s/it]"
     ]
    },
    {
     "name": "stdout",
     "output_type": "stream",
     "text": [
      "['(E07) Providing Feedback.']\n",
      "Correct 3 , Incorrect: 4\n",
      "Overall correct 44 , Overall incorrect: 226\n",
      "F1 Score: 0.16296296296296298\n",
      "New dig: 36 \tTask id 28337\n",
      "['(E05) Signaling understanding.']\n",
      "['(E03) Provide an explanation.']\n",
      "['(E04) Ask for an explanation.']\n",
      "['(E04) Ask for an explanation.']\n",
      "['(E04) Ask for an explanation.']\n",
      "['(E04) Ask for an explanation.']\n",
      "['(E04) Ask for an explanation.']\n",
      "['(E07) Providing Feedback']\n",
      "['Based on the provided dialogue turns and their respective labels, predict only the label of the next turn in the dialogue.']\n"
     ]
    },
    {
     "name": "stderr",
     "output_type": "stream",
     "text": [
      " 40%|████      | 37/92 [54:05<1:02:33, 68.25s/it]"
     ]
    },
    {
     "name": "stdout",
     "output_type": "stream",
     "text": [
      "['']\n",
      "Correct 1 , Incorrect: 9\n",
      "Overall correct 45 , Overall incorrect: 235\n",
      "F1 Score: 0.16071428571428573\n",
      "New dig: 37 \tTask id 193\n",
      "['(E05) Signaling understanding.']\n",
      "['(E05) Signaling understanding.']\n",
      "['(E04) Ask for an explanation.']\n",
      "['(E09) Introducing Extraneous Information Giving additional information to foster a complete understanding.']\n",
      "['(E10) Other']\n",
      "['(E03) Provide an explanation.']\n",
      "['(E03) Provide an explanation.']\n",
      "['(E04) Ask for an explanation.']\n",
      "['(E10) Other']\n"
     ]
    },
    {
     "name": "stderr",
     "output_type": "stream",
     "text": [
      " 41%|████▏     | 38/92 [55:07<59:53, 66.54s/it]  "
     ]
    },
    {
     "name": "stdout",
     "output_type": "stream",
     "text": [
      "['(E03) Provide an explanation.']\n",
      "Correct 4 , Incorrect: 6\n",
      "Overall correct 49 , Overall incorrect: 241\n",
      "F1 Score: 0.16896551724137931\n",
      "New dig: 38 \tTask id 28577\n",
      "['(E05) Signaling understanding.']\n",
      "['(E05) Signaling understanding.']\n",
      "['(E10) Other: Making any other explanation move.']\n",
      "['(E03) Provide an explanation.']\n",
      "['(E03) Provide an explanation.']\n"
     ]
    },
    {
     "name": "stderr",
     "output_type": "stream",
     "text": [
      " 42%|████▏     | 39/92 [56:19<1:00:10, 68.12s/it]"
     ]
    },
    {
     "name": "stdout",
     "output_type": "stream",
     "text": [
      "['(E03) Provide an explanation.']\n",
      "Correct 1 , Incorrect: 5\n",
      "Overall correct 50 , Overall incorrect: 246\n",
      "F1 Score: 0.16891891891891891\n",
      "New dig: 39 \tTask id 28719\n",
      "['turn number: 2, author: Explainer, turn text: Because they both measure time, label: (E05) Signaling understanding.']\n",
      "['turn number: 3, author: Explainer, turn text: It is amazing to mean how a good mechanical (automatic) wrist watch can run 24/7 for decade without service. \\nImagine idling your car for decades without ever checking the oil let alone changing it., label: (E04) Ask for an explanation.']\n",
      "['turn number: 4, author: Explainer, turn text: It is amazing to mean how a good mechanical (automatic) wrist watch can run 24/7 for decade without service. \\nImagine idling your car for decades without ever checking the oil let alone changing it., label: (E03) Provide an explanation.']\n",
      "['(E10) Other: Making any other explanation move.']\n"
     ]
    },
    {
     "name": "stderr",
     "output_type": "stream",
     "text": [
      " 43%|████▎     | 40/92 [57:09<54:16, 62.63s/it]  "
     ]
    },
    {
     "name": "stdout",
     "output_type": "stream",
     "text": [
      "['The next turn is (E07) Providing Feedback.']\n",
      "Correct 0 , Incorrect: 5\n",
      "Overall correct 50 , Overall incorrect: 251\n",
      "F1 Score: 0.16611295681063123\n",
      "New dig: 40 \tTask id 28728\n",
      "['(E05) Signaling understanding.']\n",
      "['(E04) Ask for an explanation.']\n",
      "['turn number: 1, author: Explainee, turn text: how is Erdogan threatening to let migrants into Europe actually a threat when migrants are so great? [SEP] how is Erdogan threatening to let migrants into Europe actually a threat when migrants are so great?, label: (E04) Ask for an explanation.\\nturn number: 2, author: Explainer, turn text: how is Erdogan threatening to let migrants into Europe actually a threat when migrants are so great? [SEP] &gt; Taking people in is a service that the EU provides now? How much are they getting paid for this service?\\n\\nSweetie, you really need to pick up a newspaper occasionally. You’re displaying some profound ignorance now., label: (E09) Introducing Extraneous Information.\\nturn number: 3, author: Explainee, turn text: how is Erdogan threatening to let migrants into Europe actually a threat when migrants are so great? [SEP] Sweaty, answer the question., label: (E07) Providing Feedback.']\n",
      "['(E04) Ask for an explanation.']\n"
     ]
    },
    {
     "name": "stderr",
     "output_type": "stream",
     "text": [
      " 45%|████▍     | 41/92 [58:26<56:55, 66.97s/it]"
     ]
    },
    {
     "name": "stdout",
     "output_type": "stream",
     "text": [
      "['(E04) Ask for an explanation.']\n",
      "Correct 0 , Incorrect: 5\n",
      "Overall correct 50 , Overall incorrect: 256\n",
      "F1 Score: 0.16339869281045752\n",
      "New dig: 41 \tTask id 28477\n",
      "['(E05) Signaling understanding: Informing the listener that their last utterance was understood.']\n",
      "['(E09) Introducing Extraneous Information Giving additional information to foster a complete understanding.']\n",
      "['(E04) Ask for an explanation.']\n",
      "['(E04) Ask for an explanation.']\n",
      "['(E03) Provide an explanation.']\n",
      "['(E03) Provide an explanation.']\n",
      "['(E03) Provide an explanation.']\n"
     ]
    },
    {
     "name": "stderr",
     "output_type": "stream",
     "text": [
      " 46%|████▌     | 42/92 [1:01:49<1:29:50, 107.80s/it]"
     ]
    },
    {
     "name": "stdout",
     "output_type": "stream",
     "text": [
      "['(E03) Provide an explanation.']\n",
      "Correct 3 , Incorrect: 5\n",
      "Overall correct 53 , Overall incorrect: 261\n",
      "F1 Score: 0.16878980891719744\n",
      "New dig: 42 \tTask id 183\n",
      "['(E05) Signaling understanding.']\n",
      "['(E05) Signaling understanding.']\n",
      "['(E05) Signaling understanding.']\n",
      "['(E05) Signaling understanding.']\n",
      "['(E10) Other: Making any other explanation move.']\n",
      "['(E10) Other: Making any other explanation move.']\n",
      "['(E10) Other: Making any other explanation move.']\n",
      "['(E10) Other: Making any other explanation move.']\n",
      "['(E09) Introducing Extraneous Information Giving additional information to foster a complete understanding.']\n"
     ]
    },
    {
     "name": "stderr",
     "output_type": "stream",
     "text": [
      " 47%|████▋     | 43/92 [1:03:08<1:20:52, 99.04s/it] "
     ]
    },
    {
     "name": "stdout",
     "output_type": "stream",
     "text": [
      "['(E10) Other: Making any other explanation move.']\n",
      "Correct 0 , Incorrect: 10\n",
      "Overall correct 53 , Overall incorrect: 271\n",
      "F1 Score: 0.16358024691358025\n",
      "New dig: 43 \tTask id 28743\n",
      "['(E05) Signaling understanding.']\n",
      "['(E04) Ask for an explanation.']\n",
      "['(E04) Ask for an explanation.']\n",
      "['(E10) Other: Making any other explanation move.']\n"
     ]
    },
    {
     "name": "stderr",
     "output_type": "stream",
     "text": [
      " 48%|████▊     | 44/92 [1:04:00<1:08:09, 85.20s/it]"
     ]
    },
    {
     "name": "stdout",
     "output_type": "stream",
     "text": [
      "['(E05) Signaling understanding.']\n",
      "Correct 0 , Incorrect: 5\n",
      "Overall correct 53 , Overall incorrect: 276\n",
      "F1 Score: 0.16109422492401215\n",
      "New dig: 44 \tTask id 28517\n",
      "['(E05) Signaling understanding: Informing the listener that their last utterance was understood.']\n",
      "['(E04) Ask for an explanation.']\n",
      "['(E07) Providing Feedback.']\n",
      "['(E07) Providing Feedback.']\n",
      "['(E07) Providing Feedback.']\n",
      "['(E07) Providing Feedback.']\n"
     ]
    },
    {
     "name": "stderr",
     "output_type": "stream",
     "text": [
      " 49%|████▉     | 45/92 [1:05:43<1:10:47, 90.38s/it]"
     ]
    },
    {
     "name": "stdout",
     "output_type": "stream",
     "text": [
      "['(E04) Ask for an explanation.']\n",
      "Correct 2 , Incorrect: 5\n",
      "Overall correct 55 , Overall incorrect: 281\n",
      "F1 Score: 0.1636904761904762\n",
      "New dig: 45 \tTask id 28635\n",
      "['(E05) Signaling understanding.']\n",
      "['(E04) Ask for an explanation.']\n",
      "[\"turn number: 4, author: Explainer, turn text: The guy you're talking to doesn't know what he's talking about. Sperm do have senses., label: (E03) Provide an explanation.\"]\n",
      "['(E04) Ask for an explanation.']\n",
      "['(E10) Other: Making any other explanation move.']\n"
     ]
    },
    {
     "name": "stderr",
     "output_type": "stream",
     "text": [
      " 50%|█████     | 46/92 [1:07:00<1:06:08, 86.27s/it]"
     ]
    },
    {
     "name": "stdout",
     "output_type": "stream",
     "text": [
      "['(E04) Ask for an explanation.']\n",
      "Correct 2 , Incorrect: 4\n",
      "Overall correct 57 , Overall incorrect: 285\n",
      "F1 Score: 0.16666666666666666\n",
      "New dig: 46 \tTask id 28597\n",
      "['(E04) Ask for an explanation.']\n",
      "['(E05) Signaling understanding.']\n",
      "['(E04) Ask for an explanation.']\n",
      "['The next turn is (E05) Signaling understanding.']\n",
      "['(E05) Signaling understanding.']\n"
     ]
    },
    {
     "name": "stderr",
     "output_type": "stream",
     "text": [
      " 51%|█████     | 47/92 [1:07:39<54:04, 72.11s/it]  "
     ]
    },
    {
     "name": "stdout",
     "output_type": "stream",
     "text": [
      "['(E05) Signaling understanding.']\n",
      "Correct 0 , Incorrect: 6\n",
      "Overall correct 57 , Overall incorrect: 291\n",
      "F1 Score: 0.16379310344827586\n",
      "New dig: 47 \tTask id 28814\n",
      "['(E05) Signaling understanding.']\n",
      "['(E10) Other: Making any other explanation move.']\n",
      "['(E04) Ask for an explanation.']\n",
      "['(E04) Ask for an explanation.']\n"
     ]
    },
    {
     "name": "stderr",
     "output_type": "stream",
     "text": [
      " 52%|█████▏    | 48/92 [1:07:59<41:25, 56.48s/it]"
     ]
    },
    {
     "name": "stdout",
     "output_type": "stream",
     "text": [
      "['(E04) Ask for an explanation.']\n",
      "Correct 0 , Incorrect: 5\n",
      "Overall correct 57 , Overall incorrect: 296\n",
      "F1 Score: 0.16147308781869688\n",
      "New dig: 48 \tTask id 146\n",
      "['(E05) Signaling understanding.']\n",
      "['(E05) Signaling understanding.']\n",
      "['(E05) Signaling understanding.']\n",
      "['(E05) Signaling understanding.']\n",
      "['(E04) Ask for an explanation.']\n",
      "['(E05) Signaling understanding.']\n"
     ]
    },
    {
     "name": "stderr",
     "output_type": "stream",
     "text": [
      " 53%|█████▎    | 49/92 [1:08:51<39:41, 55.38s/it]"
     ]
    },
    {
     "name": "stdout",
     "output_type": "stream",
     "text": [
      "['(E04) Ask for an explanation.']\n",
      "Correct 0 , Incorrect: 7\n",
      "Overall correct 57 , Overall incorrect: 303\n",
      "F1 Score: 0.15833333333333333\n",
      "New dig: 49 \tTask id 28601\n",
      "['(E05) Signaling understanding.']\n",
      "['(E09) Introducing Extraneous Information Giving additional information to foster a complete understanding.']\n",
      "['(E04) Ask for an explanation.']\n",
      "['(E04) Ask for an explanation.']\n",
      "['(E03) Provide an explanation.']\n"
     ]
    },
    {
     "name": "stderr",
     "output_type": "stream",
     "text": [
      " 54%|█████▍    | 50/92 [1:09:38<37:00, 52.87s/it]"
     ]
    },
    {
     "name": "stdout",
     "output_type": "stream",
     "text": [
      "['(E04) Ask for an explanation.']\n",
      "Correct 0 , Incorrect: 6\n",
      "Overall correct 57 , Overall incorrect: 309\n",
      "F1 Score: 0.1557377049180328\n",
      "New dig: 50 \tTask id 28839\n",
      "['(E05) Signaling understanding.']\n",
      "['(E05) Signaling understanding.']\n",
      "['(E04) Ask for an explanation.']\n",
      "['(E04) Ask for an explanation.']\n"
     ]
    },
    {
     "name": "stderr",
     "output_type": "stream",
     "text": [
      " 55%|█████▌    | 51/92 [1:10:31<36:08, 52.88s/it]"
     ]
    },
    {
     "name": "stdout",
     "output_type": "stream",
     "text": [
      "['(E10) Other: Making any other explanation move.']\n",
      "Correct 0 , Incorrect: 5\n",
      "Overall correct 57 , Overall incorrect: 314\n",
      "F1 Score: 0.15363881401617252\n",
      "New dig: 51 \tTask id 28344\n",
      "['(E05) Signaling understanding: Informing the listener that their last utterance was understood.']\n",
      "['(E04) Ask for an explanation.']\n",
      "['(E09) Introducing Extraneous Information Giving additional information to foster a complete understanding.']\n",
      "['(E04) Ask for an explanation.']\n",
      "['(E10) Other: Making any other explanation move.']\n",
      "['(E10) Other: Making any other explanation move.']\n",
      "['(E04) Ask for an explanation.']\n",
      "['(E03) Provide an explanation.']\n",
      "['The next turn in the dialogue is (E09) Introducing Extraneous Information.']\n"
     ]
    },
    {
     "name": "stderr",
     "output_type": "stream",
     "text": [
      " 57%|█████▋    | 52/92 [1:14:31<1:12:33, 108.84s/it]"
     ]
    },
    {
     "name": "stdout",
     "output_type": "stream",
     "text": [
      "['(E04) Ask for an explanation.']\n",
      "Correct 0 , Incorrect: 10\n",
      "Overall correct 57 , Overall incorrect: 324\n",
      "F1 Score: 0.14960629921259844\n",
      "New dig: 52 \tTask id 28559\n",
      "['(E05) Signaling understanding.']\n",
      "['(E04) Ask for an explanation.']\n",
      "['(E04) Ask for an explanation.']\n",
      "['(E07) Providing Feedback.']\n",
      "['(E07) Providing Feedback.']\n",
      "['(E07) Providing Feedback.']\n"
     ]
    },
    {
     "name": "stderr",
     "output_type": "stream",
     "text": [
      " 58%|█████▊    | 53/92 [1:15:50<1:04:56, 99.90s/it] "
     ]
    },
    {
     "name": "stdout",
     "output_type": "stream",
     "text": [
      "['(E04) Ask for an explanation.']\n",
      "Correct 1 , Incorrect: 6\n",
      "Overall correct 58 , Overall incorrect: 330\n",
      "F1 Score: 0.14948453608247422\n",
      "New dig: 53 \tTask id 28807\n",
      "['(E05) Signaling understanding: Informing the listener that their last utterance was understood.']\n",
      "['(E05) Signaling understanding.']\n",
      "['(E04) Ask for an explanation.']\n",
      "['(E04) Ask for an explanation.']\n"
     ]
    },
    {
     "name": "stderr",
     "output_type": "stream",
     "text": [
      " 59%|█████▊    | 54/92 [1:16:16<49:14, 77.76s/it]  "
     ]
    },
    {
     "name": "stdout",
     "output_type": "stream",
     "text": [
      "['(E04) Ask for an explanation.']\n",
      "Correct 1 , Incorrect: 4\n",
      "Overall correct 59 , Overall incorrect: 334\n",
      "F1 Score: 0.15012722646310434\n",
      "New dig: 54 \tTask id 28530\n",
      "['(E05) Signaling understanding: Informing the listener that their last utterance was understood.']\n",
      "['(E04) Ask for an explanation.']\n",
      "['(E04) Ask for an explanation.']\n",
      "['(E04) Ask for an explanation.']\n",
      "['(E07) Providing Feedback.']\n",
      "['(E07) Providing Feedback.']\n"
     ]
    },
    {
     "name": "stderr",
     "output_type": "stream",
     "text": [
      " 60%|█████▉    | 55/92 [1:17:09<43:27, 70.48s/it]"
     ]
    },
    {
     "name": "stdout",
     "output_type": "stream",
     "text": [
      "['(E07) Providing Feedback.']\n",
      "Correct 4 , Incorrect: 3\n",
      "Overall correct 63 , Overall incorrect: 337\n",
      "F1 Score: 0.1575\n",
      "New dig: 55 \tTask id 28467\n",
      "['(E05) Signaling understanding: Informing the listener that their last utterance was understood.']\n",
      "['(E04) Ask for an explanation.']\n",
      "['(E04) Ask for an explanation.']\n",
      "['(E03) Provide an explanation.']\n",
      "['(E04) Ask for an explanation.']\n",
      "['(E03) Provide an explanation.']\n",
      "['(E03) Provide an explanation.']\n"
     ]
    },
    {
     "name": "stderr",
     "output_type": "stream",
     "text": [
      " 61%|██████    | 56/92 [1:18:52<48:04, 80.13s/it]"
     ]
    },
    {
     "name": "stdout",
     "output_type": "stream",
     "text": [
      "['(E04) Ask for an explanation.']\n",
      "Correct 2 , Incorrect: 6\n",
      "Overall correct 65 , Overall incorrect: 343\n",
      "F1 Score: 0.15931372549019607\n",
      "New dig: 56 \tTask id 28342\n",
      "['(E05) Signaling understanding.']\n",
      "['(E04) Ask for an explanation.']\n",
      "['(E04) Ask for an explanation.']\n",
      "['(E04) Ask for an explanation.']\n",
      "['(E04) Ask for an explanation.']\n",
      "['(E01) Testing understanding']\n",
      "[\"Explainee: Whys is it socially ok for a white person to tan, but considered wrong for a non-white to lighten their skin (or prevent tanning)?\\n\\nExplainer: I'm not really sure what you're asking here?\\n\\nExplainee: I know absolutely nothing about Japanese people covering their faces and what purpose it serves. Or how it could be relevant to this conversation.\\n\\nExplainer: The Japanese comment was a way to illustrate how it is achieved.\\n\\nExplainee: TL;DR your logic doesn't make sense for both scenarios, asking you to elaborate.\\n\\nExplainer: My reasoning was never solely based on the danger of it, I explained the harmfulness because you asked why it would be concerning if somebody went out of their way to become paler.\\n\\nExplainee: If you refer to my previous comments, it’s about the effort it requires and if it’s actually natural, *as well as* the danger it poses. Tanning is a natural process and often incurs few risks, and can also be done effortlessly. Lightening your skin is not a natural process,\"]\n",
      "['(E04) Ask for an explanation.']\n",
      "['(E04) Ask for an explanation.']\n"
     ]
    },
    {
     "name": "stderr",
     "output_type": "stream",
     "text": [
      " 62%|██████▏   | 57/92 [1:22:57<1:15:30, 129.46s/it]"
     ]
    },
    {
     "name": "stdout",
     "output_type": "stream",
     "text": [
      "['(E04) Ask for an explanation.']\n",
      "Correct 1 , Incorrect: 9\n",
      "Overall correct 66 , Overall incorrect: 352\n",
      "F1 Score: 0.15789473684210525\n",
      "New dig: 57 \tTask id 28648\n",
      "['(E05) Signaling understanding.']\n",
      "['(E04) Ask for an explanation.']\n",
      "['(E04) Ask for an explanation.']\n",
      "['(E10) Other: Making any other explanation move.']\n",
      "['(E04) Ask for an explanation.']\n"
     ]
    },
    {
     "name": "stderr",
     "output_type": "stream",
     "text": [
      " 63%|██████▎   | 58/92 [1:23:47<59:56, 105.79s/it]  "
     ]
    },
    {
     "name": "stdout",
     "output_type": "stream",
     "text": [
      "['(E07) Providing Feedback.']\n",
      "Correct 1 , Incorrect: 5\n",
      "Overall correct 67 , Overall incorrect: 357\n",
      "F1 Score: 0.1580188679245283\n",
      "New dig: 58 \tTask id 28538\n",
      "['(E05) Signaling understanding.']\n",
      "['(E04) Ask for an explanation.']\n",
      "['(E09) Introducing Extraneous Information Giving additional information to foster a complete understanding.']\n",
      "['(E04) Ask for an explanation.']\n",
      "['(E04) Ask for an explanation.']\n",
      "['(E04) Ask for an explanation.']\n"
     ]
    },
    {
     "name": "stderr",
     "output_type": "stream",
     "text": [
      " 64%|██████▍   | 59/92 [1:24:21<46:22, 84.33s/it] "
     ]
    },
    {
     "name": "stdout",
     "output_type": "stream",
     "text": [
      "['(E04) Ask for an explanation.']\n",
      "Correct 3 , Incorrect: 4\n",
      "Overall correct 70 , Overall incorrect: 361\n",
      "F1 Score: 0.16241299303944315\n",
      "New dig: 59 \tTask id 203\n",
      "['(E05) Signaling understanding.']\n",
      "['(E05) Signaling understanding.']\n",
      "[\"turn number: 4, author: Explainee, turn text: blackhole [SEP] So, what I'm trying to do is to understand the physics of the accretion disk, which is the donut-shaped torus of material around the black hole, label: (E03) Provide an explanation.\"]\n",
      "['(E05) Signaling understanding.']\n",
      "['The next turn in the dialogue is (E07) Providing Feedback.']\n",
      "['(E10) Other: Making any other explanation move.']\n",
      "['(E10) Other: Making any other explanation move.']\n",
      "['(E10) Other: Making any other explanation move.']\n",
      "['(E03) Provide an explanation.']\n"
     ]
    },
    {
     "name": "stderr",
     "output_type": "stream",
     "text": [
      " 65%|██████▌   | 60/92 [1:26:31<52:12, 97.88s/it]"
     ]
    },
    {
     "name": "stdout",
     "output_type": "stream",
     "text": [
      "['(E10) Other: Making any other explanation move.']\n",
      "Correct 1 , Incorrect: 9\n",
      "Overall correct 71 , Overall incorrect: 370\n",
      "F1 Score: 0.16099773242630386\n",
      "New dig: 60 \tTask id 189\n",
      "['(E05) Signaling understanding.']\n",
      "['(E05) Signaling understanding.']\n",
      "['(E04) Ask for an explanation.']\n",
      "['(E05) Signaling understanding.']\n",
      "['(E04) Ask for an explanation.']\n",
      "['(E10) Other: Making any other explanation move.']\n",
      "['(E10) Other: Making any other explanation move.']\n",
      "['(E10) Other: Making any other explanation move.']\n",
      "['(E10) Other: Making any other explanation move.']\n"
     ]
    },
    {
     "name": "stderr",
     "output_type": "stream",
     "text": [
      " 66%|██████▋   | 61/92 [1:27:58<48:57, 94.76s/it]"
     ]
    },
    {
     "name": "stdout",
     "output_type": "stream",
     "text": [
      "['(E02) Testing prior knowledge']\n",
      "Correct 0 , Incorrect: 10\n",
      "Overall correct 71 , Overall incorrect: 380\n",
      "F1 Score: 0.1574279379157428\n",
      "New dig: 61 \tTask id 174\n",
      "['(E05) Signaling understanding.']\n",
      "['(E05) Signaling understanding.']\n",
      "['(E04) Ask for an explanation.']\n",
      "['(E05) Signaling understanding.']\n",
      "['(E10) Other: Making any other explanation move.']\n",
      "[\"turn number: 7, author: Explainer, turn text: lasers [SEP] [Donna] No, I haven't., label: (E04) Ask for an explanation.\"]\n",
      "['(E10) Other: Making any other explanation move.']\n",
      "['(E10) Other: Making any other explanation move.']\n",
      "['(E02) Testing prior knowledge']\n"
     ]
    },
    {
     "name": "stderr",
     "output_type": "stream",
     "text": [
      " 67%|██████▋   | 62/92 [1:29:34<47:33, 95.11s/it]"
     ]
    },
    {
     "name": "stdout",
     "output_type": "stream",
     "text": [
      "['(E02) Testing prior knowledge.']\n",
      "Correct 0 , Incorrect: 10\n",
      "Overall correct 71 , Overall incorrect: 390\n",
      "F1 Score: 0.1540130151843818\n",
      "New dig: 62 \tTask id 28615\n",
      "['(E05) Signaling understanding.']\n",
      "['(E04) Ask for an explanation.']\n",
      "['(E04) Ask for an explanation.']\n",
      "['(E04) Ask for an explanation.']\n",
      "['(E04) Ask for an explanation.']\n"
     ]
    },
    {
     "name": "stderr",
     "output_type": "stream",
     "text": [
      " 68%|██████▊   | 63/92 [1:30:26<39:38, 82.01s/it]"
     ]
    },
    {
     "name": "stdout",
     "output_type": "stream",
     "text": [
      "['The technique is far from reliable.']\n",
      "Correct 1 , Incorrect: 5\n",
      "Overall correct 72 , Overall incorrect: 395\n",
      "F1 Score: 0.15417558886509636\n",
      "New dig: 63 \tTask id 28699\n",
      "['(E05) Signaling understanding.']\n",
      "['(E04) Ask for an explanation.']\n",
      "['(E04) Ask for an explanation.']\n",
      "['(E04) Ask for an explanation.']\n"
     ]
    },
    {
     "name": "stderr",
     "output_type": "stream",
     "text": [
      " 70%|██████▉   | 64/92 [1:30:45<29:30, 63.23s/it]"
     ]
    },
    {
     "name": "stdout",
     "output_type": "stream",
     "text": [
      "['(E04) Ask for an explanation.']\n",
      "Correct 2 , Incorrect: 3\n",
      "Overall correct 74 , Overall incorrect: 398\n",
      "F1 Score: 0.15677966101694915\n",
      "New dig: 64 \tTask id 28510\n",
      "['(E05) Signaling understanding.']\n",
      "['(E05) Signaling understanding.']\n",
      "['(E04) Ask for an explanation.']\n",
      "['(E04) Ask for an explanation.']\n",
      "['(E04) Ask for an explanation.']\n",
      "['(E04) Ask for an explanation.']\n"
     ]
    },
    {
     "name": "stderr",
     "output_type": "stream",
     "text": [
      " 71%|███████   | 65/92 [1:31:37<26:51, 59.68s/it]"
     ]
    },
    {
     "name": "stdout",
     "output_type": "stream",
     "text": [
      "['(E04) Ask for an explanation.']\n",
      "Correct 2 , Incorrect: 5\n",
      "Overall correct 76 , Overall incorrect: 403\n",
      "F1 Score: 0.15866388308977036\n",
      "New dig: 65 \tTask id 28836\n",
      "['(E05) Signaling understanding: Informing the listener that their last utterance was understood.']\n",
      "['(E05) Signaling understanding.']\n",
      "['(E10) Other: Making any other explanation move.']\n",
      "['(E03) Provide an explanation.']\n"
     ]
    },
    {
     "name": "stderr",
     "output_type": "stream",
     "text": [
      " 72%|███████▏  | 66/92 [1:32:24<24:17, 56.06s/it]"
     ]
    },
    {
     "name": "stdout",
     "output_type": "stream",
     "text": [
      "['(E04) Ask for an explanation.']\n",
      "Correct 0 , Incorrect: 5\n",
      "Overall correct 76 , Overall incorrect: 408\n",
      "F1 Score: 0.15702479338842976\n",
      "New dig: 66 \tTask id 169\n",
      "['(E05) Signaling understanding.']\n",
      "['(E05) Signaling understanding.']\n",
      "['(E04) Ask for an explanation.']\n",
      "['(E04) Ask for an explanation.']\n",
      "['(E04) Ask for an explanation.']\n",
      "[\"turn number: 7, author: Explainee, turn text: machine learning [SEP] Yeah, I have. So to me, machine learning is essentially exactly what it sounds like. It's trying to teach a machine specifics about something by inputting a lot of data points and slowly, the machine will build up knowledge about it over time. For example, my Gmail program, I assume that there would be a lot of, like, machine learning models happening at once, right?, label: (E03) Provide an explanation.\"]\n",
      "['(E10) Other: Making any other explanation move.']\n",
      "['(E03) Provide an explanation.']\n",
      "['(E09) Introducing Extraneous Information']\n"
     ]
    },
    {
     "name": "stderr",
     "output_type": "stream",
     "text": [
      " 73%|███████▎  | 67/92 [1:34:40<33:22, 80.09s/it]"
     ]
    },
    {
     "name": "stdout",
     "output_type": "stream",
     "text": [
      "['(E05) Signaling understanding']\n",
      "Correct 1 , Incorrect: 9\n",
      "Overall correct 77 , Overall incorrect: 417\n",
      "F1 Score: 0.15587044534412955\n",
      "New dig: 67 \tTask id 28846\n",
      "['(E05) Signaling understanding.']\n",
      "['(E04) Ask for an explanation.']\n",
      "['(E04) Ask for an explanation.']\n",
      "['I think the main difference here is the large amount of sugar in soda, and sugar will cause the body to retain water. However, it shouldn\\'t be so much of a difference that the caffeine \"doesn\\'t cause you to go washroom\".']\n"
     ]
    },
    {
     "name": "stderr",
     "output_type": "stream",
     "text": [
      " 74%|███████▍  | 68/92 [1:36:02<32:14, 80.59s/it]"
     ]
    },
    {
     "name": "stdout",
     "output_type": "stream",
     "text": [
      "['(E03) Provide an explanation.']\n",
      "Correct 0 , Incorrect: 5\n",
      "Overall correct 77 , Overall incorrect: 422\n",
      "F1 Score: 0.15430861723446893\n",
      "New dig: 68 \tTask id 28564\n",
      "['The next turn is (E05) Signaling understanding.']\n",
      "['(E05) Signaling understanding.']\n",
      "['(E05) Signaling understanding.']\n",
      "['(E03) Provide an explanation.']\n",
      "['(E03) Provide an explanation.']\n",
      "['The next turn in the dialogue is (E03) Provide an explanation.']\n"
     ]
    },
    {
     "name": "stderr",
     "output_type": "stream",
     "text": [
      " 75%|███████▌  | 69/92 [1:38:24<37:59, 99.13s/it]"
     ]
    },
    {
     "name": "stdout",
     "output_type": "stream",
     "text": [
      "['(E04) Ask for an explanation.']\n",
      "Correct 1 , Incorrect: 6\n",
      "Overall correct 78 , Overall incorrect: 428\n",
      "F1 Score: 0.1541501976284585\n",
      "New dig: 69 \tTask id 28608\n",
      "['(E05) Signaling understanding: Informing the listener that their last utterance was understood.']\n",
      "['(E04) Ask for an explanation.']\n",
      "['(E04) Ask for an explanation.']\n",
      "['(E04) Ask for an explanation.']\n",
      "['The next turn is (E04) Ask for an explanation.']\n"
     ]
    },
    {
     "name": "stderr",
     "output_type": "stream",
     "text": [
      " 76%|███████▌  | 70/92 [1:39:12<30:39, 83.62s/it]"
     ]
    },
    {
     "name": "stdout",
     "output_type": "stream",
     "text": [
      "['(E04) Ask for an explanation.']\n",
      "Correct 2 , Incorrect: 4\n",
      "Overall correct 80 , Overall incorrect: 432\n",
      "F1 Score: 0.15625\n",
      "New dig: 70 \tTask id 28642\n",
      "['(E05) Signaling understanding.']\n",
      "['(E04) Ask for an explanation.']\n",
      "['(E04) Ask for an explanation.']\n",
      "['(E03) Provide an explanation.']\n",
      "['(E03) Provide an explanation.']\n"
     ]
    },
    {
     "name": "stderr",
     "output_type": "stream",
     "text": [
      " 77%|███████▋  | 71/92 [1:41:09<32:47, 93.67s/it]"
     ]
    },
    {
     "name": "stdout",
     "output_type": "stream",
     "text": [
      "['(E04) Ask for an explanation.']\n",
      "Correct 1 , Incorrect: 5\n",
      "Overall correct 81 , Overall incorrect: 437\n",
      "F1 Score: 0.15637065637065636\n",
      "New dig: 71 \tTask id 28447\n",
      "['(E05) Signaling understanding.']\n",
      "['(E04) Ask for an explanation.']\n",
      "['(E04) Ask for an explanation.']\n",
      "['(E04) Ask for an explanation.']\n",
      "['(E04) Ask for an explanation.']\n",
      "['(E07) Providing Feedback.']\n",
      "['(E04) Ask for an explanation.']\n",
      "['(E04) Ask for an explanation.']\n"
     ]
    },
    {
     "name": "stderr",
     "output_type": "stream",
     "text": [
      " 78%|███████▊  | 72/92 [1:42:12<28:11, 84.57s/it]"
     ]
    },
    {
     "name": "stdout",
     "output_type": "stream",
     "text": [
      "['(E03) Provide an explanation.']\n",
      "Correct 2 , Incorrect: 7\n",
      "Overall correct 83 , Overall incorrect: 444\n",
      "F1 Score: 0.15749525616698293\n",
      "New dig: 72 \tTask id 28804\n",
      "['(E05) Signaling understanding.']\n",
      "['(E04) Ask for an explanation.']\n",
      "['(E04) Ask for an explanation.']\n",
      "[\"I think I understand what you meant, could you elaborate though? I'm not 100% sure especially with the long pauses part.\"]\n"
     ]
    },
    {
     "name": "stderr",
     "output_type": "stream",
     "text": [
      " 79%|███████▉  | 73/92 [1:43:56<28:36, 90.34s/it]"
     ]
    },
    {
     "name": "stdout",
     "output_type": "stream",
     "text": [
      "['(E04) Ask for an explanation.']\n",
      "Correct 0 , Incorrect: 5\n",
      "Overall correct 83 , Overall incorrect: 449\n",
      "F1 Score: 0.15601503759398497\n",
      "New dig: 73 \tTask id 28409\n",
      "['(E05) Signaling understanding.']\n",
      "['(E04) Ask for an explanation.']\n",
      "['(E04) Ask for an explanation.']\n",
      "['(E04) Ask for an explanation.']\n",
      "['(E10) Other: Making any other explanation move.']\n",
      "['(E10) Other: Making any other explanation move.']\n",
      "['(E03) Provide an explanation.']\n",
      "['(E10) Other: Making any other explanation move.']\n"
     ]
    },
    {
     "name": "stderr",
     "output_type": "stream",
     "text": [
      " 80%|████████  | 74/92 [1:45:54<29:31, 98.43s/it]"
     ]
    },
    {
     "name": "stdout",
     "output_type": "stream",
     "text": [
      "['(E02) Testing prior knowledge.']\n",
      "Correct 3 , Incorrect: 6\n",
      "Overall correct 86 , Overall incorrect: 455\n",
      "F1 Score: 0.1589648798521257\n",
      "New dig: 74 \tTask id 204\n",
      "['(E05) Signaling understanding.']\n",
      "['(E05) Signaling understanding.']\n",
      "[\"turn number: 4, author: Explainee, turn text: blackhole [SEP] I never knew beforehand how hard it was to get actual data of the black holes itself, first of all, they're dark, and, like, they're so far away, it's almost impossible just to get a good image of them. They were discussing a project in which multiple radio telescopes of some sort, like, are, like, pinpointed all across, from Greenland to South America, and, like, and they're trying to get an image of the black hole in the center of our galaxy because, as opposed to just recording its impact on the surrounding stars and planets., label: (E04) Ask for an explanation.\"]\n",
      "['(E10) Other: Making any other explanation move.']\n"
     ]
    },
    {
     "name": "stderr",
     "output_type": "stream",
     "text": [
      " 82%|████████▏ | 75/92 [1:46:42<23:39, 83.52s/it]"
     ]
    },
    {
     "name": "stdout",
     "output_type": "stream",
     "text": [
      "['(E05) Signaling understanding.']\n",
      "Correct 0 , Incorrect: 5\n",
      "Overall correct 86 , Overall incorrect: 460\n",
      "F1 Score: 0.1575091575091575\n",
      "New dig: 75 \tTask id 28406\n",
      "['(E05) Signaling understanding.']\n",
      "['(E05) Signaling understanding.']\n",
      "['(E04) Ask for an explanation.']\n",
      "['(E03) Provide an explanation.']\n",
      "['(E03) Provide an explanation.']\n",
      "['(E03) Provide an explanation.']\n",
      "['(E03) Provide an explanation.']\n",
      "['Provide an explanation.']\n"
     ]
    },
    {
     "name": "stderr",
     "output_type": "stream",
     "text": [
      " 83%|████████▎ | 76/92 [1:49:30<29:00, 108.78s/it]"
     ]
    },
    {
     "name": "stdout",
     "output_type": "stream",
     "text": [
      "['knowledge, you,, you, you,, the, the,, who,, the,,, which,,, response.,,, the conversation.,,.,:,:,: output:,, the words, theia,,,,ia,,,,,,,,,,,,,,,,,,, theek,,.ialization request, the story,.,.,.,,,ay,,ay, theistial sentence,,,,its,,its,,,,,,,,,,,,,,,,ays,ays, output output,its the outputistify the..,::::::: your sentence,ial sentence,,,,ient,ient, [ient,,,,,,,,,,,ense,ense,,,,ferient sentence, the topic, the topic..,,,,,,,,ithian topic topic,,,,,,:,,,,,,,,,,,,,,.,.,,,, output output output,, and and and of andays of andÂ.Â.']\n",
      "Correct 3 , Incorrect: 6\n",
      "Overall correct 89 , Overall incorrect: 466\n",
      "F1 Score: 0.16036036036036036\n",
      "New dig: 76 \tTask id 28399\n",
      "['(E05) Signaling understanding: Informing the listener that their last utterance was understood.']\n",
      "[\"turn number: 2, author: Explainer, turn text: Why does/How can Walmart deny unions? [SEP] I didn't say they didn't.  So what's your question?, label: (E04) Ask for an explanation.\"]\n",
      "['(E04) Ask for an explanation.']\n",
      "['(E10) Other: Making any other explanation move.']\n",
      "['(E03) Provide an explanation.']\n",
      "['(E03) Provide an explanation.']\n",
      "['(E04) Ask for an explanation.']\n",
      "['(E03) Provide an explanation.']\n"
     ]
    },
    {
     "name": "stderr",
     "output_type": "stream",
     "text": [
      " 84%|████████▎ | 77/92 [1:50:53<25:14, 100.98s/it]"
     ]
    },
    {
     "name": "stdout",
     "output_type": "stream",
     "text": [
      "['(E03) Provide an explanation.']\n",
      "Correct 2 , Incorrect: 7\n",
      "Overall correct 91 , Overall incorrect: 473\n",
      "F1 Score: 0.16134751773049646\n",
      "New dig: 77 \tTask id 28875\n",
      "['(E05) Signaling understanding.']\n",
      "['(E05) Signaling understanding.']\n",
      "['(E04) Ask for an explanation.']\n",
      "['(E04) Ask for an explanation.']\n"
     ]
    },
    {
     "name": "stderr",
     "output_type": "stream",
     "text": [
      " 85%|████████▍ | 78/92 [1:51:24<18:40, 80.07s/it] "
     ]
    },
    {
     "name": "stdout",
     "output_type": "stream",
     "text": [
      "['(E04) Ask for an explanation.']\n",
      "Correct 0 , Incorrect: 5\n",
      "Overall correct 91 , Overall incorrect: 478\n",
      "F1 Score: 0.15992970123022848\n",
      "New dig: 78 \tTask id 150\n",
      "['(E05) Signaling understanding.']\n",
      "['(E10) Other.']\n",
      "['Based on the provided dialogue turns and their respective labels, the next turn in the dialogue is (E10) Other.']\n",
      "[\"turn number: 5, author: Explainee, turn text: sleep scientist [SEP] I'm 25., label: (E04) Ask for an explanation.\"]\n",
      "['(E10) Other']\n",
      "['turn number: 7, author: Explainee, turn text: sleep scientist [SEP] I go to high school., label: (E07) Providing Feedback.']\n",
      "['(E10) Other']\n",
      "['(E04) Ask for an explanation.']\n",
      "['(E04) Ask for an explanation.']\n"
     ]
    },
    {
     "name": "stderr",
     "output_type": "stream",
     "text": [
      " 86%|████████▌ | 79/92 [1:52:40<17:04, 78.80s/it]"
     ]
    },
    {
     "name": "stdout",
     "output_type": "stream",
     "text": [
      "['(E10) Other']\n",
      "Correct 1 , Incorrect: 9\n",
      "Overall correct 92 , Overall incorrect: 487\n",
      "F1 Score: 0.15889464594127806\n",
      "New dig: 79 \tTask id 28698\n",
      "['(E05) Signaling understanding.']\n",
      "['(E04) Ask for an explanation.']\n",
      "['(E04) Ask for an explanation.']\n",
      "['(E04) Ask for an explanation.']\n",
      "['(E04) Ask for an explanation.']\n"
     ]
    },
    {
     "name": "stderr",
     "output_type": "stream",
     "text": [
      " 87%|████████▋ | 80/92 [1:54:16<16:47, 83.95s/it]"
     ]
    },
    {
     "name": "stdout",
     "output_type": "stream",
     "text": [
      "['(E07) Providing Feedback.']\n",
      "Correct 1 , Incorrect: 5\n",
      "Overall correct 93 , Overall incorrect: 492\n",
      "F1 Score: 0.15897435897435896\n",
      "New dig: 80 \tTask id 28863\n",
      "['(E04) Ask for an explanation.']\n",
      "['turn number: 3, author: Explainer, turn text: the anti-work movement. How does the world keep turning, so to speak, if work is abolished? [SEP] A massive surplus has been created from the ever increasing efficiencies of the world. This surplus has ended up mostly in the hands of.5%  of the population. This means that the people that did the work did not get paid properly for their work. The money should therefor be redistributed in the form of universal basic income for all people. We all built the world together, so no, a tiny minority should not be able to amass the wealth from it.']\n",
      "['(E04) Ask for an explanation.']\n",
      "['(E04) Ask for an explanation.']\n"
     ]
    },
    {
     "name": "stderr",
     "output_type": "stream",
     "text": [
      " 88%|████████▊ | 81/92 [1:55:34<15:04, 82.19s/it]"
     ]
    },
    {
     "name": "stdout",
     "output_type": "stream",
     "text": [
      "['(E03) Provide an explanation.']\n",
      "Correct 1 , Incorrect: 4\n",
      "Overall correct 94 , Overall incorrect: 496\n",
      "F1 Score: 0.15932203389830507\n",
      "New dig: 81 \tTask id 206\n",
      "['(E05) Signaling understanding.']\n",
      "['(E05) Signaling understanding.']\n",
      "['(E02) Testing prior knowledge.']\n",
      "['(E05) Signaling understanding.']\n",
      "['turn number: 6, author: Explainer, turn text: blackhole [SEP] Well, it has to do with, a lot with gravity, do you know what gravity is?, label: (E01) Testing understanding.']\n",
      "['(E10) Other: Making any other explanation move.']\n",
      "['(E10) Other: Making any other explanation move.']\n",
      "['(E03) Provide an explanation.']\n",
      "['(E10) Other: Making any other explanation move.']\n"
     ]
    },
    {
     "name": "stderr",
     "output_type": "stream",
     "text": [
      " 89%|████████▉ | 82/92 [1:56:56<13:41, 82.19s/it]"
     ]
    },
    {
     "name": "stdout",
     "output_type": "stream",
     "text": [
      "['(E03) Provide an explanation.']\n",
      "Correct 0 , Incorrect: 10\n",
      "Overall correct 94 , Overall incorrect: 506\n",
      "F1 Score: 0.15666666666666668\n",
      "New dig: 82 \tTask id 28658\n",
      "['(E05) Signaling understanding.']\n",
      "['(E05) Signaling understanding.']\n",
      "['(E04) Ask for an explanation.']\n",
      "['(E04) Ask for an explanation.']\n",
      "['(E07) Providing Feedback.']\n"
     ]
    },
    {
     "name": "stderr",
     "output_type": "stream",
     "text": [
      " 90%|█████████ | 83/92 [1:57:52<11:08, 74.29s/it]"
     ]
    },
    {
     "name": "stdout",
     "output_type": "stream",
     "text": [
      "['label: (E03) Provide an explanation.']\n",
      "Correct 0 , Incorrect: 6\n",
      "Overall correct 94 , Overall incorrect: 512\n",
      "F1 Score: 0.1551155115511551\n",
      "New dig: 83 \tTask id 156\n",
      "['(E05) Signaling understanding.']\n",
      "['(E04) Ask for an explanation.']\n",
      "['(E04) Ask for an explanation.']\n",
      "['(E04) Ask for an explanation.']\n",
      "['turn number: 6, author: Explainee, turn text: origani [SEP] Do you know how to do it?, label: (E03) Provide an explanation.']\n",
      "['turn number: 7, author: Explainee, turn text: origani [SEP] Yes, I would like to give it a try., label: (E03) Provide an explanation.']\n",
      "[\"turn number: 8, author: Explainee, turn text: origani [SEP] [Robert] Let's see what you can make., label: (E03) Provide an explanation.\"]\n",
      "['(E09) Introducing Extraneous Information Giving additional information to foster a complete understanding.']\n",
      "['(E10) Other: Making any other explanation move.']\n"
     ]
    },
    {
     "name": "stderr",
     "output_type": "stream",
     "text": [
      " 91%|█████████▏| 84/92 [1:59:14<10:13, 76.71s/it]"
     ]
    },
    {
     "name": "stdout",
     "output_type": "stream",
     "text": [
      "['(E10) Other: Making any other explanation move.']\n",
      "Correct 0 , Incorrect: 10\n",
      "Overall correct 94 , Overall incorrect: 522\n",
      "F1 Score: 0.1525974025974026\n",
      "New dig: 84 \tTask id 28435\n",
      "['(E05) Signaling understanding.']\n",
      "['(E04) Ask for an explanation.']\n",
      "['(E04) Ask for an explanation.']\n",
      "['(E04) Ask for an explanation.']\n",
      "['(E04) Ask for an explanation.']\n",
      "['(E03) Provide an explanation.']\n",
      "['(E04) Ask for an explanation.']\n",
      "['(E03) Provide an explanation.']\n"
     ]
    },
    {
     "name": "stderr",
     "output_type": "stream",
     "text": [
      " 92%|█████████▏| 85/92 [2:00:17<08:26, 72.42s/it]"
     ]
    },
    {
     "name": "stdout",
     "output_type": "stream",
     "text": [
      "['(E04) Ask for an explanation.']\n",
      "Correct 2 , Incorrect: 7\n",
      "Overall correct 96 , Overall incorrect: 529\n",
      "F1 Score: 0.1536\n",
      "New dig: 85 \tTask id 182\n",
      "['(E05) Signaling understanding.']\n",
      "['(E10) Other: Making any other explanation move.']\n",
      "['(E04) Ask for an explanation.']\n",
      "['(E03) Provide an explanation.']\n",
      "['(E05) Signaling understanding.']\n",
      "['(E05) Signaling understanding.']\n",
      "['(E05) Signaling understanding.']\n",
      "['(E05) Signaling understanding.']\n",
      "['(E03) Provide an explanation.']\n"
     ]
    },
    {
     "name": "stderr",
     "output_type": "stream",
     "text": [
      " 93%|█████████▎| 86/92 [2:01:30<07:16, 72.73s/it]"
     ]
    },
    {
     "name": "stdout",
     "output_type": "stream",
     "text": [
      "['(E09) Introducing Extraneous Information Giving additional information to foster a complete understanding.']\n",
      "Correct 0 , Incorrect: 10\n",
      "Overall correct 96 , Overall incorrect: 539\n",
      "F1 Score: 0.15118110236220472\n",
      "New dig: 86 \tTask id 28858\n",
      "['turn number: 2, author: Explainer, turn text: What do you mean by \"flamboyant\"?, label: (E05) Signaling understanding.']\n",
      "['(E04) Ask for an explanation.']\n",
      "['(E04) Ask for an explanation.']\n",
      "['Based on the provided dialogue turns and their respective labels, the next turn in the dialogue is (E07) Providing Feedback.']\n"
     ]
    },
    {
     "name": "stderr",
     "output_type": "stream",
     "text": [
      " 95%|█████████▍| 87/92 [2:03:10<06:44, 80.94s/it]"
     ]
    },
    {
     "name": "stdout",
     "output_type": "stream",
     "text": [
      "['(E10) Other: Making any other explanation move.']\n",
      "Correct 0 , Incorrect: 5\n",
      "Overall correct 96 , Overall incorrect: 544\n",
      "F1 Score: 0.15\n",
      "New dig: 87 \tTask id 28770\n",
      "['(E04) Ask for an explanation.']\n",
      "['(E04) Ask for an explanation.']\n",
      "['(E04) Ask for an explanation.']\n",
      "['(E04) Ask for an explanation.']\n"
     ]
    },
    {
     "name": "stderr",
     "output_type": "stream",
     "text": [
      " 96%|█████████▌| 88/92 [2:03:42<04:25, 66.28s/it]"
     ]
    },
    {
     "name": "stdout",
     "output_type": "stream",
     "text": [
      "['(E07) Providing Feedback.']\n",
      "Correct 2 , Incorrect: 3\n",
      "Overall correct 98 , Overall incorrect: 547\n",
      "F1 Score: 0.15193798449612403\n",
      "New dig: 88 \tTask id 28541\n",
      "['(E05) Signaling understanding.']\n",
      "['(E05) Signaling understanding.']\n",
      "['turn number: 4, author: Explainer, turn text: Pretty much this until we get bacteriophages pubicly available in the US, then we can just make it over the counter., label: (E03) Provide an explanation.']\n",
      "['(E10) Other: Making any other explanation move.']\n",
      "['(E10) Other: Making any other explanation move.']\n",
      "['(E09) Introducing Extraneous Information Giving additional information to foster a complete understanding.']\n"
     ]
    },
    {
     "name": "stderr",
     "output_type": "stream",
     "text": [
      " 97%|█████████▋| 89/92 [2:05:17<03:44, 74.83s/it]"
     ]
    },
    {
     "name": "stdout",
     "output_type": "stream",
     "text": [
      "['(E07) Providing Feedback']\n",
      "Correct 1 , Incorrect: 6\n",
      "Overall correct 99 , Overall incorrect: 553\n",
      "F1 Score: 0.15184049079754602\n",
      "New dig: 89 \tTask id 28632\n",
      "['(E05) Signaling understanding: Informing the listener that their last utterance was understood.']\n",
      "['(E04) Ask for an explanation.']\n",
      "['(E04) Ask for an explanation.']\n",
      "['(E04) Ask for an explanation.']\n",
      "['(E07) Providing Feedback.']\n"
     ]
    },
    {
     "name": "stderr",
     "output_type": "stream",
     "text": [
      " 98%|█████████▊| 90/92 [2:07:03<02:48, 84.00s/it]"
     ]
    },
    {
     "name": "stdout",
     "output_type": "stream",
     "text": [
      "['(E07) Providing Feedback.']\n",
      "Correct 3 , Incorrect: 3\n",
      "Overall correct 102 , Overall incorrect: 556\n",
      "F1 Score: 0.15501519756838905\n",
      "New dig: 90 \tTask id 28819\n",
      "['(E04) Ask for an explanation.']\n",
      "['(E04) Ask for an explanation.']\n",
      "['(E03) Provide an explanation.']\n",
      "['(E04) Ask for an explanation.']\n"
     ]
    },
    {
     "name": "stderr",
     "output_type": "stream",
     "text": [
      " 99%|█████████▉| 91/92 [2:07:43<01:10, 70.83s/it]"
     ]
    },
    {
     "name": "stdout",
     "output_type": "stream",
     "text": [
      "['(E07) Providing Feedback.']\n",
      "Correct 2 , Incorrect: 3\n",
      "Overall correct 104 , Overall incorrect: 559\n",
      "F1 Score: 0.1568627450980392\n",
      "New dig: 91 \tTask id 28811\n",
      "['(E05) Signaling understanding.']\n",
      "['(E04) Ask for an explanation.']\n",
      "['(E04) Ask for an explanation.']\n",
      "['Based on the provided dialogue turns and their respective labels, the next turn in the dialogue is (E04) Ask for an explanation.']\n"
     ]
    },
    {
     "name": "stderr",
     "output_type": "stream",
     "text": [
      "100%|██████████| 92/92 [2:09:24<00:00, 84.40s/it]"
     ]
    },
    {
     "name": "stdout",
     "output_type": "stream",
     "text": [
      "['Based on the provided dialogue turns and their respective labels, predict only the label of the next turn in the dialogue.']\n",
      "Correct 1 , Incorrect: 4\n",
      "Overall correct 105 , Overall incorrect: 563\n",
      "F1 Score: 0.15718562874251496\n"
     ]
    },
    {
     "name": "stderr",
     "output_type": "stream",
     "text": [
      "\n"
     ]
    }
   ],
   "source": [
    "#run the experiment for predicting explanation move labels on validset\n",
    "from tqdm import tqdm\n",
    "\n",
    "results = []\n",
    "correct, incorrect = 0, 0\n",
    "for i in tqdm(range(92)):\n",
    "    print(\"New dig:\", i, \"\\tTask id\", valid_df.iloc[i]['task_id'])\n",
    "    result_dig = test_one_dig(valid_df.iloc[i])\n",
    "    results.append((result_dig[0], result_dig[1]))\n",
    "    correct += result_dig[0]\n",
    "    incorrect += result_dig[1]\n",
    "    print(\"Correct\", result_dig[0], ', Incorrect:', result_dig[1])\n",
    "    print(\"Overall correct\", correct, ', Overall incorrect:', incorrect)\n",
    "    print(\"F1 Score:\", correct / (correct + incorrect))"
   ]
  },
  {
   "cell_type": "code",
   "execution_count": 17,
   "metadata": {},
   "outputs": [
    {
     "data": {
      "text/plain": [
       "['(T04) Other - No topic was introduced']"
      ]
     },
     "execution_count": 17,
     "metadata": {},
     "output_type": "execute_result"
    }
   ],
   "source": [
    "#test the prompt to predict the topic label\n",
    "INPUT = '''\n",
    "  {'turn': 1 ,'author': 'Explainer', 'text': \"You know, what we do in our studies, is we actually track people, for say a week, and they have to get in within this range of amount of sleep and then it has to be both amount of sleep and how stable it is. That variability can kind of impact it and certainly might have an impact on the machinery that's happening in the brain.\", \"label\": \"(T03) A related topic\"},\n",
    "  {'turn': 2 ,'author': 'Explainee', 'text': \"I often think that people, many people think that they can get by on very little sleep where the less than average amount of sleep, from what I know from the research, you know if you actually test those people on different batteries of cognitive tasks, you often find that their performance is slightly worse than they had anticipated.\", \"label\": \"(T01) It is the main topic\"},\n",
    "  {'turn': 3 ,'author': 'Explainer', 'text': 'Yeah. So what did you learn about sleep today?', \"label\": \"(T01) It is the main topic\"},\n",
    "  {'turn': 4 ,'author': 'Explainee', 'text': \"I guess I learned a system that is, you know, very heavily regulated and influenced by some of these older conserved sub-cortical systems in the brain, and that there's, as you called it, like a flip flop function between wakefulness and sleep that's regulated by these specific dopaminergic, neurogenergic, like neurotransmitters, that manifest in different sub-cortical parts of the brain.\", \"label\": \"(T03) A related topic\"}'''\n",
    "\n",
    "TOPIC_PROMPT = '''\n",
    "Given a sequence of dialogue turns between an 'Explainer' and an 'Explainee', each turn is accompanied by a text and a corresponding label. These labels categorize the nature of the dialogue turn. The 4 distinct labels are:\n",
    "\n",
    "(T01) It is the main topic;\n",
    "(T02) A subtopic;\n",
    "(T03) A related topic;\n",
    "(T04) Other - No topic was introduced;\n",
    "\n",
    "Based on the provided dialogue turns and their respective labels, predict only the label of the next turn in the dialogue!!!'''\n",
    "\n",
    "response = evaluate(TOPIC_PROMPT, INPUT)\n",
    "response"
   ]
  },
  {
   "cell_type": "code",
   "execution_count": 18,
   "metadata": {},
   "outputs": [],
   "source": [
    "#function to test one dialogue on topic dimention\n",
    "#return how many correct and incorrect labels was predicted \n",
    "def test_one_dig_topic(dig):\n",
    "    correct, incorrect = 0, 0\n",
    "    INPUT = \"\"\n",
    "    for i, (turn_text, label) in enumerate(zip(dig[\"turn_text\"][:-1], dig[\"topic_func_label\"][:-1])):\n",
    "        if i == 10 : break\n",
    "            \n",
    "        INPUT += f\"turn number: {i+1}, author: {turn_text['author']}, turn text: {turn_text['text']}, label: {label}.\\n\"\n",
    "       \n",
    "        response = evaluate(TOPIC_PROMPT, INPUT)\n",
    "        print(response)\n",
    "        \n",
    "        try:\n",
    "            if response[0][2:4] == dig[\"topic_func_label\"][i+1][2:4]:\n",
    "                correct += 1\n",
    "            else:\n",
    "                incorrect += 1\n",
    "        except:\n",
    "            print(\"Unexpected response: \", response[0])\n",
    "            incorrect += 1\n",
    "            \n",
    "    return correct, incorrect"
   ]
  },
  {
   "cell_type": "code",
   "execution_count": 19,
   "metadata": {
    "scrolled": true
   },
   "outputs": [
    {
     "name": "stdout",
     "output_type": "stream",
     "text": [
      "New dig: 0 \tTask id 28641\n",
      "['(T02) A subtopic.']\n",
      "['(T03) A related topic.']\n",
      "['(T03) A related topic.']\n",
      "['(T04) Other - No topic was introduced.']\n",
      "['(T02) A subtopic.']\n",
      "['(T02) A subtopic.']\n",
      "Correct 2 , Incorrect: 4\n",
      "Overall correct 2 , Overall incorrect: 4\n",
      "F1 Score: 0.3333333333333333\n",
      "New dig: 1 \tTask id 28454\n",
      "['(T02) A subtopic']\n",
      "['(T02) A subtopic']\n",
      "['(T04) Other - No topic was introduced.']\n",
      "['(T04) Other - No topic was introduced.']\n",
      "['(T04) Other - No topic was introduced.']\n",
      "['label: (T04) Other - No topic was introduced.']\n",
      "['label: (T04) Other - No topic was introduced.']\n",
      "['(T01) It is the main topic.']\n",
      "Correct 3 , Incorrect: 5\n",
      "Overall correct 5 , Overall incorrect: 9\n",
      "F1 Score: 0.35714285714285715\n",
      "New dig: 2 \tTask id 28407\n",
      "['(T02) A subtopic.']\n",
      "['(T02) A subtopic.']\n",
      "['(T04) Other - No topic was introduced.']\n",
      "['(T04) Other - No topic was introduced.']\n",
      "['(T04) Other - No topic was introduced.']\n",
      "['(T03) A related topic.']\n",
      "['(T03) A related topic.']\n",
      "['(T03) A related topic.']\n",
      "['(T03) A related topic.']\n",
      "Correct 4 , Incorrect: 5\n",
      "Overall correct 9 , Overall incorrect: 14\n",
      "F1 Score: 0.391304347826087\n",
      "New dig: 3 \tTask id 28505\n",
      "['(T02) A subtopic.']\n",
      "['turn number: 3, author: Explainer, turn text: Would you say you’re flamboyant? Do you get mistaken for gay?, label: (T02) A subtopic.']\n",
      "['(T02) A subtopic.']\n",
      "['(T04) Other - No topic was introduced.']\n",
      "['(T02) A subtopic.']\n",
      "['(T04) Other - No topic was introduced.']\n",
      "['(T04) Other - No topic was introduced.']\n",
      "Correct 0 , Incorrect: 7\n",
      "Overall correct 9 , Overall incorrect: 21\n",
      "F1 Score: 0.3\n",
      "New dig: 4 \tTask id 28605\n",
      "['(T02) A subtopic.']\n",
      "['(T02) A subtopic.']\n",
      "['(T04) Other - No topic was introduced.']\n",
      "['(T04) Other - No topic was introduced.']\n",
      "['(T04) Other - No topic was introduced.']\n",
      "['(T03) A related topic.']\n",
      "Correct 1 , Incorrect: 5\n",
      "Overall correct 10 , Overall incorrect: 26\n",
      "F1 Score: 0.2777777777777778\n",
      "New dig: 5 \tTask id 28566\n",
      "['(T02) A subtopic.']\n",
      "['(T02) A subtopic.']\n",
      "['(T04) Other - No topic was introduced.']\n",
      "['(T01) It is the main topic.']\n",
      "['(T01) It is the main topic.']\n",
      "['(T01) It is the main topic.']\n",
      "['(T04) Other - No topic was introduced.']\n",
      "Correct 3 , Incorrect: 4\n",
      "Overall correct 13 , Overall incorrect: 30\n",
      "F1 Score: 0.3023255813953488\n",
      "New dig: 6 \tTask id 28382\n",
      "['(T02) A subtopic.']\n",
      "['(T03) A related topic.']\n",
      "['(T03) A related topic.']\n",
      "['(T04) Other - No topic was introduced.']\n",
      "['(T04) Other - No topic was introduced.']\n",
      "['(T04) Other - No topic was introduced.']\n",
      "['(T04) Other - No topic was introduced.']\n",
      "['(T04) Other - No topic was introduced.']\n",
      "['(T04) Other - No topic was introduced.']\n",
      "['(T01) It is the main topic.']\n",
      "Correct 3 , Incorrect: 7\n",
      "Overall correct 16 , Overall incorrect: 37\n",
      "F1 Score: 0.3018867924528302\n",
      "New dig: 7 \tTask id 28391\n",
      "['(T02) A subtopic.']\n",
      "[\"turn number: 3, author: Explainer, turn text: what is a conscientious objector (US)? [SEP] I don't think I will.\\nWhat I *wanted* to do was have a conversation, but apparently you're not suited for it, for whatever reason.\"]\n",
      "[\"turn number: 1, author: Explainee, turn text: what is a conscientious objector (US)? [SEP] what is a conscientious objector (US)?, label: (T01) It is the main topic.\\nturn number: 2, author: Explainer, turn text: what is a conscientious objector (US)? [SEP] I don't think I will.\\n\\nWhat I *wanted* to do was have a conversation, but apparently you're not suited for it, for whatever reason., label: (T04) Other - No topic was introduced.\\nturn number: 3, author: Explainee, turn text: what is a conscientious objector (US)? [SEP] using italics doesn’t make you correct, label: (T04) Other - No topic was introduced.\"]\n",
      "['turn number: 1, author: Explainee, turn text: what is a conscientious objector (US)? [SEP] what is a conscientious objector (US)?, label: (T01) It is the main topic.\\nturn number: 2, author: Explainer, turn text: what is a conscientious objector (US)? [SEP] I don\\'t think I will.\\n\\nWhat I *wanted* to do was have a conversation, but apparently you\\'re not suited for it, for whatever reason., label: (T04) Other - No topic was introduced.\\nturn number: 3, author: Explainee, turn text: what is a conscientious objector (US)? [SEP] using italics doesn’t make you correct, label: (T04) Other - No topic was introduced.\\nturn number: 4, author: Explainer, turn text: what is a conscientious objector (US)? [SEP] Saying \"pee pee poo poo\" doesn\\'t make you correct.\\n\\nCalling me a \\'transphobe']\n",
      "['(T02) A subtopic.']\n",
      "['(T02) A subtopic.']\n",
      "['(T04) Other - No topic was introduced.']\n",
      "['(T04) Other - No topic was introduced.']\n",
      "['(T04) Other - No topic was introduced.']\n",
      "Correct 3 , Incorrect: 6\n",
      "Overall correct 19 , Overall incorrect: 43\n",
      "F1 Score: 0.3064516129032258\n",
      "New dig: 8 \tTask id 28692\n",
      "['It is the main topic.']\n",
      "['(T02) A subtopic']\n",
      "['turn number: 4, author: Explainee, turn text: Why the odd finger size? [SEP] I’m five. Wait how old are you? This subreddit is for individuals who are 5! And 5 only. You must be confused, sir., label: (T04) Other - No topic was introduced.']\n",
      "['turn number: 1, author: Explainee, turn text: Why the odd finger size? [SEP] It is the main topic., label: (T01) It is the main topic.\\nturn number: 2, author: Explainer, turn text: Why the odd finger size? [SEP] I hate to ask, what is your age that you, just now, discover your fingers., label: (T01) It is the main topic.\\nturn number: 3, author: Explainee, turn text: Why the odd finger size? [SEP] I’m five. Wait how old are you? This subreddit is for individuals who are 5! And 5 only. You must be confused, sir., label: (T04) Other - No topic was introduced.\\nturn number: 4, author: Explainer, turn text: Why the odd finger size? [SEP] Haha, sorry, missed this was. \\n\\nYou are confused, the people answering the questions are allowed to have a different age.   I hope., label: (T04) Other - No topic was introduced.']\n",
      "['(T05) Thank god for adults. I’d be a bumbling idiot otherwise.']\n",
      "['(T02) A subtopic.']\n",
      "Correct 0 , Incorrect: 6\n",
      "Overall correct 19 , Overall incorrect: 49\n",
      "F1 Score: 0.27941176470588236\n",
      "New dig: 9 \tTask id 28553\n",
      "['(T02) A subtopic.']\n",
      "['(T03) A related topic.']\n",
      "['(T03) A related topic.']\n",
      "['(T04) Other - No topic was introduced.']\n",
      "['(T04) Other - No topic was introduced.']\n",
      "['label: (T04) Other - No topic was introduced.']\n",
      "['(T02) A subtopic.']\n",
      "Correct 2 , Incorrect: 5\n",
      "Overall correct 21 , Overall incorrect: 54\n",
      "F1 Score: 0.28\n",
      "New dig: 10 \tTask id 28767\n",
      "['(T02) A subtopic.']\n",
      "['(T02) A subtopic.']\n",
      "['(T02) A subtopic.']\n",
      "['(T01) It is the main topic.']\n",
      "['(T01) It is the main topic.']\n",
      "Correct 1 , Incorrect: 4\n",
      "Overall correct 22 , Overall incorrect: 58\n",
      "F1 Score: 0.275\n",
      "New dig: 11 \tTask id 28673\n",
      "['(T02) A subtopic.']\n",
      "['(T02) A subtopic.']\n",
      "['(T04) Other - No topic was introduced.']\n",
      "['(T04) Other - No topic was introduced.']\n",
      "['(T01) It is the main topic.']\n",
      "['(T01) It is the main topic.']\n",
      "Correct 2 , Incorrect: 4\n",
      "Overall correct 24 , Overall incorrect: 62\n",
      "F1 Score: 0.27906976744186046\n",
      "New dig: 12 \tTask id 28398\n",
      "['(T02) A subtopic.']\n",
      "['(T02) A subtopic.']\n",
      "['(T04) Other - No topic was introduced.']\n",
      "['(T01) It is the main topic.']\n",
      "['(T01) It is the main topic.']\n",
      "['(T01) It is the main topic.']\n",
      "['(T01) It is the main topic.']\n",
      "['(T01) It is the main topic.']\n",
      "['(T01) It is the main topic.']\n",
      "Correct 3 , Incorrect: 6\n",
      "Overall correct 27 , Overall incorrect: 68\n",
      "F1 Score: 0.28421052631578947\n",
      "New dig: 13 \tTask id 28638\n",
      "['(T02) A subtopic.']\n",
      "['(T03) A related topic.']\n",
      "['(T03) A related topic.']\n",
      "['(T02) A subtopic.']\n",
      "['(T02) A subtopic.']\n",
      "['(T02) A subtopic.']\n",
      "Correct 4 , Incorrect: 2\n",
      "Overall correct 31 , Overall incorrect: 70\n",
      "F1 Score: 0.3069306930693069\n",
      "New dig: 14 \tTask id 28784\n",
      "['(T02) A subtopic.']\n",
      "['(T02) A subtopic.']\n",
      "['(T02) A subtopic.']\n",
      "['(T04) Other - No topic was introduced.']\n",
      "['(T04) Other - No topic was introduced.']\n",
      "Correct 0 , Incorrect: 5\n",
      "Overall correct 31 , Overall incorrect: 75\n",
      "F1 Score: 0.29245283018867924\n",
      "New dig: 15 \tTask id 28357\n",
      "['(T02) A subtopic.']\n",
      "['(T02) A subtopic.']\n",
      "['(T02) A subtopic.']\n",
      "['(T02) A subtopic.']\n",
      "['(T02) A subtopic.']\n",
      "['(T04) Other - No topic was introduced.']\n",
      "['(T04) Other - No topic was introduced.']\n",
      "['(T01) It is the main topic.']\n",
      "['(T01) It is the main topic.']\n",
      "['The main topic is the complexity of a character.']\n",
      "Correct 2 , Incorrect: 8\n",
      "Overall correct 33 , Overall incorrect: 83\n",
      "F1 Score: 0.28448275862068967\n",
      "New dig: 16 \tTask id 28740\n",
      "['(T02) A subtopic.']\n",
      "['turn number: 3, author: Explainee, turn text: How does an electrical wave between neurons become conscious thought? [SEP] How does an electrical wave between neurons become conscious thought?, label: (T01) It is the main topic.']\n",
      "['(T03) A related topic.']\n",
      "['(T03) A related topic.']\n",
      "['(T04) Other - No topic was introduced.']\n",
      "Correct 1 , Incorrect: 4\n",
      "Overall correct 34 , Overall incorrect: 87\n",
      "F1 Score: 0.2809917355371901\n",
      "New dig: 17 \tTask id 28659\n",
      "['(T02) A subtopic.']\n",
      "['(T02) A subtopic.']\n",
      "['(T02) A subtopic.']\n",
      "['(T04) Other - No topic was introduced.']\n",
      "['(T04) Other - No topic was introduced.']\n",
      "['(T04) Other - No topic was introduced.']\n",
      "Correct 0 , Incorrect: 6\n",
      "Overall correct 34 , Overall incorrect: 93\n",
      "F1 Score: 0.2677165354330709\n",
      "New dig: 18 \tTask id 28404\n",
      "['(T02) A subtopic.']\n",
      "['(T02) A subtopic.']\n",
      "['(T02) A subtopic.']\n",
      "['(T02) A subtopic.']\n",
      "['(T02) A subtopic.']\n",
      "[\"turn number: 2, author: Explainer, turn text: how is Erdogan threatening to let migrants into Europe actually a threat when migrants are so great? [SEP] Not all questions are created equal. And your's show a lack of clarity of thought., label: (T04) Other - No topic was introduced.\"]\n",
      "['(T04) Other - No topic was introduced.']\n",
      "['(T04) Other - No topic was introduced.']\n",
      "['(T04) Other - No topic was introduced.']\n",
      "Correct 3 , Incorrect: 6\n",
      "Overall correct 37 , Overall incorrect: 99\n",
      "F1 Score: 0.27205882352941174\n",
      "New dig: 19 \tTask id 28758\n",
      "['(T02) A subtopic.']\n",
      "['(T02) A subtopic.']\n",
      "['(T04) Other - No topic was introduced.']\n",
      "['(T02) A subtopic.']\n",
      "['(T02) A subtopic.']\n",
      "Correct 0 , Incorrect: 5\n",
      "Overall correct 37 , Overall incorrect: 104\n",
      "F1 Score: 0.2624113475177305\n",
      "New dig: 20 \tTask id 186\n",
      "['(T02) A subtopic']\n",
      "['(T02) A subtopic']\n",
      "['(T02) A subtopic']\n",
      "['(T04) Other - No topic was introduced.']\n",
      "['(T04) Other - No topic was introduced.']\n",
      "['(T04) Other - No topic was introduced.']\n",
      "['(T04) Other - No topic was introduced.']\n",
      "['(T02) A subtopic']\n",
      "['(T02) A subtopic.']\n",
      "['(T04) Other - No topic was introduced.']\n",
      "Correct 3 , Incorrect: 7\n",
      "Overall correct 40 , Overall incorrect: 111\n",
      "F1 Score: 0.26490066225165565\n",
      "New dig: 21 \tTask id 28859\n",
      "['(T02) A subtopic.']\n",
      "['(T03) A related topic.']\n",
      "['(T03) A related topic.']\n",
      "['(T03) A related topic.']\n",
      "['(T04) Other - No topic was introduced.']\n",
      "Correct 1 , Incorrect: 4\n",
      "Overall correct 41 , Overall incorrect: 115\n",
      "F1 Score: 0.26282051282051283\n",
      "New dig: 22 \tTask id 28222\n",
      "['(T02) A subtopic.']\n",
      "['(T02) A subtopic.']\n",
      "['(T04) Other - No topic was introduced.']\n",
      "['(T04) Other - No topic was introduced.']\n",
      "['(T04) Other - No topic was introduced.']\n",
      "['(T04) Other - No topic was introduced.']\n",
      "['(T04) Other - No topic was introduced.']\n",
      "['(T04) Other - No topic was introduced.']\n",
      "['(T04) Other - No topic was introduced.']\n",
      "['(T04) Other - No topic was introduced.']\n",
      "Correct 4 , Incorrect: 6\n",
      "Overall correct 45 , Overall incorrect: 121\n",
      "F1 Score: 0.2710843373493976\n",
      "New dig: 23 \tTask id 28636\n",
      "['(T02) A subtopic.']\n",
      "['(T02) A subtopic.']\n",
      "['(T04) Other - No topic was introduced.']\n",
      "['(T04) Other - No topic was introduced.']\n",
      "['(T04) Other - No topic was introduced.']\n",
      "['(T01) It is the main topic.']\n",
      "Correct 2 , Incorrect: 4\n",
      "Overall correct 47 , Overall incorrect: 125\n",
      "F1 Score: 0.27325581395348836\n",
      "New dig: 24 \tTask id 28302\n",
      "['(T02) A subtopic']\n",
      "['(T04) Other - No topic was introduced.']\n",
      "['(T04) Other - No topic was introduced.']\n",
      "['(T01) It is the main topic.']\n",
      "['The following is a step-by-step explanation of the proof:\\n\\nStep 1: P(x):  # This is the Trickster program, which takes one argument (x), itself a program\\n\\nStep 2: Run H(x, x) # This runs the Oracle program, which takes two arguments, both of them a program by virtue of the fact that \"x\" is being supplied twice to the Oracle\\n\\nStep 3: If H(x, x) returns \"Halt\" then Loop;\\n\\nStep 4: If H (x, x) returns \"Loop\" then Halt.  # Trickster does the opposite of the result of Oracle\\n\\nStep 5: P(P)\\n\\nStep 6: P(&lt;P&gt;)\\n\\nStep 7: Run H(&lt;P&gt;, &lt;P&gt;)\\n\\nStep 8: If H(&lt;P&gt;, &lt;P&gt;) returns \"Halt\" then Loop;\\n\\nStep 9: If H(&lt;P&gt;, &lt;P&gt;) returns \"Loop\" then']\n",
      "['P(&lt;P&gt;)']\n",
      "['P(&lt;P&gt;)']\n",
      "[',,,ke,,,,,,,,,,,,,ense,,,,,:,,,,,,,,,,,,,,,,,,:,,,,,,,,,,,,,,,, in the,,,,,,,,,,,,,,,, (Â and, of and,,.Â.Â.Â.Â.Â,,,,,,.']\n",
      "['']\n",
      "['']\n",
      "Correct 0 , Incorrect: 10\n",
      "Overall correct 47 , Overall incorrect: 135\n",
      "F1 Score: 0.25824175824175827\n",
      "New dig: 25 \tTask id 28579\n",
      "['(T02) A subtopic.']\n",
      "['(T02) A subtopic.']\n",
      "['(T02) A subtopic.']\n",
      "['(T02) A subtopic.']\n",
      "['(T04) Other - No topic was introduced.']\n",
      "['(T02) A subtopic.']\n",
      "Correct 0 , Incorrect: 6\n",
      "Overall correct 47 , Overall incorrect: 141\n",
      "F1 Score: 0.25\n",
      "New dig: 26 \tTask id 28486\n",
      "['(T02) A subtopic.']\n",
      "['(T02) A subtopic.']\n",
      "['(T02) A subtopic.']\n",
      "['(T02) A subtopic.']\n",
      "['(T04) Other - No topic was introduced.']\n",
      "['(T04) Other - No topic was introduced.']\n",
      "['(T04) Other - No topic was introduced.']\n",
      "['(T04) Other - No topic was introduced.']\n",
      "Correct 2 , Incorrect: 6\n",
      "Overall correct 49 , Overall incorrect: 147\n",
      "F1 Score: 0.25\n",
      "New dig: 27 \tTask id 28441\n",
      "['(T02) A subtopic.']\n",
      "['(T01) It is the main topic.']\n",
      "['turn number: 4, author: Explainer, turn text: Where do you think the money to pay for Medicare for all is going to come from?, label: (T01) It is the main topic.']\n",
      "['turn number: 1, author: Explainee, turn text: Why do businesses/corporations not embrace Medicare-for-all? [SEP] Why do businesses/corporations not embrace Medicare-for-all?, label: (T01) It is the main topic.\\nturn number: 2, author: Explainer, turn text: Why do businesses/corporations not embrace Medicare-for-all? [SEP] &gt;It seems it would save them a lot of money.\\n\\nWhere do you think the money to pay for Medicare for all is going to come from?, label: (T01) It is the main topic.\\nturn number: 3, author: Explainee, turn text: Why do businesses/corporations not embrace Medicare-for-all? [SEP] Increased FICA taxes?, label: (T04) Other - No topic was introduced.\\nturn number: 4, author: Explainer, turn text: Why do businesses/corporations not embrace Medicare-for-all? [SEP]']\n",
      "['(T04) Other - No topic was introduced.']\n",
      "['(T02) A subtopic.']\n",
      "['(T01) It is the main topic.']\n",
      "['(T01) It is the main topic.']\n",
      "['(T01) It is the main topic.']\n",
      "Correct 2 , Incorrect: 7\n",
      "Overall correct 51 , Overall incorrect: 154\n",
      "F1 Score: 0.24878048780487805\n",
      "New dig: 28 \tTask id 154\n",
      "['(T02) A subtopic']\n",
      "['turn number: 3, author: Explainee, turn text: origani [SEP] origani, label: (T01) It is the main topic.']\n",
      "['(T02) A subtopic']\n",
      "['(T04) Other - No topic was introduced.']\n",
      "['(T05) A subtopic']\n",
      "['(T05) A subtopic']\n",
      "['(T02) A subtopic']\n",
      "['(T02) A subtopic.']\n",
      "['(T02) A subtopic']\n",
      "['(T04) Other - No topic was introduced.']\n",
      "Correct 2 , Incorrect: 8\n",
      "Overall correct 53 , Overall incorrect: 162\n",
      "F1 Score: 0.24651162790697675\n",
      "New dig: 29 \tTask id 177\n",
      "['(T02) A subtopic']\n",
      "['(T02) A subtopic']\n",
      "['(T02) A subtopic']\n",
      "['(T02) A subtopic']\n",
      "['(T05) A related topic.']\n",
      "['(T02) A subtopic']\n",
      "['(T02) A subtopic.']\n",
      "['(T04) Other - No topic was introduced.']\n",
      "['(T03) A related topic.']\n",
      "['(T03) A related topic.']\n",
      "Correct 2 , Incorrect: 8\n",
      "Overall correct 55 , Overall incorrect: 170\n",
      "F1 Score: 0.24444444444444444\n",
      "New dig: 30 \tTask id 170\n",
      "['(T02) A subtopic']\n",
      "['turn number: 3, author: Explainee, turn text: machine learning [SEP] What is machine learning?, label: (T01) It is the main topic.']\n",
      "['turn number: 4, author: Explainee, turn text: machine learning [SEP] machine_learning, label: (T01) It is the main topic.']\n",
      "['(T02) A subtopic']\n",
      "['(T02) A subtopic']\n",
      "['(T02) A subtopic']\n",
      "['(T02) A subtopic']\n",
      "['(T04) Other - No topic was introduced.']\n",
      "['(T01) It is the main topic.']\n",
      "['(T04) Other - No topic was introduced.']\n",
      "Correct 1 , Incorrect: 9\n",
      "Overall correct 56 , Overall incorrect: 179\n",
      "F1 Score: 0.23829787234042554\n",
      "New dig: 31 \tTask id 28465\n",
      "['(T02) A subtopic.']\n",
      "['turn number: 3, author: Explainee, turn text: Add sound nutritional principles such as eating real, whole foods and sleeping at least 8 hours per night to the physical activity and mindfulness/meditation/isolation exercise mentioned and you have the foundations to a healthy and thus much more likely to be happy life. \\n\\nHappy body = happy mind., label: (T04) Other - No topic was introduced.']\n",
      "['(T02) A subtopic.']\n",
      "['(T04) Other - No topic was introduced.']\n",
      "['(T01) It is the main topic.']\n",
      "['(T01) It is the main topic.']\n",
      "['(T01) It is the main topic.']\n",
      "['(T04) Other - No topic was introduced.']\n",
      "Correct 2 , Incorrect: 6\n",
      "Overall correct 58 , Overall incorrect: 185\n",
      "F1 Score: 0.23868312757201646\n",
      "New dig: 32 \tTask id 28413\n",
      "['(T02) A subtopic.']\n",
      "['(T02) A subtopic']\n",
      "['(T04) Other - No topic was introduced.']\n",
      "['(T04) Other - No topic was introduced.']\n",
      "['(T04) Other - No topic was introduced.']\n",
      "['(T02) A subtopic.']\n",
      "['(T02) A subtopic.']\n",
      "['(T02) A subtopic.']\n",
      "['(T03) A related topic.']\n",
      "Correct 2 , Incorrect: 7\n",
      "Overall correct 60 , Overall incorrect: 192\n",
      "F1 Score: 0.23809523809523808\n",
      "New dig: 33 \tTask id 28759\n",
      "['(T02) A subtopic.']\n",
      "['(T02) A subtopic.']\n",
      "['(T04) Other - No topic was introduced.']\n",
      "['(T01) It is the main topic.']\n",
      "['(T01) It is the main topic.']\n",
      "Correct 0 , Incorrect: 5\n",
      "Overall correct 60 , Overall incorrect: 197\n",
      "F1 Score: 0.23346303501945526\n",
      "New dig: 34 \tTask id 28683\n",
      "['(T02) A subtopic.']\n",
      "['(T02) A subtopic.']\n",
      "['(T04) Other - No topic was introduced.']\n",
      "['(T01) It is the main topic.']\n",
      "['(T01) It is the main topic.']\n",
      "['(T01) It is the main topic.']\n",
      "Correct 3 , Incorrect: 3\n",
      "Overall correct 63 , Overall incorrect: 200\n",
      "F1 Score: 0.23954372623574144\n",
      "New dig: 35 \tTask id 28548\n",
      "['(T02) A subtopic.']\n",
      "['(T02) A subtopic.']\n",
      "['(T02) A subtopic.']\n",
      "['(T02) A subtopic.']\n",
      "['(T02) A subtopic.']\n",
      "['(T04) Other - No topic was introduced.']\n",
      "['(T04) Other - No topic was introduced.']\n",
      "Correct 2 , Incorrect: 5\n",
      "Overall correct 65 , Overall incorrect: 205\n",
      "F1 Score: 0.24074074074074073\n",
      "New dig: 36 \tTask id 28337\n",
      "['(T02) A subtopic.']\n",
      "['(T04) Other - No topic was introduced.']\n",
      "['(T03) A related topic.']\n",
      "['(T03) A related topic.']\n",
      "['(T04) Other - No topic was introduced.']\n",
      "['(T01) It is the main topic.']\n",
      "['(T03) A related topic.']\n",
      "['(T04) Other - No topic was introduced.']\n",
      "['(T04) Other - No topic was introduced.']\n",
      "[',, in a topic,,,,,,,,, [,, [1,,,,,,,,,,, output output output, to act,, (,, and of and,, and...Â.Â.Â,,,,,,,,.']\n",
      "Correct 3 , Incorrect: 7\n",
      "Overall correct 68 , Overall incorrect: 212\n",
      "F1 Score: 0.24285714285714285\n",
      "New dig: 37 \tTask id 193\n",
      "['(T02) A subtopic']\n",
      "['(T02) A subtopic']\n",
      "[\"turn number: 4, author: Explainee, turn text: connectome [SEP] It's a large scale attempt to understand the wiring map of the brain, essentially., label: (T01) It is the main topic.\"]\n",
      "['(T02) A subtopic.']\n",
      "[\"turn number: 6, author: Explainee, turn text: connectome [SEP] It's a large scale attempt to understand the wiring map of the brain, essentially., label: (T01) It is the main topic.\"]\n",
      "['(T02) A subtopic.']\n",
      "['(T02) A subtopic.']\n",
      "['(T01) It is the main topic.']\n",
      "['(T03) A related topic.']\n",
      "['(T03) A related topic.']\n",
      "Correct 0 , Incorrect: 10\n",
      "Overall correct 68 , Overall incorrect: 222\n",
      "F1 Score: 0.23448275862068965\n",
      "New dig: 38 \tTask id 28577\n",
      "['(T02) A subtopic.']\n",
      "['(T04) Other - No topic was introduced.']\n",
      "['(T04) Other - No topic was introduced.']\n",
      "['(T01) It is the main topic.']\n",
      "['(T01) It is the main topic.']\n",
      "['(T04) Other - No topic was introduced.']\n",
      "Correct 1 , Incorrect: 5\n",
      "Overall correct 69 , Overall incorrect: 227\n",
      "F1 Score: 0.23310810810810811\n",
      "New dig: 39 \tTask id 28719\n",
      "['(T02) A subtopic']\n",
      "['(T03) A related topic.']\n",
      "['(T03) A related topic.']\n",
      "['(T04) Other - No topic was introduced.']\n",
      "['(T04) Other - No topic was introduced.']\n",
      "Correct 3 , Incorrect: 2\n",
      "Overall correct 72 , Overall incorrect: 229\n",
      "F1 Score: 0.23920265780730898\n",
      "New dig: 40 \tTask id 28728\n",
      "['(T02) A subtopic.']\n",
      "['(T02) A subtopic.']\n",
      "['turn number: 1, author: Explainee, turn text: how is Erdogan threatening to let migrants into Europe actually a threat when migrants are so great? [SEP] how is Erdogan threatening to let migrants into Europe actually a threat when migrants are so great?, label: (T01) It is the main topic.\\nturn number: 2, author: Explainer, turn text: how is Erdogan threatening to let migrants into Europe actually a threat when migrants are so great? [SEP] &gt; Taking people in is a service that the EU provides now? How much are they getting paid for this service?\\n\\nSweetie, you really need to pick up a newspaper occasionally. You’re displaying some profound ignorance now., label: (T04) Other - No topic was introduced.\\nturn number: 3, author: Explainee, turn text: how is Erdogan threatening to let migrants into Europe actually a threat when migrants are so great? [SEP] Sweaty, answer the question., label: (T04) Other - No topic was introduced.']\n",
      "['(T04) Other - No topic was introduced.']\n",
      "['(T04) Other - No topic was introduced.']\n",
      "Correct 2 , Incorrect: 3\n",
      "Overall correct 74 , Overall incorrect: 232\n",
      "F1 Score: 0.24183006535947713\n",
      "New dig: 41 \tTask id 28477\n",
      "['(T02) A subtopic.']\n",
      "['(T04) Other - No topic was introduced.']\n",
      "['(T05) Other - No topic was introduced.']\n",
      "['(T04) Other - No topic was introduced.']\n",
      "['(T04) Other - No topic was introduced.']\n",
      "['(T04) Other - No topic was introduced.']\n",
      "['(T03) A related topic.']\n",
      "['(T03) A related topic.']\n",
      "Correct 2 , Incorrect: 6\n",
      "Overall correct 76 , Overall incorrect: 238\n",
      "F1 Score: 0.24203821656050956\n",
      "New dig: 42 \tTask id 183\n",
      "['(T02) A subtopic']\n",
      "['(T02) A subtopic']\n",
      "['(T04) Other - No topic was introduced.']\n",
      "['(T01) It is the main topic.']\n",
      "[\"turn number: 6, author: Explainee, turn text: gravity [SEP] So, what I'm looking at is states of matter that might exist inside neutron stars. So, when a star dies, if the star is massive enough, there's a huge explosion, called a supernova, and the stuff that's left behind that doesn't get blown away collapses into a tiny compact blob called a neutron star., label: (T03) A related topic.\"]\n",
      "['(T04) Other - No topic was introduced.']\n",
      "['(T02) A subtopic.']\n",
      "['(T01) It is the main topic.']\n",
      "['(T01) It is the main topic.']\n",
      "['(T02) A subtopic.']\n",
      "Correct 2 , Incorrect: 8\n",
      "Overall correct 78 , Overall incorrect: 246\n",
      "F1 Score: 0.24074074074074073\n",
      "New dig: 43 \tTask id 28743\n",
      "['(T02) A subtopic.']\n",
      "['(T02) A subtopic.']\n",
      "['(T04) Other - No topic was introduced.']\n",
      "['(T04) Other - No topic was introduced.']\n",
      "['(T04) Other - No topic was introduced.']\n",
      "Correct 3 , Incorrect: 2\n",
      "Overall correct 81 , Overall incorrect: 248\n",
      "F1 Score: 0.24620060790273557\n",
      "New dig: 44 \tTask id 28517\n",
      "['(T02) A subtopic.']\n",
      "['(T02) A subtopic.']\n",
      "['(T04) Other - No topic was introduced.']\n",
      "['(T04) Other - No topic was introduced.']\n",
      "['(T04) Other - No topic was introduced.']\n",
      "['(T04) Other - No topic was introduced.']\n",
      "['(T04) Other - No topic was introduced.']\n",
      "Correct 0 , Incorrect: 7\n",
      "Overall correct 81 , Overall incorrect: 255\n",
      "F1 Score: 0.24107142857142858\n",
      "New dig: 45 \tTask id 28635\n",
      "['(T02) A subtopic.']\n",
      "['(T02) A subtopic.']\n",
      "['(T04) Other - No topic was introduced.']\n",
      "['(T04) Other - No topic was introduced.']\n",
      "['(T04) Other - No topic was introduced.']\n",
      "['(T04) Other - No topic was introduced.']\n",
      "Correct 2 , Incorrect: 4\n",
      "Overall correct 83 , Overall incorrect: 259\n",
      "F1 Score: 0.24269005847953215\n",
      "New dig: 46 \tTask id 28597\n",
      "['(T02) A subtopic']\n",
      "[\"It is doable, but it's much, much easier if you have a family support system that helps take care of these things. For many, taking out loans is the best option. My hourly wage went from $7/hr to $32/hr the year I graduated. It made sense to take out loans for living expenses and do the absolute best I could in college to maximize the odds of me starting at $32/hr instead of $23/hr.\"]\n",
      "[\"It is doable, but it's much, much easier if you have a family support system that helps take care of these things. For many, taking out loans is the best option. My hourly wage went from $7/hr to $32/hr the year I graduated. It made sense to take out loans for living expenses and do the absolute best I could in college to maximize the odds of me starting at $32/hr instead of $23/hr.\"]\n",
      "['(T04) Other - No topic was introduced.']\n",
      "['(T01) It is the main topic.']\n",
      "['(T01) It is the main topic.']\n",
      "Correct 0 , Incorrect: 6\n",
      "Overall correct 83 , Overall incorrect: 265\n",
      "F1 Score: 0.23850574712643677\n",
      "New dig: 47 \tTask id 28814\n",
      "['(T02) A subtopic.']\n",
      "['(T02) A subtopic.']\n",
      "['(T04) Other - No topic was introduced.']\n",
      "['(T04) Other - No topic was introduced.']\n",
      "['(T03) A related topic.']\n",
      "Correct 2 , Incorrect: 3\n",
      "Overall correct 85 , Overall incorrect: 268\n",
      "F1 Score: 0.24079320113314448\n",
      "New dig: 48 \tTask id 146\n",
      "['(T02) A subtopic']\n",
      "['(T02) A subtopic.']\n",
      "['(T02) A subtopic.']\n",
      "['(T02) A subtopic']\n",
      "['turn number: 5, author: Explainee, turn text: virtual reality [SEP] Or in Minecraft., label: (T03) A related topic.']\n",
      "['(T02) A subtopic.']\n",
      "['(T04) Other - No topic was introduced.']\n",
      "Correct 0 , Incorrect: 7\n",
      "Overall correct 85 , Overall incorrect: 275\n",
      "F1 Score: 0.2361111111111111\n",
      "New dig: 49 \tTask id 28601\n",
      "['(T02) A subtopic.']\n",
      "['(T02) A subtopic.']\n",
      "['(T02) A subtopic.']\n",
      "['(T04) Other - No topic was introduced.']\n",
      "['(T04) Other - No topic was introduced.']\n",
      "['(T04) Other - No topic was introduced.']\n",
      "Correct 1 , Incorrect: 5\n",
      "Overall correct 86 , Overall incorrect: 280\n",
      "F1 Score: 0.23497267759562843\n",
      "New dig: 50 \tTask id 28839\n",
      "['(T02) A subtopic.']\n",
      "['turn number: 3, author: Explainer, turn text: I\\'ve talked to enough ladies to know that being a woman basically means \"there\\'s a million things out there that want render me incapable of holding in urine, and one of them will eventually get me\".  Definitely better than having a fucked up uterus that\\'s trying to kill you (from age 15 until that thing came out, her periods were basically a solid week shooting a firehose of blood out of her crotch)., label: (T04) Other - No topic was introduced.']\n",
      "['(T04) Other - No topic was introduced.']\n",
      "['(T04) Other - No topic was introduced.']\n",
      "['(T04) Other - No topic was introduced.']\n",
      "Correct 0 , Incorrect: 5\n",
      "Overall correct 86 , Overall incorrect: 285\n",
      "F1 Score: 0.23180592991913745\n",
      "New dig: 51 \tTask id 28344\n",
      "['(T02) A subtopic.']\n",
      "['(T02) A subtopic.']\n",
      "['turn number: 4, author: Explainee, turn text: How does an electrical wave between neurons become conscious thought? [SEP] Just as you have no evidence that says there is nothing after you die, label: (T04) Other - No topic was introduced.']\n",
      "['turn number: 5, author: Explainee, turn text: How does an electrical wave between neurons become conscious thought? [SEP] Just as you have no evidence that says there is nothing after you die, label: (T04) Other - No topic was introduced.']\n",
      "['(T04) Other - No topic was introduced.']\n",
      "['(T04) Other - No topic was introduced.']\n",
      "['turn number: 1, author: Explainee, turn text: How does an electrical wave between neurons become conscious thought? [SEP] Just as you have no evidence that says there is nothing after you die, label: (T04) Other - No topic was introduced.\\nturn number: 2, author: Explainer, turn text: How does an electrical wave between neurons become conscious thought? [SEP] Incorrect, on the contrary, ALL the evidence points to exactly that.\\nturn number: 3, author: Explainee, turn text: How does an electrical wave between neurons become conscious thought? [SEP] A shitty UK tabloid is science now? \\n\\nCongrats, you played yourself, label: (T04) Other - No topic was introduced.\\nturn number: 4, author: Explainer, turn text: How does an electrical wave between neurons become conscious thought? [SEP] Them: Sean Carroll, a cosmologist and physics professor at the California Institute of Technology, \\n\\nYou: dumbfuck stoner.\\n\\nThanks for the intellectual']\n",
      "['(T01) It is the main topic.']\n",
      "['(T04) Other - No topic was introduced.']\n",
      "['(T01) It is the main topic.']\n",
      "Correct 1 , Incorrect: 9\n",
      "Overall correct 87 , Overall incorrect: 294\n",
      "F1 Score: 0.2283464566929134\n",
      "New dig: 52 \tTask id 28559\n",
      "['(T02) A subtopic.']\n",
      "['(T02) A subtopic.']\n",
      "['(T02) A subtopic.']\n",
      "['(T02) A subtopic.']\n",
      "['(T04) Other - No topic was introduced.']\n",
      "['(T04) Other - No topic was introduced.']\n",
      "['(T04) Other - No topic was introduced.']\n",
      "Correct 1 , Incorrect: 6\n",
      "Overall correct 88 , Overall incorrect: 300\n",
      "F1 Score: 0.2268041237113402\n",
      "New dig: 53 \tTask id 28807\n",
      "['(T02) A subtopic']\n",
      "['(T02) A subtopic']\n",
      "['(T04) Other - No topic was introduced.']\n",
      "['(T04) Other - No topic was introduced.']\n",
      "['(T01) It is the main topic.']\n",
      "Correct 1 , Incorrect: 4\n",
      "Overall correct 89 , Overall incorrect: 304\n",
      "F1 Score: 0.22646310432569974\n",
      "New dig: 54 \tTask id 28530\n",
      "['(T02) A subtopic.']\n",
      "['(T03) A related topic.']\n",
      "['turn number: 4, author: Explainee, turn text: How do women keep themselves from getting water up their vajayjay when they go swimming? [SEP] Usually the wiener., label: (T04) Other - No topic was introduced.']\n",
      "['turn number: 5, author: Explainee, turn text: Wait, are you 5?, label: (T04) Other - No topic was introduced.']\n",
      "['(T04) Other - No topic was introduced.']\n",
      "['(T04) Other - No topic was introduced.']\n",
      "['(T04) Other - No topic was introduced.']\n",
      "Correct 4 , Incorrect: 3\n",
      "Overall correct 93 , Overall incorrect: 307\n",
      "F1 Score: 0.2325\n",
      "New dig: 55 \tTask id 28467\n",
      "['(T02) A subtopic.']\n",
      "['(T01) It is the main topic.']\n",
      "[\"turn number: 1, author: Explainee, turn text: How is alcoholism a disease? [SEP] How is alcoholism a disease?, label: (T01) It is the main topic.\\nturn number: 2, author: Explainer, turn text: How is alcoholism a disease? [SEP] &gt;it's called a disease because people can't manage to sort themselves out?\\n\\nNo, it's called a disease because it meets the standard definition of a disease, as described above in other comments.\\n\\nThe writers of South Park are not medical experts, and you shouldn't perceive their jokes as medical opinions., label: (T01) It is the main topic.\\nturn number: 3, author: Explainee, turn text: How is alcoholism a disease? [SEP] As if anybody takes South Park seriously dipshit. \\n\\nSo because a bunch or unknown doctors call something a disease everyone just agrees. Cool., label: (T04) Other - No topic was introduced.\"]\n",
      "['(T02) A subtopic.']\n",
      "['(T01) It is the main topic.']\n",
      "['(T03) A related topic.']\n",
      "['(T03) A related topic.']\n",
      "['(T01) It is the main topic.']\n",
      "Correct 1 , Incorrect: 7\n",
      "Overall correct 94 , Overall incorrect: 314\n",
      "F1 Score: 0.23039215686274508\n",
      "New dig: 56 \tTask id 28342\n",
      "['(T02) A subtopic.']\n",
      "['(T01) It is the main topic.']\n",
      "['(T04) Other - No topic was introduced.']\n",
      "['(T04) Other - No topic was introduced.']\n",
      "['(T01) It is the main topic.']\n",
      "['(T01) It is the main topic.']\n",
      "['(T01) It is the main topic.']\n",
      "['(T01) It is the main topic.']\n",
      "['(T01) It is the main topic.']\n",
      "['label: (T01) It is the main topic.']\n",
      "Correct 5 , Incorrect: 5\n",
      "Overall correct 99 , Overall incorrect: 319\n",
      "F1 Score: 0.23684210526315788\n",
      "New dig: 57 \tTask id 28648\n",
      "['(T02) A subtopic']\n",
      "['(T02) A subtopic.']\n",
      "['(T04) Other - No topic was introduced.']\n",
      "['(T05) Other - No topic was introduced.']\n",
      "['(T04) Other - No topic was introduced.']\n",
      "['(T04) Other - No topic was introduced.']\n",
      "Correct 0 , Incorrect: 6\n",
      "Overall correct 99 , Overall incorrect: 325\n",
      "F1 Score: 0.23349056603773585\n",
      "New dig: 58 \tTask id 28538\n",
      "['(T02) A subtopic.']\n",
      "['(T02) A subtopic.']\n",
      "['(T04) Other - No topic was introduced.']\n",
      "['(T04) Other - No topic was introduced.']\n",
      "['(T01) It is the main topic.']\n",
      "['(T03) A related topic.']\n",
      "['(T03) A related topic.']\n",
      "Correct 0 , Incorrect: 7\n",
      "Overall correct 99 , Overall incorrect: 332\n",
      "F1 Score: 0.2296983758700696\n",
      "New dig: 59 \tTask id 203\n",
      "['(T02) A subtopic']\n",
      "['(T02) A subtopic.']\n",
      "['(T02) A subtopic.']\n",
      "['(T02) A subtopic.']\n",
      "[\"turn number: 1, author: Explainee, turn text: blackhole [SEP] blackhole, label: (T01) It is the main topic.\\nturn number: 2, author: Explainer, turn text: blackhole [SEP] What got you interested in studying black holes?, label: (T01) It is the main topic.\\nturn number: 3, author: Explainee, turn text: blackhole [SEP] The way I got really interested in this field is I actually first came to Caltech as a summer student, and I started working in this research group called the NuSTAR Group. Right now I'm doing my PhD in the field of active galactic nuclei, which are the most luminous compact objects in the universe, and it's because of the extreme accretion that we're seeing onto these super massive black holes. We don't have such a simple picture, that this central black hole is surrounded by this donut shaped torus of material, and that all these different classes of AGN simply arise from a viewing angle effect of this torus, as a very oversimplified geometry\"]\n",
      "['(T02) A subtopic.']\n",
      "['(T04) Other - No topic was introduced.']\n",
      "['(T03) A related topic.']\n",
      "['(T03) A related topic.']\n",
      "['(T03) A related topic.']\n",
      "Correct 3 , Incorrect: 7\n",
      "Overall correct 102 , Overall incorrect: 339\n",
      "F1 Score: 0.23129251700680273\n",
      "New dig: 60 \tTask id 189\n",
      "['(T02) A subtopic']\n",
      "['turn number: 3, author: Explainer, turn text: dimensions [SEP] dimensions, label: (T01) It is the main topic.']\n",
      "['(T02) A subtopic']\n",
      "['(T04) Other - No topic was introduced.']\n",
      "['(T02) A subtopic']\n",
      "['(T02) A subtopic']\n",
      "['(T04) Other - No topic was introduced.']\n",
      "['(T02) A subtopic']\n",
      "['(T01) It is the main topic.']\n",
      "['(T01) It is the main topic.']\n",
      "Correct 2 , Incorrect: 8\n",
      "Overall correct 104 , Overall incorrect: 347\n",
      "F1 Score: 0.23059866962305986\n",
      "New dig: 61 \tTask id 174\n",
      "['(T02) A subtopic']\n",
      "['turn number: 3, author: Explainee, turn text: lasers [SEP] lasers, label: (T01) It is the main topic.']\n",
      "['(T02) A subtopic']\n",
      "['(T04) Other - No topic was introduced.']\n",
      "['(T04) Other - No topic was introduced.']\n",
      "['(T04) Other - No topic was introduced.']\n",
      "['(T02) A subtopic.']\n",
      "['(T04) Other - No topic was introduced.']\n",
      "['(T01) It is the main topic.']\n",
      "['(T04) Other - No topic was introduced.']\n",
      "Correct 3 , Incorrect: 7\n",
      "Overall correct 107 , Overall incorrect: 354\n",
      "F1 Score: 0.23210412147505424\n",
      "New dig: 62 \tTask id 28615\n",
      "['(T02) A subtopic.']\n",
      "['(T02) A subtopic.']\n",
      "[\"turn number: 1, author: Explainee, turn text: Why do Narcoanalysis tests not used in every trial to speed up case resolutions worldwide? [SEP] Why do Narcoanalysis tests not used in every trial to speed up case resolutions worldwide?, label: (T01) It is the main topic.\\nturn number: 2, author: Explainer, turn text: Why do Narcoanalysis tests not used in every trial to speed up case resolutions worldwide? [SEP] **Your submission has been removed for the following reason(s):**\\n\\nfocuses on objective explanations. Soapboxing isn't appropriate in this venue.\\n\\nAlso, the technique is far from reliable., label: (T03) A related topic.\\nturn number: 3, author: Explainee, turn text: Why do Narcoanalysis tests not used in every trial to speed up case resolutions worldwide? [SEP] What on God's green earth is soapboxing?\\n\\nHmm... maybe I should make an for that., label: (T03) A related topic.\"]\n",
      "['(T04) Other - No topic was introduced.']\n",
      "['(T03) A related topic.']\n",
      "['(T03) A related topic.']\n",
      "Correct 2 , Incorrect: 4\n",
      "Overall correct 109 , Overall incorrect: 358\n",
      "F1 Score: 0.2334047109207709\n",
      "New dig: 63 \tTask id 28699\n",
      "['(T02) A subtopic.']\n",
      "['(T02) A subtopic.']\n",
      "['(T04) Other - No topic was introduced.']\n",
      "['(T04) Other - No topic was introduced.']\n",
      "['(T01) It is the main topic.']\n",
      "Correct 0 , Incorrect: 5\n",
      "Overall correct 109 , Overall incorrect: 363\n",
      "F1 Score: 0.2309322033898305\n",
      "New dig: 64 \tTask id 28510\n",
      "['(T02) A subtopic.']\n",
      "['(T02) A subtopic.']\n",
      "['(T02) A subtopic.']\n",
      "['(T04) Other - No topic was introduced.']\n",
      "['(T04) Other - No topic was introduced.']\n",
      "['(T01) It is the main topic.']\n",
      "['(T03) A related topic.']\n",
      "Correct 1 , Incorrect: 6\n",
      "Overall correct 110 , Overall incorrect: 369\n",
      "F1 Score: 0.22964509394572025\n",
      "New dig: 65 \tTask id 28836\n",
      "['(T02) A subtopic.']\n",
      "['(T01) It is the main topic.']\n",
      "['(T04) Other - No topic was introduced.']\n",
      "['(T04) Other - No topic was introduced.']\n",
      "['(T04) Other - No topic was introduced.']\n",
      "Correct 1 , Incorrect: 4\n",
      "Overall correct 111 , Overall incorrect: 373\n",
      "F1 Score: 0.22933884297520662\n",
      "New dig: 66 \tTask id 169\n",
      "['(T02) A subtopic']\n",
      "['(T02) A subtopic.']\n",
      "['turn number: 4, author: Explainee, turn text: machine learning [SEP] machine_learning, label: (T01) It is the main topic.']\n",
      "['(T04) Other - No topic was introduced.']\n",
      "['(T01) It is the main topic.']\n",
      "['(T04) Other - No topic was introduced.']\n",
      "['(T02) A subtopic.']\n",
      "['(T02) A subtopic.']\n",
      "['(T02) A subtopic.']\n",
      "['(T04) Other - No topic was introduced.']\n",
      "Correct 3 , Incorrect: 7\n",
      "Overall correct 114 , Overall incorrect: 380\n",
      "F1 Score: 0.23076923076923078\n",
      "New dig: 67 \tTask id 28846\n",
      "['(T02) A subtopic.']\n",
      "['It is the main topic.']\n",
      "['(T01) It is the main topic.']\n",
      "['(T01) It is the main topic.']\n",
      "['(T01) It is the main topic.']\n",
      "Correct 3 , Incorrect: 2\n",
      "Overall correct 117 , Overall incorrect: 382\n",
      "F1 Score: 0.23446893787575152\n",
      "New dig: 68 \tTask id 28564\n",
      "['(T02) A subtopic.']\n",
      "['(T02) A subtopic.']\n",
      "['(T04) Other - No topic was introduced.']\n",
      "['(T03) A related topic.']\n",
      "['(T03) A related topic.']\n",
      "['(T03) A related topic.']\n",
      "['(T03) A related topic.']\n",
      "Correct 2 , Incorrect: 5\n",
      "Overall correct 119 , Overall incorrect: 387\n",
      "F1 Score: 0.23517786561264822\n",
      "New dig: 69 \tTask id 28608\n",
      "['(T02) A subtopic']\n",
      "['(T02) A subtopic']\n",
      "['(T04) Other - No topic was introduced.']\n",
      "['(T04) Other - No topic was introduced.']\n",
      "['(T01) It is the main topic.']\n",
      "['(T04) Other - No topic was introduced.']\n",
      "Correct 2 , Incorrect: 4\n",
      "Overall correct 121 , Overall incorrect: 391\n",
      "F1 Score: 0.236328125\n",
      "New dig: 70 \tTask id 28642\n",
      "['(T02) A subtopic.']\n",
      "['(T02) A subtopic.']\n",
      "['(T02) A subtopic.']\n",
      "['(T04) Other - No topic was introduced.']\n",
      "['(T04) Other - No topic was introduced.']\n",
      "['(T04) Other - No topic was introduced.']\n",
      "Correct 2 , Incorrect: 4\n",
      "Overall correct 123 , Overall incorrect: 395\n",
      "F1 Score: 0.23745173745173745\n",
      "New dig: 71 \tTask id 28447\n",
      "['(T02) A subtopic.']\n",
      "['(T04) Other - No topic was introduced.']\n",
      "['(T04) Other - No topic was introduced.']\n",
      "['(T04) Other - No topic was introduced.']\n",
      "['(T03) A related topic.']\n",
      "['(T04) Other - No topic was introduced.']\n",
      "['(T04) Other - No topic was introduced.']\n",
      "['(T04) Other - No topic was introduced.']\n",
      "['(T04) Other - No topic was introduced.']\n",
      "Correct 1 , Incorrect: 8\n",
      "Overall correct 124 , Overall incorrect: 403\n",
      "F1 Score: 0.23529411764705882\n",
      "New dig: 72 \tTask id 28804\n",
      "['(T02) A subtopic.']\n",
      "['(T02) A subtopic.']\n",
      "['(T02) A subtopic.']\n",
      "['(T01) It is the main topic.']\n",
      "['(T04) Other - No topic was introduced.']\n",
      "Correct 1 , Incorrect: 4\n",
      "Overall correct 125 , Overall incorrect: 407\n",
      "F1 Score: 0.2349624060150376\n",
      "New dig: 73 \tTask id 28409\n",
      "['(T02) A subtopic.']\n",
      "['(T01) It is the main topic.']\n",
      "['(T01) It is the main topic.']\n",
      "['(T01) It is the main topic.']\n",
      "['(T01) It is the main topic.']\n",
      "['(T01) It is the main topic.']\n",
      "['(T02) A subtopic.']\n",
      "['(T02) A subtopic.']\n",
      "['(T02) A subtopic.']\n",
      "Correct 5 , Incorrect: 4\n",
      "Overall correct 130 , Overall incorrect: 411\n",
      "F1 Score: 0.24029574861367836\n",
      "New dig: 74 \tTask id 204\n",
      "['(T02) A subtopic']\n",
      "['(T02) A subtopic.']\n",
      "['(T02) A subtopic']\n",
      "['(T04) Other - No topic was introduced.']\n",
      "['(T04) Other - No topic was introduced.']\n",
      "Correct 1 , Incorrect: 4\n",
      "Overall correct 131 , Overall incorrect: 415\n",
      "F1 Score: 0.23992673992673993\n",
      "New dig: 75 \tTask id 28406\n",
      "['(T02) A subtopic.']\n",
      "['(T02) A subtopic.']\n",
      "['(T04) Other - No topic was introduced.']\n",
      "['(T04) Other - No topic was introduced.']\n",
      "['(T04) Other - No topic was introduced.']\n",
      "['(T01) It is the main topic.']\n",
      "['(T04) Other - No topic was introduced.']\n",
      "['turn number: 1, author: Explainer, turn text: It is the main topic.']\n",
      "['###']\n",
      "Correct 1 , Incorrect: 8\n",
      "Overall correct 132 , Overall incorrect: 423\n",
      "F1 Score: 0.23783783783783785\n",
      "New dig: 76 \tTask id 28399\n",
      "['(T02) A subtopic.']\n",
      "['(T02) A subtopic.']\n",
      "[\"turn number: 4, author: Explainer, turn text: Why does/How can Walmart deny unions? [SEP] I didn't say they didn't.  So what's your question?, label: (T04) Other - No topic was introduced.\"]\n",
      "['(T04) Other - No topic was introduced.']\n",
      "['(T01) It is the main topic.']\n",
      "['(T04) Other - No topic was introduced.']\n",
      "['(T01) It is the main topic.']\n",
      "['(T01) It is the main topic.']\n",
      "['(T01) It is the main topic.']\n",
      "Correct 4 , Incorrect: 5\n",
      "Overall correct 136 , Overall incorrect: 428\n",
      "F1 Score: 0.24113475177304963\n",
      "New dig: 77 \tTask id 28875\n",
      "['(T02) A subtopic.']\n",
      "['(T02) A subtopic.']\n",
      "['(T02) A subtopic.']\n",
      "['(T04) Other - No topic was introduced.']\n",
      "['(T01) It is the main topic.']\n",
      "Correct 1 , Incorrect: 4\n",
      "Overall correct 137 , Overall incorrect: 432\n",
      "F1 Score: 0.24077328646748683\n",
      "New dig: 78 \tTask id 150\n",
      "['(T02) A subtopic']\n",
      "['(T02) A subtopic']\n",
      "['(T02) A subtopic']\n",
      "['(T04) Other - No topic was introduced.']\n",
      "['(T04) Other - No topic was introduced.']\n",
      "['(T02) A subtopic']\n",
      "['(T02) A subtopic']\n",
      "['(T02) A subtopic.']\n",
      "['(T02) A subtopic.']\n",
      "['(T02) A subtopic.']\n",
      "Correct 2 , Incorrect: 8\n",
      "Overall correct 139 , Overall incorrect: 440\n",
      "F1 Score: 0.24006908462867013\n",
      "New dig: 79 \tTask id 28698\n",
      "['(T02) A subtopic.']\n",
      "['(T02) A subtopic.']\n",
      "['(T02) A subtopic.']\n",
      "['(T04) Other - No topic was introduced.']\n",
      "['(T03) A related topic.']\n",
      "['(T03) A related topic.']\n",
      "Correct 1 , Incorrect: 5\n",
      "Overall correct 140 , Overall incorrect: 445\n",
      "F1 Score: 0.23931623931623933\n",
      "New dig: 80 \tTask id 28863\n",
      "['(T02) A subtopic.']\n",
      "['(T02) A subtopic.']\n",
      "['(T04) Other - No topic was introduced.']\n",
      "['(T02) A subtopic.']\n",
      "['(T01) It is the main topic.']\n",
      "Correct 1 , Incorrect: 4\n",
      "Overall correct 141 , Overall incorrect: 449\n",
      "F1 Score: 0.23898305084745763\n",
      "New dig: 81 \tTask id 206\n",
      "['(T02) A subtopic']\n",
      "['(T02) A subtopic.']\n",
      "['(T02) A subtopic.']\n",
      "['(T04) Other - No topic was introduced.']\n",
      "['(T02) A subtopic.']\n",
      "['(T02) A subtopic.']\n",
      "['(T04) Other - No topic was introduced.']\n",
      "['(T04) Other - No topic was introduced.']\n",
      "['(T02) A subtopic.']\n",
      "['(T04) Other - No topic was introduced.']\n",
      "Correct 3 , Incorrect: 7\n",
      "Overall correct 144 , Overall incorrect: 456\n",
      "F1 Score: 0.24\n",
      "New dig: 82 \tTask id 28658\n",
      "['(T02) A subtopic.']\n",
      "['(T02) A subtopic.']\n",
      "['(T04) Other - No topic was introduced.']\n",
      "['(T04) Other - No topic was introduced.']\n",
      "['(T04) Other - No topic was introduced.']\n",
      "['label: (T01) It is the main topic.']\n",
      "Correct 3 , Incorrect: 3\n",
      "Overall correct 147 , Overall incorrect: 459\n",
      "F1 Score: 0.24257425742574257\n",
      "New dig: 83 \tTask id 156\n",
      "['(T02) A subtopic']\n",
      "['(T02) A subtopic.']\n",
      "['(T03) A related topic.']\n",
      "['(T04) Other - No topic was introduced.']\n",
      "['(T04) Other - No topic was introduced.']\n",
      "['(T02) A subtopic.']\n",
      "['(T04) Other - No topic was introduced.']\n",
      "['(T02) A subtopic.']\n",
      "['(T04) Other - No topic was introduced.']\n",
      "['(T04) Other - No topic was introduced.']\n",
      "Correct 4 , Incorrect: 6\n",
      "Overall correct 151 , Overall incorrect: 465\n",
      "F1 Score: 0.24512987012987014\n",
      "New dig: 84 \tTask id 28435\n",
      "['(T02) A subtopic.']\n",
      "['(T04) Other - No topic was introduced.']\n",
      "['(T04) Other - No topic was introduced.']\n",
      "['(T02) A subtopic.']\n",
      "['(T02) A subtopic.']\n",
      "['(T02) A subtopic.']\n",
      "['(T02) A subtopic.']\n",
      "['(T02) A subtopic.']\n",
      "['(T02) A subtopic.']\n",
      "Correct 6 , Incorrect: 3\n",
      "Overall correct 157 , Overall incorrect: 468\n",
      "F1 Score: 0.2512\n",
      "New dig: 85 \tTask id 182\n",
      "['(T02) A subtopic']\n",
      "['(T02) A subtopic']\n",
      "['(T04) Other - No topic was introduced.']\n",
      "['(T05) Other - No topic was introduced.']\n",
      "['(T04) Other - No topic was introduced.']\n",
      "['(T04) Other - No topic was introduced.']\n",
      "['(T03) A related topic.']\n",
      "['(T03) A related topic.']\n",
      "['(T03) A related topic.']\n",
      "['(T03) A related topic.']\n",
      "Correct 4 , Incorrect: 6\n",
      "Overall correct 161 , Overall incorrect: 474\n",
      "F1 Score: 0.25354330708661416\n",
      "New dig: 86 \tTask id 28858\n",
      "['(T02) A subtopic.']\n",
      "['(T02) A subtopic.']\n",
      "['(T02) A subtopic.']\n",
      "['(T02) A subtopic.']\n",
      "['(T04) Other - No topic was introduced.']\n",
      "Correct 0 , Incorrect: 5\n",
      "Overall correct 161 , Overall incorrect: 479\n",
      "F1 Score: 0.2515625\n",
      "New dig: 87 \tTask id 28770\n",
      "['(T02) A subtopic.']\n",
      "['(T02) A subtopic.']\n",
      "['(T04) Other - No topic was introduced.']\n",
      "['(T01) It is the main topic.']\n",
      "['(T04) Other - No topic was introduced.']\n",
      "Correct 1 , Incorrect: 4\n",
      "Overall correct 162 , Overall incorrect: 483\n",
      "F1 Score: 0.25116279069767444\n",
      "New dig: 88 \tTask id 28541\n",
      "['(T02) A subtopic.']\n",
      "['(T02) A subtopic.']\n",
      "['turn number: 4, author: Explainer, turn text: Pretty much this until we get bacteriophages pubicly available in the US, then we can just make it over the counter., label: (T01) It is the main topic.']\n",
      "['(T03) A related topic.']\n",
      "['(T03) A related topic.']\n",
      "['(T04) Other - No topic was introduced.']\n",
      "['(T04) Other - No topic was introduced.']\n",
      "Correct 1 , Incorrect: 6\n",
      "Overall correct 163 , Overall incorrect: 489\n",
      "F1 Score: 0.25\n",
      "New dig: 89 \tTask id 28632\n",
      "['(T02) A subtopic.']\n",
      "['(T02) A subtopic.']\n",
      "['turn number: 4, author: Explainee, turn text: Because I am curious about this but I don\\'t feel comfortable saying the \"scientific\" word, it weirds me out a little, label: (T04) Other - No topic was introduced.']\n",
      "['(T05) It is the main topic.']\n",
      "['(T02) A subtopic.']\n",
      "['turn number: 1, author: Explainee, turn text: How do women keep themselves from getting water up their vajayjay when they go swimming? [SEP] Because I am curious about this but I don\\'t feel comfortable saying the \"scientific\" word, it weirds me out a little, label: (T04) Other - No topic was introduced.\\nturn number: 2, author: Explainer, turn text: How do women keep themselves from getting water up their vajayjay when they go swimming? [SEP] Sounds to me like you need to grow up considering you said you were 21 in another thread. Also why did you put scientific in quotes? It\\'s like you\\'re implying the name isn\\'t scientific., label: (T04) Other - No topic was introduced.\\nturn number: 3, author: Explainee, turn text: How do women keep themselves from getting water up their vajayjay when they go swimming? [SEP] I am 21. It\\'s scientific but a gross word., label: (T04) Other - No topic']\n",
      "Correct 0 , Incorrect: 6\n",
      "Overall correct 163 , Overall incorrect: 495\n",
      "F1 Score: 0.24772036474164133\n",
      "New dig: 90 \tTask id 28819\n",
      "['(T02) A subtopic.']\n",
      "['(T03) A related topic.']\n",
      "['(T04) Other - No topic was introduced.']\n",
      "['(T04) Other - No topic was introduced.']\n",
      "['(T02) A subtopic.']\n",
      "Correct 3 , Incorrect: 2\n",
      "Overall correct 166 , Overall incorrect: 497\n",
      "F1 Score: 0.25037707390648567\n",
      "New dig: 91 \tTask id 28811\n",
      "['(T02) A subtopic']\n",
      "['(T02) A subtopic.']\n",
      "['(T04) Other - No topic was introduced.']\n",
      "['Based on the provided dialogue turns and their respective labels, predict only the label of the next turn in the dialogue!!!']\n",
      "['(T01) It is the main topic.']\n",
      "Correct 1 , Incorrect: 4\n",
      "Overall correct 167 , Overall incorrect: 501\n",
      "F1 Score: 0.25\n"
     ]
    }
   ],
   "source": [
    "#run the experiment for predicting topic labels validset\n",
    "results_topic = []\n",
    "correct, incorrect = 0, 0\n",
    "for i in range(92):\n",
    "    print(\"New dig:\", i, \"\\tTask id\", valid_df.iloc[i]['task_id'])\n",
    "    result_dig = test_one_dig_topic(valid_df.iloc[i])\n",
    "    results_topic.append((result_dig[0], result_dig[1]))\n",
    "    correct += result_dig[0]\n",
    "    incorrect += result_dig[1]\n",
    "    print(\"Correct\", result_dig[0], ', Incorrect:', result_dig[1])\n",
    "    print(\"Overall correct\", correct, ', Overall incorrect:', incorrect)\n",
    "    print(\"F1 Score:\", correct / (correct + incorrect))"
   ]
  }
 ],
 "metadata": {
  "kernelspec": {
   "display_name": "Python 3 (ipykernel)",
   "language": "python",
   "name": "python3"
  },
  "language_info": {
   "codemirror_mode": {
    "name": "ipython",
    "version": 3
   },
   "file_extension": ".py",
   "mimetype": "text/x-python",
   "name": "python",
   "nbconvert_exporter": "python",
   "pygments_lexer": "ipython3",
   "version": "3.8.10"
  }
 },
 "nbformat": 4,
 "nbformat_minor": 4
}
